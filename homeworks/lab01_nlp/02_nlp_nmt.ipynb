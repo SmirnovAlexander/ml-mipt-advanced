{
 "cells": [
  {
   "cell_type": "markdown",
   "metadata": {
    "id": "RHK2nofOQq5R"
   },
   "source": [
    "## Lab 1"
   ]
  },
  {
   "cell_type": "markdown",
   "metadata": {
    "id": "DZClWbxMQq5V"
   },
   "source": [
    "### Part 2: Neural Machine Translation in the wild\n",
    "In the third homework you are supposed to get the best translation you can for the EN-RU translation task.\n",
    "\n",
    "Basic approach using RNNs as encoder and decoder is implemented for you. \n",
    "\n",
    "Your ultimate task is to use the techniques we've covered, e.g.\n",
    "\n",
    "* Optimization enhancements (e.g. learning rate decay)\n",
    "\n",
    "* CNN encoder (with or without positional encoding)\n",
    "\n",
    "* attention/self-attention mechanism\n",
    "\n",
    "* pretraining the language model\n",
    "\n",
    "* [Byte Pair Encoding](https://github.com/rsennrich/subword-nmt)\n",
    "\n",
    "* or just fine-tunning BERT ;)\n",
    "\n",
    "to improve the translation quality. \n",
    "\n",
    "__Please use at least three different approaches/models and compare them (translation quality/complexity/training and evaluation time).__\n",
    "\n",
    "Write down some summary on your experiments and illustrate it with convergence plots/metrics and your thoughts. Just like you would approach a real problem."
   ]
  },
  {
   "cell_type": "code",
   "execution_count": 2,
   "metadata": {
    "colab": {
     "base_uri": "https://localhost:8080/"
    },
    "executionInfo": {
     "elapsed": 2449,
     "status": "ok",
     "timestamp": 1634055098954,
     "user": {
      "displayName": "Александр Смирнов",
      "photoUrl": "https://lh3.googleusercontent.com/a-/AOh14Gg3LUBiuWlo_woqtPR_qeqRj7kvglPwk1cGmPTkiw=s64",
      "userId": "12438224675564049956"
     },
     "user_tz": -180
    },
    "id": "MpKaDfr1Qq5W",
    "outputId": "2db189b7-5f60-4c6b-dc77-a1e80b1496e2"
   },
   "outputs": [],
   "source": [
    "# You might need to install the libraries below. Do it in the desired environment\n",
    "# if you are working locally.\n",
    "\n",
    "# ! pip  install subword-nmt\n",
    "# ! pip install nltk\n",
    "# ! pip install torchtext"
   ]
  },
  {
   "cell_type": "code",
   "execution_count": 3,
   "metadata": {
    "colab": {
     "base_uri": "https://localhost:8080/"
    },
    "executionInfo": {
     "elapsed": 22,
     "status": "ok",
     "timestamp": 1634055098955,
     "user": {
      "displayName": "Александр Смирнов",
      "photoUrl": "https://lh3.googleusercontent.com/a-/AOh14Gg3LUBiuWlo_woqtPR_qeqRj7kvglPwk1cGmPTkiw=s64",
      "userId": "12438224675564049956"
     },
     "user_tz": -180
    },
    "id": "BovTpdxXQq5Y",
    "outputId": "b828a88f-b9a8-4ee5-d4c0-871d36aefcb5"
   },
   "outputs": [
    {
     "name": "stdout",
     "output_type": "stream",
     "text": [
      "Sun Nov  7 02:05:23 2021       \r\n",
      "+-----------------------------------------------------------------------------+\r\n",
      "| NVIDIA-SMI 470.74       Driver Version: 470.74       CUDA Version: 11.4     |\r\n",
      "|-------------------------------+----------------------+----------------------+\r\n",
      "| GPU  Name        Persistence-M| Bus-Id        Disp.A | Volatile Uncorr. ECC |\r\n",
      "| Fan  Temp  Perf  Pwr:Usage/Cap|         Memory-Usage | GPU-Util  Compute M. |\r\n",
      "|                               |                      |               MIG M. |\r\n",
      "|===============================+======================+======================|\r\n",
      "|   0  NVIDIA GeForce ...  Off  | 00000000:01:00.0  On |                  N/A |\r\n",
      "| N/A   52C    P5    N/A /  N/A |    304MiB /  4040MiB |      9%      Default |\r\n",
      "|                               |                      |                  N/A |\r\n",
      "+-------------------------------+----------------------+----------------------+\r\n",
      "                                                                               \r\n",
      "+-----------------------------------------------------------------------------+\r\n",
      "| Processes:                                                                  |\r\n",
      "|  GPU   GI   CI        PID   Type   Process name                  GPU Memory |\r\n",
      "|        ID   ID                                                   Usage      |\r\n",
      "|=============================================================================|\r\n",
      "|    0   N/A  N/A       398      G   /usr/lib/Xorg                     173MiB |\r\n",
      "|    0   N/A  N/A       566      G   telegram-desktop                   43MiB |\r\n",
      "|    0   N/A  N/A       698      G   ...AAAAAAAAA= --shared-files       67MiB |\r\n",
      "+-----------------------------------------------------------------------------+\r\n"
     ]
    }
   ],
   "source": [
    "!nvidia-smi"
   ]
  },
  {
   "cell_type": "code",
   "execution_count": 4,
   "metadata": {
    "executionInfo": {
     "elapsed": 11,
     "status": "ok",
     "timestamp": 1634055098955,
     "user": {
      "displayName": "Александр Смирнов",
      "photoUrl": "https://lh3.googleusercontent.com/a-/AOh14Gg3LUBiuWlo_woqtPR_qeqRj7kvglPwk1cGmPTkiw=s64",
      "userId": "12438224675564049956"
     },
     "user_tz": -180
    },
    "id": "Q4rOo2-mQq5Z"
   },
   "outputs": [],
   "source": [
    "results = {\n",
    "    \"seq2seq\": {\n",
    "        \"bleu\": 0,\n",
    "        \"n_params\": 0,\n",
    "        \"train_time\": 0,\n",
    "        \"train_loss\": [],\n",
    "        \"val_loss\": []\n",
    "    },\n",
    "    \"transformer\": {\n",
    "        \"bleu\": 0,\n",
    "        \"n_params\": 0,\n",
    "        \"train_time\": 0,\n",
    "        \"train_loss\": [],\n",
    "        \"val_loss\": []\n",
    "    }\n",
    "}"
   ]
  },
  {
   "cell_type": "code",
   "execution_count": 5,
   "metadata": {
    "colab": {
     "base_uri": "https://localhost:8080/"
    },
    "executionInfo": {
     "elapsed": 465,
     "status": "ok",
     "timestamp": 1634055099410,
     "user": {
      "displayName": "Александр Смирнов",
      "photoUrl": "https://lh3.googleusercontent.com/a-/AOh14Gg3LUBiuWlo_woqtPR_qeqRj7kvglPwk1cGmPTkiw=s64",
      "userId": "12438224675564049956"
     },
     "user_tz": -180
    },
    "id": "ZWFebFoeQq5Z",
    "outputId": "1137a295-efeb-4139-d026-af2aa44635fd"
   },
   "outputs": [
    {
     "name": "stdout",
     "output_type": "stream",
     "text": [
      "Dataset not found locally. Downloading from github. Loading special files as well\n",
      "File ‘./data/data.txt’ already there; not retrieving.\n"
     ]
    }
   ],
   "source": [
    "# Thanks to YSDA NLP course team for the data\n",
    "# (who thanks tilda and deephack teams for the data in their turn)\n",
    "\n",
    "import os\n",
    "path_do_data = '../../datasets/Machine_translation_EN_RU/data.txt'\n",
    "if not os.path.exists(path_do_data):\n",
    "    print(\"Dataset not found locally. Downloading from github. Loading special files as well\")\n",
    "    !mkdir -p data\n",
    "    !wget https://raw.githubusercontent.com/girafe-ai/ml-mipt/master/datasets/Machine_translation_EN_RU/data.txt -O ./data/data.txt -nc\n",
    "    path_do_data = './data/data.txt'"
   ]
  },
  {
   "cell_type": "code",
   "execution_count": 6,
   "metadata": {
    "executionInfo": {
     "elapsed": 3,
     "status": "ok",
     "timestamp": 1634055099411,
     "user": {
      "displayName": "Александр Смирнов",
      "photoUrl": "https://lh3.googleusercontent.com/a-/AOh14Gg3LUBiuWlo_woqtPR_qeqRj7kvglPwk1cGmPTkiw=s64",
      "userId": "12438224675564049956"
     },
     "user_tz": -180
    },
    "id": "EE6kvjYpQq5a"
   },
   "outputs": [],
   "source": [
    "if not os.path.exists('./utils.py'):\n",
    "    print(\"utils file not found locally. Downloading from github.\")\n",
    "    !wget https://raw.githubusercontent.com/girafe-ai/ml-mipt/master/homeworks_advanced/Lab1_NLP/utils.py -nc\n",
    "\n",
    "if not os.path.exists('./my_network.py'):\n",
    "    print(\"network file not found locally. Downloading from github.\")\n",
    "    !wget https://raw.githubusercontent.com/girafe-ai/ml-mipt/master/homeworks_advanced/Lab1_NLP/my_network.py -nc"
   ]
  },
  {
   "cell_type": "code",
   "execution_count": 26,
   "metadata": {
    "executionInfo": {
     "elapsed": 1308,
     "status": "ok",
     "timestamp": 1634055100717,
     "user": {
      "displayName": "Александр Смирнов",
      "photoUrl": "https://lh3.googleusercontent.com/a-/AOh14Gg3LUBiuWlo_woqtPR_qeqRj7kvglPwk1cGmPTkiw=s64",
      "userId": "12438224675564049956"
     },
     "user_tz": -180
    },
    "id": "lQXb6SKNQq5b"
   },
   "outputs": [],
   "source": [
    "import torch\n",
    "import torch.nn as nn\n",
    "import torch.optim as optim\n",
    "import torch.nn.functional as F\n",
    "\n",
    "import torchtext\n",
    "from torchtext.legacy.datasets import TranslationDataset, Multi30k\n",
    "from torchtext.legacy.data import Field, BucketIterator, TabularDataset\n",
    "\n",
    "import spacy\n",
    "\n",
    "import random\n",
    "import math\n",
    "import time\n",
    "\n",
    "import matplotlib\n",
    "matplotlib.rcParams.update({'figure.figsize': (16, 12), 'font.size': 14})\n",
    "import matplotlib.pyplot as plt\n",
    "%matplotlib inline\n",
    "from IPython.display import clear_output\n",
    "\n",
    "from nltk.tokenize import WordPunctTokenizer\n",
    "from subword_nmt.learn_bpe import learn_bpe\n",
    "from subword_nmt.apply_bpe import BPE"
   ]
  },
  {
   "cell_type": "markdown",
   "metadata": {
    "id": "RSBdF-c2Qq5c"
   },
   "source": [
    "### Main part\n",
    "__Here comes the preprocessing. Do not hesitate to use BPE or more complex preprocessing ;)__"
   ]
  },
  {
   "cell_type": "code",
   "execution_count": 7,
   "metadata": {
    "executionInfo": {
     "elapsed": 2,
     "status": "ok",
     "timestamp": 1634055100718,
     "user": {
      "displayName": "Александр Смирнов",
      "photoUrl": "https://lh3.googleusercontent.com/a-/AOh14Gg3LUBiuWlo_woqtPR_qeqRj7kvglPwk1cGmPTkiw=s64",
      "userId": "12438224675564049956"
     },
     "user_tz": -180
    },
    "id": "5SfBpcfKQq5c"
   },
   "outputs": [],
   "source": [
    "tokenizer_W = WordPunctTokenizer()\n",
    "def tokenize(x, tokenizer=tokenizer_W):\n",
    "    return tokenizer.tokenize(x.lower())"
   ]
  },
  {
   "cell_type": "code",
   "execution_count": 8,
   "metadata": {
    "executionInfo": {
     "elapsed": 2098,
     "status": "ok",
     "timestamp": 1634055103131,
     "user": {
      "displayName": "Александр Смирнов",
      "photoUrl": "https://lh3.googleusercontent.com/a-/AOh14Gg3LUBiuWlo_woqtPR_qeqRj7kvglPwk1cGmPTkiw=s64",
      "userId": "12438224675564049956"
     },
     "user_tz": -180
    },
    "id": "Qd28rvD1Qq5c"
   },
   "outputs": [],
   "source": [
    "SRC = Field(tokenize=tokenize,\n",
    "            init_token = '<sos>', \n",
    "            eos_token = '<eos>', \n",
    "            lower = True)\n",
    "\n",
    "TRG = Field(tokenize=tokenize,\n",
    "            init_token = '<sos>', \n",
    "            eos_token = '<eos>', \n",
    "            lower = True)\n",
    "\n",
    "dataset = TabularDataset(\n",
    "    path=path_do_data,\n",
    "    format='tsv',\n",
    "    fields=[('trg', TRG), ('src', SRC)]\n",
    ")"
   ]
  },
  {
   "cell_type": "code",
   "execution_count": 9,
   "metadata": {
    "executionInfo": {
     "elapsed": 35,
     "status": "ok",
     "timestamp": 1634055103131,
     "user": {
      "displayName": "Александр Смирнов",
      "photoUrl": "https://lh3.googleusercontent.com/a-/AOh14Gg3LUBiuWlo_woqtPR_qeqRj7kvglPwk1cGmPTkiw=s64",
      "userId": "12438224675564049956"
     },
     "user_tz": -180
    },
    "id": "JPuhgfXsQq5d"
   },
   "outputs": [],
   "source": [
    "train_data, valid_data, test_data = dataset.split(split_ratio=[0.8, 0.15, 0.05])"
   ]
  },
  {
   "cell_type": "code",
   "execution_count": 10,
   "metadata": {
    "colab": {
     "base_uri": "https://localhost:8080/"
    },
    "executionInfo": {
     "elapsed": 34,
     "status": "ok",
     "timestamp": 1634055103132,
     "user": {
      "displayName": "Александр Смирнов",
      "photoUrl": "https://lh3.googleusercontent.com/a-/AOh14Gg3LUBiuWlo_woqtPR_qeqRj7kvglPwk1cGmPTkiw=s64",
      "userId": "12438224675564049956"
     },
     "user_tz": -180
    },
    "id": "IIm7tMhtQq5d",
    "outputId": "c4accadc-f0aa-45dc-933a-e6f024bc40dd"
   },
   "outputs": [
    {
     "name": "stdout",
     "output_type": "stream",
     "text": [
      "Number of training examples: 40000\n",
      "Number of validation examples: 2500\n",
      "Number of testing examples: 7500\n"
     ]
    }
   ],
   "source": [
    "print(f\"Number of training examples: {len(train_data.examples)}\")\n",
    "print(f\"Number of validation examples: {len(valid_data.examples)}\")\n",
    "print(f\"Number of testing examples: {len(test_data.examples)}\")"
   ]
  },
  {
   "cell_type": "code",
   "execution_count": 11,
   "metadata": {
    "executionInfo": {
     "elapsed": 27,
     "status": "ok",
     "timestamp": 1634055103132,
     "user": {
      "displayName": "Александр Смирнов",
      "photoUrl": "https://lh3.googleusercontent.com/a-/AOh14Gg3LUBiuWlo_woqtPR_qeqRj7kvglPwk1cGmPTkiw=s64",
      "userId": "12438224675564049956"
     },
     "user_tz": -180
    },
    "id": "7lmzCmDpQq5e"
   },
   "outputs": [],
   "source": [
    "SRC.build_vocab(train_data, min_freq = 3)\n",
    "TRG.build_vocab(train_data, min_freq = 3)"
   ]
  },
  {
   "cell_type": "code",
   "execution_count": 12,
   "metadata": {
    "colab": {
     "base_uri": "https://localhost:8080/"
    },
    "executionInfo": {
     "elapsed": 27,
     "status": "ok",
     "timestamp": 1634055103133,
     "user": {
      "displayName": "Александр Смирнов",
      "photoUrl": "https://lh3.googleusercontent.com/a-/AOh14Gg3LUBiuWlo_woqtPR_qeqRj7kvglPwk1cGmPTkiw=s64",
      "userId": "12438224675564049956"
     },
     "user_tz": -180
    },
    "id": "AWfX4MbMQq5e",
    "outputId": "0bb37dca-db89-4d60-fbfd-1dd952f93764"
   },
   "outputs": [
    {
     "name": "stdout",
     "output_type": "stream",
     "text": [
      "Unique tokens in source (ru) vocabulary: 9285\n",
      "Unique tokens in target (en) vocabulary: 6685\n"
     ]
    }
   ],
   "source": [
    "print(f\"Unique tokens in source (ru) vocabulary: {len(SRC.vocab)}\")\n",
    "print(f\"Unique tokens in target (en) vocabulary: {len(TRG.vocab)}\")"
   ]
  },
  {
   "cell_type": "markdown",
   "metadata": {
    "id": "XGWgo6OmQq5e"
   },
   "source": [
    "Here are tokens from original (RU) corpus:"
   ]
  },
  {
   "cell_type": "code",
   "execution_count": 13,
   "metadata": {
    "colab": {
     "base_uri": "https://localhost:8080/"
    },
    "executionInfo": {
     "elapsed": 22,
     "status": "ok",
     "timestamp": 1634055103133,
     "user": {
      "displayName": "Александр Смирнов",
      "photoUrl": "https://lh3.googleusercontent.com/a-/AOh14Gg3LUBiuWlo_woqtPR_qeqRj7kvglPwk1cGmPTkiw=s64",
      "userId": "12438224675564049956"
     },
     "user_tz": -180
    },
    "id": "9G3rq_OpQq5f",
    "outputId": "5dd0e258-6561-40c2-d4da-f5766fd2ead7"
   },
   "outputs": [
    {
     "data": {
      "text/plain": [
       "['<unk>',\n",
       " 'горячей',\n",
       " 'ти',\n",
       " 'кондиционеры',\n",
       " 'adventure',\n",
       " '240',\n",
       " 'mendoza',\n",
       " 'художественные',\n",
       " 'долиной',\n",
       " 'строгой']"
      ]
     },
     "execution_count": 13,
     "metadata": {},
     "output_type": "execute_result"
    }
   ],
   "source": [
    "SRC.vocab.itos[::1000]"
   ]
  },
  {
   "cell_type": "markdown",
   "metadata": {
    "id": "dy61HogcQq5f"
   },
   "source": [
    "And from target (EN) corpus:"
   ]
  },
  {
   "cell_type": "code",
   "execution_count": 14,
   "metadata": {
    "colab": {
     "base_uri": "https://localhost:8080/"
    },
    "executionInfo": {
     "elapsed": 18,
     "status": "ok",
     "timestamp": 1634055103134,
     "user": {
      "displayName": "Александр Смирнов",
      "photoUrl": "https://lh3.googleusercontent.com/a-/AOh14Gg3LUBiuWlo_woqtPR_qeqRj7kvglPwk1cGmPTkiw=s64",
      "userId": "12438224675564049956"
     },
     "user_tz": -180
    },
    "id": "3uWoumzYQq5f",
    "outputId": "be1a6cf6-dd26-4130-83d4-846d4f4eeccc"
   },
   "outputs": [
    {
     "data": {
      "text/plain": [
       "['<unk>', 'cafe', 'gare', 'compact', 'mahal', 'smokovec', 'masjid']"
      ]
     },
     "execution_count": 14,
     "metadata": {},
     "output_type": "execute_result"
    }
   ],
   "source": [
    "TRG.vocab.itos[::1000]"
   ]
  },
  {
   "cell_type": "markdown",
   "metadata": {
    "id": "zefNydhAQq5g"
   },
   "source": [
    "And here is example from train dataset:"
   ]
  },
  {
   "cell_type": "code",
   "execution_count": 15,
   "metadata": {
    "colab": {
     "base_uri": "https://localhost:8080/"
    },
    "executionInfo": {
     "elapsed": 14,
     "status": "ok",
     "timestamp": 1634055103135,
     "user": {
      "displayName": "Александр Смирнов",
      "photoUrl": "https://lh3.googleusercontent.com/a-/AOh14Gg3LUBiuWlo_woqtPR_qeqRj7kvglPwk1cGmPTkiw=s64",
      "userId": "12438224675564049956"
     },
     "user_tz": -180
    },
    "id": "s1KjjmJlQq5g",
    "outputId": "70c31508-efac-49a1-d043-61488af849d1"
   },
   "outputs": [
    {
     "name": "stdout",
     "output_type": "stream",
     "text": [
      "{'trg': ['private', 'bathrooms', 'come', 'with', 'a', 'shower', '.'], 'src': ['к', 'услугам', 'гостей', 'собственные', 'ванные', 'комнаты', 'с', 'душем', '.']}\n"
     ]
    }
   ],
   "source": [
    "print(vars(train_data.examples[9]))"
   ]
  },
  {
   "cell_type": "markdown",
   "metadata": {
    "id": "uvykOAkCQq5g"
   },
   "source": [
    "Let's check the length distributions:"
   ]
  },
  {
   "cell_type": "code",
   "execution_count": 16,
   "metadata": {
    "colab": {
     "base_uri": "https://localhost:8080/",
     "height": 298
    },
    "executionInfo": {
     "elapsed": 470,
     "status": "ok",
     "timestamp": 1634055103597,
     "user": {
      "displayName": "Александр Смирнов",
      "photoUrl": "https://lh3.googleusercontent.com/a-/AOh14Gg3LUBiuWlo_woqtPR_qeqRj7kvglPwk1cGmPTkiw=s64",
      "userId": "12438224675564049956"
     },
     "user_tz": -180
    },
    "id": "sjb52nUHQq5g",
    "outputId": "6318a9b5-ee2d-4b9b-bf38-e5c374e0c5d1"
   },
   "outputs": [
    {
     "name": "stdout",
     "output_type": "stream",
     "text": [
      "Length distribution in Train data\n"
     ]
    },
    {
     "data": {
      "image/png": "[encoded data removed]",
      "text/plain": [
       "<Figure size 576x288 with 2 Axes>"
      ]
     },
     "metadata": {
      "needs_background": "light"
     },
     "output_type": "display_data"
    }
   ],
   "source": [
    "src_length = map(len, [vars(x)['src'] for x in train_data.examples])\n",
    "trg_length = map(len, [vars(x)['trg'] for x in train_data.examples])\n",
    "\n",
    "print('Length distribution in Train data')\n",
    "plt.figure(figsize=[8, 4])\n",
    "plt.subplot(1, 2, 1)\n",
    "plt.title(\"source length\")\n",
    "plt.hist(list(src_length), bins=20);\n",
    "\n",
    "plt.subplot(1, 2, 2)\n",
    "plt.title(\"translation length\")\n",
    "plt.hist(list(trg_length), bins=20);"
   ]
  },
  {
   "cell_type": "code",
   "execution_count": 17,
   "metadata": {
    "colab": {
     "base_uri": "https://localhost:8080/",
     "height": 298
    },
    "executionInfo": {
     "elapsed": 582,
     "status": "ok",
     "timestamp": 1634055104174,
     "user": {
      "displayName": "Александр Смирнов",
      "photoUrl": "https://lh3.googleusercontent.com/a-/AOh14Gg3LUBiuWlo_woqtPR_qeqRj7kvglPwk1cGmPTkiw=s64",
      "userId": "12438224675564049956"
     },
     "user_tz": -180
    },
    "id": "FW7k5xFZQq5h",
    "outputId": "60b01ba1-5161-4569-ba20-1508a1fc0439"
   },
   "outputs": [
    {
     "name": "stdout",
     "output_type": "stream",
     "text": [
      "Length distribution in Test data\n"
     ]
    },
    {
     "data": {
      "image/png": "[encoded data removed]",
      "text/plain": [
       "<Figure size 576x288 with 2 Axes>"
      ]
     },
     "metadata": {
      "needs_background": "light"
     },
     "output_type": "display_data"
    }
   ],
   "source": [
    "src_length = map(len, [vars(x)['src'] for x in test_data.examples])\n",
    "trg_length = map(len, [vars(x)['trg'] for x in test_data.examples])\n",
    "\n",
    "print('Length distribution in Test data')\n",
    "plt.figure(figsize=[8, 4])\n",
    "plt.subplot(1, 2, 1)\n",
    "plt.title(\"source length\")\n",
    "plt.hist(list(src_length), bins=20);\n",
    "\n",
    "plt.subplot(1, 2, 2)\n",
    "plt.title(\"translation length\")\n",
    "plt.hist(list(trg_length), bins=20);"
   ]
  },
  {
   "cell_type": "markdown",
   "metadata": {
    "id": "H4h1jGNjQq5h"
   },
   "source": [
    "### Model side\n",
    "__Here comes simple pipeline of NMT model learning. It almost copies the week03 practice__"
   ]
  },
  {
   "cell_type": "code",
   "execution_count": 18,
   "metadata": {
    "executionInfo": {
     "elapsed": 20,
     "status": "ok",
     "timestamp": 1634055104175,
     "user": {
      "displayName": "Александр Смирнов",
      "photoUrl": "https://lh3.googleusercontent.com/a-/AOh14Gg3LUBiuWlo_woqtPR_qeqRj7kvglPwk1cGmPTkiw=s64",
      "userId": "12438224675564049956"
     },
     "user_tz": -180
    },
    "id": "UF-N4BAbQq5h"
   },
   "outputs": [],
   "source": [
    "device = torch.device('cuda' if torch.cuda.is_available() else 'cpu')"
   ]
  },
  {
   "cell_type": "code",
   "execution_count": 19,
   "metadata": {
    "colab": {
     "base_uri": "https://localhost:8080/"
    },
    "executionInfo": {
     "elapsed": 20,
     "status": "ok",
     "timestamp": 1634055104176,
     "user": {
      "displayName": "Александр Смирнов",
      "photoUrl": "https://lh3.googleusercontent.com/a-/AOh14Gg3LUBiuWlo_woqtPR_qeqRj7kvglPwk1cGmPTkiw=s64",
      "userId": "12438224675564049956"
     },
     "user_tz": -180
    },
    "id": "CH7Y_8NJQq5i",
    "outputId": "237bf63c-818c-45eb-b3ff-637268fbabb6"
   },
   "outputs": [
    {
     "data": {
      "text/plain": [
       "device(type='cuda')"
      ]
     },
     "execution_count": 19,
     "metadata": {},
     "output_type": "execute_result"
    }
   ],
   "source": [
    "device"
   ]
  },
  {
   "cell_type": "code",
   "execution_count": 20,
   "metadata": {
    "executionInfo": {
     "elapsed": 11,
     "status": "ok",
     "timestamp": 1634055104177,
     "user": {
      "displayName": "Александр Смирнов",
      "photoUrl": "https://lh3.googleusercontent.com/a-/AOh14Gg3LUBiuWlo_woqtPR_qeqRj7kvglPwk1cGmPTkiw=s64",
      "userId": "12438224675564049956"
     },
     "user_tz": -180
    },
    "id": "LML7ELtMQq5i"
   },
   "outputs": [],
   "source": [
    "def _len_sort_key(x):\n",
    "    return len(x.src)\n",
    "\n",
    "BATCH_SIZE = 256\n",
    "\n",
    "train_iterator, valid_iterator, test_iterator = BucketIterator.splits(\n",
    "    (train_data, valid_data, test_data), \n",
    "    batch_size = BATCH_SIZE, \n",
    "    device = device,\n",
    "    sort_key=_len_sort_key\n",
    ")"
   ]
  },
  {
   "cell_type": "code",
   "execution_count": 21,
   "metadata": {
    "colab": {
     "base_uri": "https://localhost:8080/"
    },
    "executionInfo": {
     "elapsed": 2734,
     "status": "ok",
     "timestamp": 1634055106901,
     "user": {
      "displayName": "Александр Смирнов",
      "photoUrl": "https://lh3.googleusercontent.com/a-/AOh14Gg3LUBiuWlo_woqtPR_qeqRj7kvglPwk1cGmPTkiw=s64",
      "userId": "12438224675564049956"
     },
     "user_tz": -180
    },
    "id": "AxOd5L2KQq5i",
    "outputId": "eaada10d-af88-4071-ca8d-f26d62ae8486"
   },
   "outputs": [
    {
     "name": "stdout",
     "output_type": "stream",
     "text": [
      "\n",
      "[torchtext.legacy.data.batch.Batch of size 256]\n",
      "\t[.trg]:[torch.cuda.LongTensor of size 49x256 (GPU 0)]\n",
      "\t[.src]:[torch.cuda.LongTensor of size 47x256 (GPU 0)]\n",
      "torch.Size([47, 256]) torch.Size([49, 256])\n"
     ]
    }
   ],
   "source": [
    "for x in train_iterator:\n",
    "    break\n",
    "print(x)\n",
    "print(x.src.shape, x.trg.shape)"
   ]
  },
  {
   "cell_type": "code",
   "execution_count": 22,
   "metadata": {
    "executionInfo": {
     "elapsed": 47,
     "status": "ok",
     "timestamp": 1634055106902,
     "user": {
      "displayName": "Александр Смирнов",
      "photoUrl": "https://lh3.googleusercontent.com/a-/AOh14Gg3LUBiuWlo_woqtPR_qeqRj7kvglPwk1cGmPTkiw=s64",
      "userId": "12438224675564049956"
     },
     "user_tz": -180
    },
    "id": "q8i2vhtJQq5i"
   },
   "outputs": [],
   "source": [
    "import my_network\n",
    "Encoder = my_network.Encoder\n",
    "Decoder = my_network.Decoder\n",
    "Seq2Seq = my_network.Seq2Seq"
   ]
  },
  {
   "cell_type": "code",
   "execution_count": 23,
   "metadata": {
    "executionInfo": {
     "elapsed": 45,
     "status": "ok",
     "timestamp": 1634055106902,
     "user": {
      "displayName": "Александр Смирнов",
      "photoUrl": "https://lh3.googleusercontent.com/a-/AOh14Gg3LUBiuWlo_woqtPR_qeqRj7kvglPwk1cGmPTkiw=s64",
      "userId": "12438224675564049956"
     },
     "user_tz": -180
    },
    "id": "dfih-CguQq5j"
   },
   "outputs": [],
   "source": [
    "INPUT_DIM = len(SRC.vocab)\n",
    "OUTPUT_DIM = len(TRG.vocab)\n",
    "ENC_EMB_DIM = 256\n",
    "DEC_EMB_DIM = 256\n",
    "HID_DIM = 512\n",
    "N_LAYERS = 2\n",
    "ENC_DROPOUT = 0.5\n",
    "DEC_DROPOUT = 0.5\n",
    "\n",
    "enc = Encoder(INPUT_DIM, ENC_EMB_DIM, HID_DIM, N_LAYERS, ENC_DROPOUT)\n",
    "dec = Decoder(OUTPUT_DIM, DEC_EMB_DIM, HID_DIM, N_LAYERS, DEC_DROPOUT)\n",
    "\n",
    "# dont forget to put the model to the right device\n",
    "model = Seq2Seq(enc, dec, device).to(device)"
   ]
  },
  {
   "cell_type": "code",
   "execution_count": 24,
   "metadata": {
    "colab": {
     "base_uri": "https://localhost:8080/"
    },
    "executionInfo": {
     "elapsed": 45,
     "status": "ok",
     "timestamp": 1634055106903,
     "user": {
      "displayName": "Александр Смирнов",
      "photoUrl": "https://lh3.googleusercontent.com/a-/AOh14Gg3LUBiuWlo_woqtPR_qeqRj7kvglPwk1cGmPTkiw=s64",
      "userId": "12438224675564049956"
     },
     "user_tz": -180
    },
    "id": "y0wEupZVQq5j",
    "outputId": "099df60d-a269-4914-b033-f1fd863a4e11"
   },
   "outputs": [
    {
     "data": {
      "text/plain": [
       "Seq2Seq(\n",
       "  (encoder): Encoder(\n",
       "    (embedding): Embedding(9285, 256)\n",
       "    (rnn): LSTM(256, 512, num_layers=2, dropout=0.5)\n",
       "    (dropout): Dropout(p=0.5, inplace=False)\n",
       "  )\n",
       "  (decoder): Decoder(\n",
       "    (embedding): Embedding(6685, 256)\n",
       "    (rnn): LSTM(256, 512, num_layers=2, dropout=0.5)\n",
       "    (out): Linear(in_features=512, out_features=6685, bias=True)\n",
       "    (dropout): Dropout(p=0.5, inplace=False)\n",
       "  )\n",
       ")"
      ]
     },
     "execution_count": 24,
     "metadata": {},
     "output_type": "execute_result"
    }
   ],
   "source": [
    "def init_weights(m):\n",
    "    # <YOUR CODE HERE>\n",
    "    for name, param in m.named_parameters():\n",
    "        nn.init.uniform_(param, -0.08, 0.08)\n",
    "        \n",
    "model.apply(init_weights)"
   ]
  },
  {
   "cell_type": "code",
   "execution_count": 25,
   "metadata": {
    "colab": {
     "base_uri": "https://localhost:8080/"
    },
    "executionInfo": {
     "elapsed": 32,
     "status": "ok",
     "timestamp": 1634055106903,
     "user": {
      "displayName": "Александр Смирнов",
      "photoUrl": "https://lh3.googleusercontent.com/a-/AOh14Gg3LUBiuWlo_woqtPR_qeqRj7kvglPwk1cGmPTkiw=s64",
      "userId": "12438224675564049956"
     },
     "user_tz": -180
    },
    "id": "j6zl0ZrDQq5j",
    "outputId": "3f51af8e-e053-4e60-b686-1cfb01cb4625"
   },
   "outputs": [
    {
     "name": "stdout",
     "output_type": "stream",
     "text": [
      "The model has 14,874,141 trainable parameters\n"
     ]
    }
   ],
   "source": [
    "def count_parameters(model):\n",
    "    return sum(p.numel() for p in model.parameters() if p.requires_grad)\n",
    "\n",
    "print(f'The model has {count_parameters(model):,} trainable parameters')"
   ]
  },
  {
   "cell_type": "code",
   "execution_count": 26,
   "metadata": {
    "executionInfo": {
     "elapsed": 24,
     "status": "ok",
     "timestamp": 1634055106904,
     "user": {
      "displayName": "Александр Смирнов",
      "photoUrl": "https://lh3.googleusercontent.com/a-/AOh14Gg3LUBiuWlo_woqtPR_qeqRj7kvglPwk1cGmPTkiw=s64",
      "userId": "12438224675564049956"
     },
     "user_tz": -180
    },
    "id": "cPWe8QJBQq5k"
   },
   "outputs": [],
   "source": [
    "PAD_IDX = TRG.vocab.stoi['<pad>']\n",
    "optimizer = optim.Adam(model.parameters())\n",
    "criterion = nn.CrossEntropyLoss(ignore_index = PAD_IDX)"
   ]
  },
  {
   "cell_type": "code",
   "execution_count": 27,
   "metadata": {
    "executionInfo": {
     "elapsed": 23,
     "status": "ok",
     "timestamp": 1634055106904,
     "user": {
      "displayName": "Александр Смирнов",
      "photoUrl": "https://lh3.googleusercontent.com/a-/AOh14Gg3LUBiuWlo_woqtPR_qeqRj7kvglPwk1cGmPTkiw=s64",
      "userId": "12438224675564049956"
     },
     "user_tz": -180
    },
    "id": "Vd7oevcGQq5k"
   },
   "outputs": [],
   "source": [
    "def train(model, iterator, optimizer, criterion, clip, train_history=None, valid_history=None):\n",
    "    model.train()\n",
    "    \n",
    "    epoch_loss = 0\n",
    "    history = []\n",
    "    for i, batch in enumerate(iterator):\n",
    "        \n",
    "        src = batch.src\n",
    "        trg = batch.trg\n",
    "        \n",
    "        optimizer.zero_grad()\n",
    "        \n",
    "        output = model(src, trg)\n",
    "        \n",
    "        #trg = [trg sent len, batch size]\n",
    "        #output = [trg sent len, batch size, output dim]\n",
    "        \n",
    "        output = output[1:].view(-1, output.shape[-1])\n",
    "        trg = trg[1:].view(-1)\n",
    "        \n",
    "        #trg = [(trg sent len - 1) * batch size]\n",
    "        #output = [(trg sent len - 1) * batch size, output dim]\n",
    "        \n",
    "        loss = criterion(output, trg)\n",
    "        \n",
    "        loss.backward()\n",
    "        \n",
    "        # Let's clip the gradient\n",
    "        torch.nn.utils.clip_grad_norm_(model.parameters(), clip)\n",
    "        \n",
    "        optimizer.step()\n",
    "        \n",
    "        epoch_loss += loss.item()\n",
    "        \n",
    "        history.append(loss.cpu().data.numpy())\n",
    "        if (i+1)%10==0:\n",
    "            fig, ax = plt.subplots(nrows=1, ncols=2, figsize=(12, 8))\n",
    "\n",
    "            clear_output(True)\n",
    "            ax[0].plot(history, label='train loss')\n",
    "            ax[0].set_xlabel('Batch')\n",
    "            ax[0].set_title('Train loss')\n",
    "            if train_history is not None:\n",
    "                ax[1].plot(train_history, label='general train history')\n",
    "                ax[1].set_xlabel('Epoch')\n",
    "            if valid_history is not None:\n",
    "                ax[1].plot(valid_history, label='general valid history')\n",
    "            plt.legend()\n",
    "            \n",
    "            plt.show()\n",
    "\n",
    "        \n",
    "    return epoch_loss / len(iterator)"
   ]
  },
  {
   "cell_type": "code",
   "execution_count": 28,
   "metadata": {
    "executionInfo": {
     "elapsed": 23,
     "status": "ok",
     "timestamp": 1634055106905,
     "user": {
      "displayName": "Александр Смирнов",
      "photoUrl": "https://lh3.googleusercontent.com/a-/AOh14Gg3LUBiuWlo_woqtPR_qeqRj7kvglPwk1cGmPTkiw=s64",
      "userId": "12438224675564049956"
     },
     "user_tz": -180
    },
    "id": "oLogAIKYQq5k"
   },
   "outputs": [],
   "source": [
    "def evaluate(model, iterator, criterion):\n",
    "    \n",
    "    model.eval()\n",
    "    \n",
    "    epoch_loss = 0\n",
    "    \n",
    "    history = []\n",
    "    \n",
    "    with torch.no_grad():\n",
    "    \n",
    "        for i, batch in enumerate(iterator):\n",
    "\n",
    "            src = batch.src\n",
    "            trg = batch.trg\n",
    "\n",
    "            output = model(src, trg, 0) #turn off teacher forcing\n",
    "\n",
    "            #trg = [trg sent len, batch size]\n",
    "            #output = [trg sent len, batch size, output dim]\n",
    "\n",
    "            output = output[1:].view(-1, output.shape[-1])\n",
    "            trg = trg[1:].view(-1)\n",
    "\n",
    "            #trg = [(trg sent len - 1) * batch size]\n",
    "            #output = [(trg sent len - 1) * batch size, output dim]\n",
    "\n",
    "            loss = criterion(output, trg)\n",
    "            \n",
    "            epoch_loss += loss.item()\n",
    "        \n",
    "    return epoch_loss / len(iterator)"
   ]
  },
  {
   "cell_type": "code",
   "execution_count": 29,
   "metadata": {
    "executionInfo": {
     "elapsed": 22,
     "status": "ok",
     "timestamp": 1634055106905,
     "user": {
      "displayName": "Александр Смирнов",
      "photoUrl": "https://lh3.googleusercontent.com/a-/AOh14Gg3LUBiuWlo_woqtPR_qeqRj7kvglPwk1cGmPTkiw=s64",
      "userId": "12438224675564049956"
     },
     "user_tz": -180
    },
    "id": "hn5Z0tR7Qq5l"
   },
   "outputs": [],
   "source": [
    "def epoch_time(start_time, end_time):\n",
    "    elapsed_time = end_time - start_time\n",
    "    elapsed_mins = int(elapsed_time / 60)\n",
    "    elapsed_secs = int(elapsed_time - (elapsed_mins * 60))\n",
    "    return elapsed_mins, elapsed_secs"
   ]
  },
  {
   "cell_type": "code",
   "execution_count": 30,
   "metadata": {
    "executionInfo": {
     "elapsed": 22,
     "status": "ok",
     "timestamp": 1634055106906,
     "user": {
      "displayName": "Александр Смирнов",
      "photoUrl": "https://lh3.googleusercontent.com/a-/AOh14Gg3LUBiuWlo_woqtPR_qeqRj7kvglPwk1cGmPTkiw=s64",
      "userId": "12438224675564049956"
     },
     "user_tz": -180
    },
    "id": "cGjEfMlYQq5l"
   },
   "outputs": [],
   "source": [
    "train_history = []\n",
    "valid_history = []\n",
    "\n",
    "N_EPOCHS = 10\n",
    "CLIP = 1\n",
    "\n",
    "best_valid_loss = float('inf')"
   ]
  },
  {
   "cell_type": "code",
   "execution_count": 31,
   "metadata": {
    "colab": {
     "base_uri": "https://localhost:8080/",
     "height": 564
    },
    "executionInfo": {
     "elapsed": 702528,
     "status": "ok",
     "timestamp": 1634055809748,
     "user": {
      "displayName": "Александр Смирнов",
      "photoUrl": "https://lh3.googleusercontent.com/a-/AOh14Gg3LUBiuWlo_woqtPR_qeqRj7kvglPwk1cGmPTkiw=s64",
      "userId": "12438224675564049956"
     },
     "user_tz": -180
    },
    "id": "8HeKfzFDQq5l",
    "outputId": "ca844698-5e85-41f0-dcdf-8d946378da60"
   },
   "outputs": [
    {
     "data": {
      "image/png": "[encoded data removed]",
      "text/plain": [
       "<Figure size 864x576 with 2 Axes>"
      ]
     },
     "metadata": {
      "needs_background": "light"
     },
     "output_type": "display_data"
    },
    {
     "name": "stdout",
     "output_type": "stream",
     "text": [
      "Epoch: 10 | Time: 1m 9s\n",
      "\tTrain Loss: 3.205 | Train PPL:  24.643\n",
      "\t Val. Loss: 4.762 |  Val. PPL: 116.973\n"
     ]
    }
   ],
   "source": [
    "for epoch in range(N_EPOCHS):\n",
    "    \n",
    "    start_time = time.time()\n",
    "    \n",
    "    train_loss = train(model, train_iterator, optimizer, criterion, CLIP, train_history, valid_history)\n",
    "    valid_loss = evaluate(model, valid_iterator, criterion)\n",
    "    \n",
    "    end_time = time.time()\n",
    "    \n",
    "    epoch_mins, epoch_secs = epoch_time(start_time, end_time)\n",
    "    \n",
    "    if valid_loss < best_valid_loss:\n",
    "        best_valid_loss = valid_loss\n",
    "        torch.save(model.state_dict(), 'tut1-model.pt')\n",
    "    \n",
    "    train_history.append(train_loss)\n",
    "    valid_history.append(valid_loss)\n",
    "    print(f'Epoch: {epoch+1:02} | Time: {epoch_mins}m {epoch_secs}s')\n",
    "    print(f'\\tTrain Loss: {train_loss:.3f} | Train PPL: {math.exp(train_loss):7.3f}')\n",
    "    print(f'\\t Val. Loss: {valid_loss:.3f} |  Val. PPL: {math.exp(valid_loss):7.3f}')"
   ]
  },
  {
   "cell_type": "markdown",
   "metadata": {
    "id": "Gq_kt5kRQq5l"
   },
   "source": [
    "__Let's take a look at our network quality__:"
   ]
  },
  {
   "cell_type": "code",
   "execution_count": 32,
   "metadata": {
    "executionInfo": {
     "elapsed": 30,
     "status": "ok",
     "timestamp": 1634055809749,
     "user": {
      "displayName": "Александр Смирнов",
      "photoUrl": "https://lh3.googleusercontent.com/a-/AOh14Gg3LUBiuWlo_woqtPR_qeqRj7kvglPwk1cGmPTkiw=s64",
      "userId": "12438224675564049956"
     },
     "user_tz": -180
    },
    "id": "kHEIzhzoQq5m"
   },
   "outputs": [],
   "source": [
    "import utils\n",
    "import imp\n",
    "imp.reload(utils)\n",
    "generate_translation = utils.generate_translation\n",
    "remove_tech_tokens = utils.remove_tech_tokens\n",
    "get_text = utils.get_text\n",
    "flatten = utils.flatten"
   ]
  },
  {
   "cell_type": "code",
   "execution_count": 33,
   "metadata": {
    "executionInfo": {
     "elapsed": 26,
     "status": "ok",
     "timestamp": 1634055809750,
     "user": {
      "displayName": "Александр Смирнов",
      "photoUrl": "https://lh3.googleusercontent.com/a-/AOh14Gg3LUBiuWlo_woqtPR_qeqRj7kvglPwk1cGmPTkiw=s64",
      "userId": "12438224675564049956"
     },
     "user_tz": -180
    },
    "id": "5AzjkDBKQq5m"
   },
   "outputs": [],
   "source": [
    "batch = next(iter(test_iterator))"
   ]
  },
  {
   "cell_type": "code",
   "execution_count": 34,
   "metadata": {
    "colab": {
     "base_uri": "https://localhost:8080/"
    },
    "executionInfo": {
     "elapsed": 25,
     "status": "ok",
     "timestamp": 1634055809750,
     "user": {
      "displayName": "Александр Смирнов",
      "photoUrl": "https://lh3.googleusercontent.com/a-/AOh14Gg3LUBiuWlo_woqtPR_qeqRj7kvglPwk1cGmPTkiw=s64",
      "userId": "12438224675564049956"
     },
     "user_tz": -180
    },
    "id": "Tug3cUOiQq5m",
    "outputId": "43918cbc-b7ee-4ef8-f7ec-89150dd95960"
   },
   "outputs": [
    {
     "name": "stdout",
     "output_type": "stream",
     "text": [
      "Original: there is a shared lounge , where guests can relax .\n",
      "Generated: the room is equipped with a tv .\n",
      "\n",
      "Original: laundry facilities are available for all guests of the hotel .\n",
      "Generated: the private parking is available on site .\n",
      "\n"
     ]
    }
   ],
   "source": [
    "for idx in [10,12]:\n",
    "    src = batch.src[:, idx:idx+1]\n",
    "    trg = batch.trg[:, idx:idx+1]\n",
    "    generate_translation(src, trg, model, TRG.vocab)"
   ]
  },
  {
   "cell_type": "code",
   "execution_count": 35,
   "metadata": {
    "executionInfo": {
     "elapsed": 18,
     "status": "ok",
     "timestamp": 1634055809751,
     "user": {
      "displayName": "Александр Смирнов",
      "photoUrl": "https://lh3.googleusercontent.com/a-/AOh14Gg3LUBiuWlo_woqtPR_qeqRj7kvglPwk1cGmPTkiw=s64",
      "userId": "12438224675564049956"
     },
     "user_tz": -180
    },
    "id": "XiZ2VnbpQq5m"
   },
   "outputs": [],
   "source": [
    "from nltk.translate.bleu_score import corpus_bleu\n",
    "\n",
    "#     \"\"\" Estimates corpora-level BLEU score of model's translations given inp and reference out \"\"\"\n",
    "#     translations, _ = model.translate_lines(inp_lines, **flags)\n",
    "#     # Note: if you experience out-of-memory error, split input lines into batches and translate separately\n",
    "#     return corpus_bleu([[ref] for ref in out_lines], translations) * 100"
   ]
  },
  {
   "cell_type": "code",
   "execution_count": 36,
   "metadata": {
    "executionInfo": {
     "elapsed": 17,
     "status": "ok",
     "timestamp": 1634055809751,
     "user": {
      "displayName": "Александр Смирнов",
      "photoUrl": "https://lh3.googleusercontent.com/a-/AOh14Gg3LUBiuWlo_woqtPR_qeqRj7kvglPwk1cGmPTkiw=s64",
      "userId": "12438224675564049956"
     },
     "user_tz": -180
    },
    "id": "r9f2rWOtQq5n"
   },
   "outputs": [],
   "source": [
    "import tqdm"
   ]
  },
  {
   "cell_type": "code",
   "execution_count": 37,
   "metadata": {
    "colab": {
     "base_uri": "https://localhost:8080/"
    },
    "executionInfo": {
     "elapsed": 3459,
     "status": "ok",
     "timestamp": 1634055813194,
     "user": {
      "displayName": "Александр Смирнов",
      "photoUrl": "https://lh3.googleusercontent.com/a-/AOh14Gg3LUBiuWlo_woqtPR_qeqRj7kvglPwk1cGmPTkiw=s64",
      "userId": "12438224675564049956"
     },
     "user_tz": -180
    },
    "id": "XJUSTDzwQq5n",
    "outputId": "e77d84c8-8b67-4970-e093-224ec3fa0ff9"
   },
   "outputs": [
    {
     "name": "stderr",
     "output_type": "stream",
     "text": [
      "30it [00:03,  8.72it/s]\n"
     ]
    }
   ],
   "source": [
    "original_text = []\n",
    "generated_text = []\n",
    "model.eval()\n",
    "with torch.no_grad():\n",
    "\n",
    "    for i, batch in tqdm.tqdm(enumerate(test_iterator)):\n",
    "\n",
    "        src = batch.src\n",
    "        trg = batch.trg\n",
    "\n",
    "        output = model(src, trg, 0) #turn off teacher forcing\n",
    "\n",
    "        #trg = [trg sent len, batch size]\n",
    "        #output = [trg sent len, batch size, output dim]\n",
    "\n",
    "        output = output.argmax(dim=-1)\n",
    "        \n",
    "        original_text.extend([get_text(x, TRG.vocab) for x in trg.cpu().numpy().T])\n",
    "        generated_text.extend([get_text(x, TRG.vocab) for x in output[1:].detach().cpu().numpy().T])\n",
    "\n",
    "# original_text = flatten(original_text)\n",
    "# generated_text = flatten(generated_text)"
   ]
  },
  {
   "cell_type": "code",
   "execution_count": 38,
   "metadata": {
    "colab": {
     "base_uri": "https://localhost:8080/"
    },
    "executionInfo": {
     "elapsed": 1283,
     "status": "ok",
     "timestamp": 1634055814776,
     "user": {
      "displayName": "Александр Смирнов",
      "photoUrl": "https://lh3.googleusercontent.com/a-/AOh14Gg3LUBiuWlo_woqtPR_qeqRj7kvglPwk1cGmPTkiw=s64",
      "userId": "12438224675564049956"
     },
     "user_tz": -180
    },
    "id": "FFQW7MQyQq5n",
    "outputId": "3af0fc3c-910e-4cc7-ec36-bbe4a554a6ea",
    "scrolled": true
   },
   "outputs": [
    {
     "data": {
      "text/plain": [
       "12.057630745164564"
      ]
     },
     "execution_count": 38,
     "metadata": {},
     "output_type": "execute_result"
    }
   ],
   "source": [
    "corpus_bleu([[text] for text in original_text], generated_text) * 100"
   ]
  },
  {
   "cell_type": "markdown",
   "metadata": {
    "id": "4hM7NlxhQq5n"
   },
   "source": [
    "Baseline solution BLEU score is quite low. Try to achieve at least __24__ BLEU on the test set. \n",
    "The checkpoints are:\n",
    "\n",
    "* __22__ - minimal score to submit the homework, 30% of points\n",
    "\n",
    "* __27__ - good score, 70% of points\n",
    "\n",
    "* __29__ - excellent score, 100% of points"
   ]
  },
  {
   "cell_type": "markdown",
   "metadata": {
    "id": "Ns_KTxtfQq5o"
   },
   "source": [
    "## RNN encoder-decoder custom pipeline"
   ]
  },
  {
   "cell_type": "code",
   "execution_count": 8,
   "metadata": {
    "executionInfo": {
     "elapsed": 20,
     "status": "ok",
     "timestamp": 1634055814777,
     "user": {
      "displayName": "Александр Смирнов",
      "photoUrl": "https://lh3.googleusercontent.com/a-/AOh14Gg3LUBiuWlo_woqtPR_qeqRj7kvglPwk1cGmPTkiw=s64",
      "userId": "12438224675564049956"
     },
     "user_tz": -180
    },
    "id": "Ic_m7aTfQq5o"
   },
   "outputs": [],
   "source": [
    "import os\n",
    "import math\n",
    "import time\n",
    "import csv\n",
    "import shutil\n",
    "import random\n",
    "import itertools\n",
    "from collections import Counter\n",
    "from tqdm import tqdm\n",
    "\n",
    "from sklearn.model_selection import train_test_split\n",
    "from nltk.tokenize import WordPunctTokenizer\n",
    "from nltk.translate.bleu_score import corpus_bleu\n",
    "\n",
    "import torch\n",
    "import torch.nn as nn\n",
    "import torch.optim as optim\n",
    "\n",
    "from torch.utils.data import Dataset\n",
    "from torch.utils.data import DataLoader\n",
    "from torch.utils.tensorboard import SummaryWriter"
   ]
  },
  {
   "cell_type": "code",
   "execution_count": 9,
   "metadata": {
    "executionInfo": {
     "elapsed": 19,
     "status": "ok",
     "timestamp": 1634055814778,
     "user": {
      "displayName": "Александр Смирнов",
      "photoUrl": "https://lh3.googleusercontent.com/a-/AOh14Gg3LUBiuWlo_woqtPR_qeqRj7kvglPwk1cGmPTkiw=s64",
      "userId": "12438224675564049956"
     },
     "user_tz": -180
    },
    "id": "nzlz2fX6Qq5o"
   },
   "outputs": [],
   "source": [
    "def count_parameters(model):\n",
    "    return sum(p.numel() for p in model.parameters() if p.requires_grad)"
   ]
  },
  {
   "cell_type": "code",
   "execution_count": 24,
   "metadata": {
    "id": "WARcO3ARQq5o"
   },
   "outputs": [
    {
     "name": "stdout",
     "output_type": "stream",
     "text": [
      "cuda\n"
     ]
    }
   ],
   "source": [
    "device = torch.device('cuda' if torch.cuda.is_available() else 'cpu')\n",
    "print(device)"
   ]
  },
  {
   "cell_type": "markdown",
   "metadata": {
    "id": "sGP_PsKJQq5p"
   },
   "source": [
    "### loading & splitting"
   ]
  },
  {
   "cell_type": "code",
   "execution_count": 10,
   "metadata": {
    "colab": {
     "base_uri": "https://localhost:8080/"
    },
    "executionInfo": {
     "elapsed": 18,
     "status": "ok",
     "timestamp": 1634055814778,
     "user": {
      "displayName": "Александр Смирнов",
      "photoUrl": "https://lh3.googleusercontent.com/a-/AOh14Gg3LUBiuWlo_woqtPR_qeqRj7kvglPwk1cGmPTkiw=s64",
      "userId": "12438224675564049956"
     },
     "user_tz": -180
    },
    "id": "5JlFwxbuQq5p",
    "outputId": "e4907c1c-e385-4c10-9f50-d89fb297c90e"
   },
   "outputs": [
    {
     "name": "stdout",
     "output_type": "stream",
     "text": [
      "Total number of pairs: 50000\n",
      "Sample pair:\n",
      "['It offers self-catering cottages, a shared terrace with outdoor furniture and BBQ facilities.', 'К вашим услугам общая меблированная терраса, принадлежности для барбекю и коттеджи с собственной кухней.']\n"
     ]
    }
   ],
   "source": [
    "with open(\"./data/data.txt\") as f:\n",
    "    pairs = list(csv.reader(f, delimiter=\"\\t\", quotechar='\"'))\n",
    "    \n",
    "print(f\"Total number of pairs: {len(pairs)}\")\n",
    "print(f\"Sample pair:\\n{random.choice(pairs)}\")"
   ]
  },
  {
   "cell_type": "code",
   "execution_count": 11,
   "metadata": {
    "colab": {
     "base_uri": "https://localhost:8080/"
    },
    "executionInfo": {
     "elapsed": 14,
     "status": "ok",
     "timestamp": 1634055814779,
     "user": {
      "displayName": "Александр Смирнов",
      "photoUrl": "https://lh3.googleusercontent.com/a-/AOh14Gg3LUBiuWlo_woqtPR_qeqRj7kvglPwk1cGmPTkiw=s64",
      "userId": "12438224675564049956"
     },
     "user_tz": -180
    },
    "id": "yyquWr1tQq5p",
    "outputId": "2fde2ccb-652b-476d-cb62-357cad4d1b0e"
   },
   "outputs": [
    {
     "name": "stdout",
     "output_type": "stream",
     "text": [
      "train: 0.8075\n",
      "val: 0.1425\n",
      "test: 0.05\n"
     ]
    }
   ],
   "source": [
    "train, test = train_test_split(pairs, test_size=0.05, random_state=1)\n",
    "train, val = train_test_split(train, test_size=0.15, random_state=1)\n",
    "\n",
    "print(f\"train: {len(train) / len(pairs)}\")\n",
    "print(f\"val: {len(val) / len(pairs)}\")\n",
    "print(f\"test: {len(test) / len(pairs)}\")"
   ]
  },
  {
   "cell_type": "markdown",
   "metadata": {
    "id": "NNVfpue3Qq5p"
   },
   "source": [
    "### preprocessing & tokenizing"
   ]
  },
  {
   "cell_type": "code",
   "execution_count": 12,
   "metadata": {
    "executionInfo": {
     "elapsed": 8,
     "status": "ok",
     "timestamp": 1634055814779,
     "user": {
      "displayName": "Александр Смирнов",
      "photoUrl": "https://lh3.googleusercontent.com/a-/AOh14Gg3LUBiuWlo_woqtPR_qeqRj7kvglPwk1cGmPTkiw=s64",
      "userId": "12438224675564049956"
     },
     "user_tz": -180
    },
    "id": "RsNXcML9Qq5q"
   },
   "outputs": [],
   "source": [
    "class TextPreprocessor:\n",
    "    \n",
    "    def __init__(self):\n",
    "        \"\"\"\n",
    "        \"\"\"\n",
    "        self.tokenizer = WordPunctTokenizer()\n",
    "\n",
    "    def __call__(self, text, split=True):\n",
    "        \"\"\"\n",
    "            text: text\n",
    "            split: if split to tokens\n",
    "            \n",
    "            returns: indexes list\n",
    "        \"\"\"\n",
    "        text = text.lower()\n",
    "        if split:\n",
    "            text = self.tokenizer.tokenize(text)\n",
    "        \n",
    "        return text\n",
    "    \n",
    "    def get_unique_vocab(self, corpus, min_freq=3):\n",
    "        \"\"\"\n",
    "            get unique words from a list of sentences\n",
    "        \"\"\"\n",
    "        corpus_words = list(map(self, corpus))\n",
    "        words = Counter(list(itertools.chain(*corpus_words)))\n",
    "        words = [word[0] for word in words.items() if word[1] >= 3]\n",
    "        return words"
   ]
  },
  {
   "cell_type": "code",
   "execution_count": 13,
   "metadata": {
    "executionInfo": {
     "elapsed": 8,
     "status": "ok",
     "timestamp": 1634055814780,
     "user": {
      "displayName": "Александр Смирнов",
      "photoUrl": "https://lh3.googleusercontent.com/a-/AOh14Gg3LUBiuWlo_woqtPR_qeqRj7kvglPwk1cGmPTkiw=s64",
      "userId": "12438224675564049956"
     },
     "user_tz": -180
    },
    "id": "C5fp7fyWQq5q"
   },
   "outputs": [],
   "source": [
    "class TextTokenizer:\n",
    "    \n",
    "    def __init__(self, vocab, text_preprocessor):\n",
    "        \"\"\"\n",
    "            vocab: words from training set\n",
    "        \"\"\"\n",
    "        self.pad_token = \"<pad>\"\n",
    "        self.sos_token = \"<sos>\"\n",
    "        self.eos_token = \"<eos>\"\n",
    "        self.unk_token = \"<unk>\"\n",
    "        self.additional_tokens = [self.pad_token, self.sos_token, self.eos_token, self.unk_token]\n",
    "        \n",
    "        self.text_preprocessor = text_preprocessor\n",
    "        \n",
    "        self.vocab = vocab\n",
    "        self.word2index = dict(zip(\n",
    "            self.additional_tokens + vocab,\n",
    "            range(len(vocab) + len(self.additional_tokens))\n",
    "        ))\n",
    "        \n",
    "        self.index2word = {v: k for k, v in self.word2index.items()}\n",
    "\n",
    "    @property\n",
    "    def vocab_size(self):\n",
    "        \"\"\"\n",
    "            returns: number of words in dict\n",
    "        \"\"\"\n",
    "        return len(self.word2index)\n",
    "    \n",
    "    def detokenize(self, indexes, remove_tech_tokens=True):\n",
    "        if remove_tech_tokens:\n",
    "            return \" \".join([self.index2word[idx] for idx in indexes if self.index2word[idx] not in self.additional_tokens])\n",
    "        else:\n",
    "            return \" \".join([self.index2word[idx] for idx in indexes])\n",
    "    \n",
    "    def __call__(self, text):\n",
    "        \"\"\"\n",
    "            text: text\n",
    "            \n",
    "            returns: indexes list\n",
    "        \"\"\"\n",
    "        text = self.text_preprocessor(text)\n",
    "        indexes = [self.word2index[self.sos_token]] +\\\n",
    "                  [self.word2index[token] if token in self.word2index else self.word2index[self.unk_token] \\\n",
    "                   for token in text] +\\\n",
    "                  [self.word2index[self.eos_token]]\n",
    "        \n",
    "        return indexes"
   ]
  },
  {
   "cell_type": "code",
   "execution_count": 14,
   "metadata": {
    "colab": {
     "base_uri": "https://localhost:8080/"
    },
    "executionInfo": {
     "elapsed": 1149,
     "status": "ok",
     "timestamp": 1634055815921,
     "user": {
      "displayName": "Александр Смирнов",
      "photoUrl": "https://lh3.googleusercontent.com/a-/AOh14Gg3LUBiuWlo_woqtPR_qeqRj7kvglPwk1cGmPTkiw=s64",
      "userId": "12438224675564049956"
     },
     "user_tz": -180
    },
    "id": "awtTiXqKQq5r",
    "outputId": "a0de9c14-7a26-4e0d-8eed-2c22fbb5a159"
   },
   "outputs": [
    {
     "name": "stdout",
     "output_type": "stream",
     "text": [
      "number of tokens in ru vocab: 9367\n",
      "number of tokens in en vocab: 6738\n"
     ]
    }
   ],
   "source": [
    "text_preprocessor = TextPreprocessor()\n",
    "\n",
    "ru_vocab = text_preprocessor.get_unique_vocab([pair[1] for pair in train])\n",
    "en_vocab = text_preprocessor.get_unique_vocab([pair[0] for pair in train])\n",
    "\n",
    "ru_tokenizer = TextTokenizer(ru_vocab, text_preprocessor)\n",
    "en_tokenizer = TextTokenizer(en_vocab, text_preprocessor)\n",
    "print(f\"number of tokens in ru vocab: {ru_tokenizer.vocab_size}\")\n",
    "print(f\"number of tokens in en vocab: {en_tokenizer.vocab_size}\")"
   ]
  },
  {
   "cell_type": "markdown",
   "metadata": {
    "id": "8GtPKgI4Qq5r"
   },
   "source": [
    "### dataset & dataloader creation"
   ]
  },
  {
   "cell_type": "code",
   "execution_count": 15,
   "metadata": {
    "executionInfo": {
     "elapsed": 4,
     "status": "ok",
     "timestamp": 1634055815921,
     "user": {
      "displayName": "Александр Смирнов",
      "photoUrl": "https://lh3.googleusercontent.com/a-/AOh14Gg3LUBiuWlo_woqtPR_qeqRj7kvglPwk1cGmPTkiw=s64",
      "userId": "12438224675564049956"
     },
     "user_tz": -180
    },
    "id": "9FtF3k4XQq5r"
   },
   "outputs": [],
   "source": [
    "class TranslationDataset(Dataset):\n",
    "    \n",
    "    def __init__(self, src, trg, src_tokenizer, trg_tokenizer):\n",
    "        \"\"\"\n",
    "            src: source language sentences\n",
    "            trg: target language sentences\n",
    "            src_tokenizer: source language tokenizer\n",
    "            trg_tokenizer: target language tokenizer\n",
    "        \"\"\"\n",
    "        self.src = src\n",
    "        self.trg = trg\n",
    "        \n",
    "        self.src_tokenizer = src_tokenizer\n",
    "        self.trg_tokenizer = trg_tokenizer\n",
    "        \n",
    "        self.data = []\n",
    "        for s, t in zip(src, trg):\n",
    "            self.data.append((self.src_tokenizer(s), self.trg_tokenizer(t)))\n",
    "                \n",
    "    def __len__(self):\n",
    "        \"\"\"\n",
    "            returns: number of pairs\n",
    "        \"\"\"\n",
    "        return len(self.data)\n",
    "    \n",
    "    def __getitem__(self, idx):\n",
    "        \"\"\"\n",
    "            returns: ([indexes of source sentence], [indexes of target sentence])\n",
    "        \"\"\"\n",
    "        return self.data[idx]"
   ]
  },
  {
   "cell_type": "code",
   "execution_count": 16,
   "metadata": {
    "executionInfo": {
     "elapsed": 1708,
     "status": "ok",
     "timestamp": 1634055817627,
     "user": {
      "displayName": "Александр Смирнов",
      "photoUrl": "https://lh3.googleusercontent.com/a-/AOh14Gg3LUBiuWlo_woqtPR_qeqRj7kvglPwk1cGmPTkiw=s64",
      "userId": "12438224675564049956"
     },
     "user_tz": -180
    },
    "id": "Cj3uIZRWQq5s"
   },
   "outputs": [],
   "source": [
    "train_dataset = TranslationDataset(\n",
    "    src=[pair[1] for pair in train],\n",
    "    trg=[pair[0] for pair in train],\n",
    "    src_tokenizer=ru_tokenizer,\n",
    "    trg_tokenizer=en_tokenizer\n",
    ")\n",
    "\n",
    "val_dataset = TranslationDataset(\n",
    "    src=[pair[1] for pair in val],\n",
    "    trg=[pair[0] for pair in val],\n",
    "    src_tokenizer=ru_tokenizer,\n",
    "    trg_tokenizer=en_tokenizer\n",
    ")\n",
    "\n",
    "test_dataset = TranslationDataset(\n",
    "    src=[pair[1] for pair in test],\n",
    "    trg=[pair[0] for pair in test],\n",
    "    src_tokenizer=ru_tokenizer,\n",
    "    trg_tokenizer=en_tokenizer\n",
    ")"
   ]
  },
  {
   "cell_type": "code",
   "execution_count": 17,
   "metadata": {
    "colab": {
     "base_uri": "https://localhost:8080/"
    },
    "executionInfo": {
     "elapsed": 15,
     "status": "ok",
     "timestamp": 1634055817630,
     "user": {
      "displayName": "Александр Смирнов",
      "photoUrl": "https://lh3.googleusercontent.com/a-/AOh14Gg3LUBiuWlo_woqtPR_qeqRj7kvglPwk1cGmPTkiw=s64",
      "userId": "12438224675564049956"
     },
     "user_tz": -180
    },
    "id": "RZ4Hx9Q8Qq5s",
    "outputId": "e164257c-f109-4b1a-94a4-8ee95872a2ab"
   },
   "outputs": [
    {
     "name": "stdout",
     "output_type": "stream",
     "text": [
      "['The kitchen is equipped with a dishwasher.', 'Кухня оснащена посудомоечной машиной.']\n",
      "([1, 177, 1559, 427, 428, 20, 2], [1, 80, 171, 6, 170, 8, 9, 178, 22, 2])\n",
      "[177, 1559, 427, 428, 20]\n",
      "кухня оснащена посудомоечной машиной .\n",
      "the kitchen is equipped with a dishwasher .\n"
     ]
    }
   ],
   "source": [
    "print(train[-2])\n",
    "print(train_dataset[-2])\n",
    "print([ru_tokenizer.word2index[word] for word in text_preprocessor(train[-2][1])])\n",
    "print(ru_tokenizer.detokenize(train_dataset[-2][0]))\n",
    "print(en_tokenizer.detokenize(train_dataset[-2][1]))"
   ]
  },
  {
   "cell_type": "code",
   "execution_count": 18,
   "metadata": {
    "executionInfo": {
     "elapsed": 13,
     "status": "ok",
     "timestamp": 1634055817631,
     "user": {
      "displayName": "Александр Смирнов",
      "photoUrl": "https://lh3.googleusercontent.com/a-/AOh14Gg3LUBiuWlo_woqtPR_qeqRj7kvglPwk1cGmPTkiw=s64",
      "userId": "12438224675564049956"
     },
     "user_tz": -180
    },
    "id": "2RFq7bDNQq5s"
   },
   "outputs": [],
   "source": [
    "src_pad_idx = ru_tokenizer.word2index[\"<pad>\"]\n",
    "trg_pad_idx = en_tokenizer.word2index[\"<pad>\"]\n",
    "\n",
    "def collate_fn(batch):\n",
    "    \"\"\"\n",
    "        batch: pair of lists of words indexes\n",
    "        \n",
    "        returns: list of src, list of trg\n",
    "    \"\"\"\n",
    "    src, trg = map(list, zip(*batch))\n",
    "    max_src = max(list(map(len, src)))\n",
    "    max_trg = max(list(map(len, trg)))\n",
    "    src = torch.tensor([s + [src_pad_idx] * (max_src - len(s)) for s in src])\n",
    "    trg = torch.tensor([t + [trg_pad_idx] * (max_trg - len(t)) for t in trg])\n",
    "    \n",
    "    return src, trg"
   ]
  },
  {
   "cell_type": "code",
   "execution_count": 19,
   "metadata": {
    "colab": {
     "base_uri": "https://localhost:8080/"
    },
    "executionInfo": {
     "elapsed": 13,
     "status": "ok",
     "timestamp": 1634055817631,
     "user": {
      "displayName": "Александр Смирнов",
      "photoUrl": "https://lh3.googleusercontent.com/a-/AOh14Gg3LUBiuWlo_woqtPR_qeqRj7kvglPwk1cGmPTkiw=s64",
      "userId": "12438224675564049956"
     },
     "user_tz": -180
    },
    "id": "3WnmlrmUQq5s",
    "outputId": "da12d53b-e03c-42eb-b74a-2b13b1771ce5"
   },
   "outputs": [
    {
     "name": "stdout",
     "output_type": "stream",
     "text": [
      "torch.Size([32, 47])\n",
      "torch.Size([32, 39])\n"
     ]
    },
    {
     "data": {
      "text/plain": [
       "tensor([[  1,   4,   5,  ...,   0,   0,   0],\n",
       "        [  1,  21,  22,  ...,   0,   0,   0],\n",
       "        [  1,  34,   3,  ...,   0,   0,   0],\n",
       "        ...,\n",
       "        [  1, 259,  23,  ...,   0,   0,   0],\n",
       "        [  1,  76,  77,  ...,   0,   0,   0],\n",
       "        [  1, 279, 159,  ...,   0,   0,   0]])"
      ]
     },
     "execution_count": 19,
     "metadata": {},
     "output_type": "execute_result"
    }
   ],
   "source": [
    "BATCH_SIZE = 32\n",
    "\n",
    "train_dataloader = DataLoader(train_dataset, batch_size=BATCH_SIZE, shuffle=False, collate_fn=collate_fn)\n",
    "val_dataloader = DataLoader(val_dataset, batch_size=BATCH_SIZE, shuffle=False, collate_fn=collate_fn)\n",
    "test_dataloader = DataLoader(test_dataset, batch_size=BATCH_SIZE, shuffle=False, collate_fn=collate_fn)\n",
    "\n",
    "batch = next(iter(train_dataloader))\n",
    "src, trg = batch\n",
    "print(src.shape)\n",
    "print(trg.shape)\n",
    "src"
   ]
  },
  {
   "cell_type": "markdown",
   "metadata": {
    "id": "XMemC8ARQq5t"
   },
   "source": [
    "### model"
   ]
  },
  {
   "cell_type": "code",
   "execution_count": 20,
   "metadata": {},
   "outputs": [],
   "source": [
    "class Decoder(nn.Module):\n",
    "    def __init__(self, output_dim, emb_dim, hid_dim, n_layers, dropout):\n",
    "        super().__init__()\n",
    "\n",
    "        self.emb_dim = emb_dim\n",
    "        self.hid_dim = hid_dim\n",
    "        self.output_dim = output_dim\n",
    "        self.n_layers = n_layers\n",
    "        self.dropout = dropout\n",
    "        \n",
    "        self.embedding = nn.Embedding(\n",
    "            num_embeddings=output_dim,\n",
    "            embedding_dim=emb_dim\n",
    "        )\n",
    "        \n",
    "        self.rnn = nn.LSTM(\n",
    "            input_size=emb_dim,\n",
    "            hidden_size=hid_dim,\n",
    "            num_layers=n_layers,\n",
    "            dropout=dropout,\n",
    "            batch_first=True\n",
    "        )\n",
    "        \n",
    "        self.out = nn.Linear(\n",
    "            in_features=hid_dim,\n",
    "            out_features=output_dim\n",
    "        )\n",
    "        \n",
    "        self.dropout = nn.Dropout(p=dropout)\n",
    "        \n",
    "    def forward(self, input, hidden, cell):\n",
    "        \n",
    "        #input = [batch size]\n",
    "        #hidden = [n layers * n directions, batch size, hid dim]\n",
    "        #cell = [n layers * n directions, batch size, hid dim]\n",
    "        \n",
    "        #n directions in the decoder will both always be 1, therefore:\n",
    "        #hidden = [n layers, batch size, hid dim]\n",
    "        #context = [n layers, batch size, hid dim]\n",
    "        \n",
    "        #input = [batch size, 1]\n",
    "        input = input.unsqueeze(1)\n",
    "        \n",
    "        embedded = self.embedding(input)\n",
    "        embedded = self.dropout(embedded)\n",
    "        \n",
    "        \n",
    "        output, (hidden, cell) = self.rnn(embedded, (hidden, cell))\n",
    "        prediction = self.out(output.squeeze(1))\n",
    "        \n",
    "        return prediction, hidden, cell"
   ]
  },
  {
   "cell_type": "code",
   "execution_count": 21,
   "metadata": {
    "executionInfo": {
     "elapsed": 7,
     "status": "ok",
     "timestamp": 1634055817632,
     "user": {
      "displayName": "Александр Смирнов",
      "photoUrl": "https://lh3.googleusercontent.com/a-/AOh14Gg3LUBiuWlo_woqtPR_qeqRj7kvglPwk1cGmPTkiw=s64",
      "userId": "12438224675564049956"
     },
     "user_tz": -180
    },
    "id": "MqQFbQzsQq5t"
   },
   "outputs": [],
   "source": [
    "class Encoder(nn.Module):\n",
    "    def __init__(self, input_dim, emb_dim, hid_dim, n_layers, dropout):\n",
    "        super().__init__()\n",
    "        \n",
    "        self.input_dim = input_dim\n",
    "        self.emb_dim = emb_dim\n",
    "        self.hid_dim = hid_dim\n",
    "        self.n_layers = n_layers\n",
    "        \n",
    "        self.embedding = nn.Embedding(\n",
    "            num_embeddings=input_dim,\n",
    "            embedding_dim=emb_dim\n",
    "        )\n",
    "        \n",
    "        self.rnn = nn.LSTM(\n",
    "            input_size=emb_dim,\n",
    "            hidden_size=hid_dim,\n",
    "            num_layers=n_layers,\n",
    "            dropout=dropout,\n",
    "            batch_first=True\n",
    "        )\n",
    "        \n",
    "        self.dropout = nn.Dropout(p=dropout)\n",
    "        \n",
    "    def forward(self, src):\n",
    "        \n",
    "        embedded = self.embedding(src)\n",
    "        embedded = self.dropout(embedded)\n",
    "        \n",
    "        output, (hidden, cell) = self.rnn(embedded)\n",
    "        \n",
    "        #outputs = [src sent len, batch size, hid dim * n directions]\n",
    "        #hidden = [n layers * n directions, batch size, hid dim]\n",
    "        #cell = [n layers * n directions, batch size, hid dim]\n",
    "        \n",
    "        #outputs are always from the top hidden layer\n",
    "        \n",
    "        return output, (hidden, cell)\n",
    "    \n",
    "\n",
    "class Seq2Seq(nn.Module):\n",
    "    def __init__(self, encoder, decoder, device):\n",
    "        super().__init__()\n",
    "        \n",
    "        self.encoder = encoder\n",
    "        self.decoder = decoder\n",
    "        self.device = device\n",
    "        \n",
    "        assert encoder.hid_dim == decoder.hid_dim, \\\n",
    "            \"Hidden dimensions of encoder and decoder must be equal!\"\n",
    "        assert encoder.n_layers == decoder.n_layers, \\\n",
    "            \"Encoder and decoder must have equal number of layers!\"\n",
    "        \n",
    "    def forward(self, src, trg, teacher_forcing_ratio=0.5):\n",
    "        \n",
    "        #teacher_forcing_ratio is probability to use teacher forcing\n",
    "        #e.g. if teacher_forcing_ratio is 0.75 we use ground-truth inputs 75% of the time\n",
    "        \n",
    "        batch_size = trg.shape[0]\n",
    "        max_len = trg.shape[1]\n",
    "        trg_vocab_size = self.decoder.output_dim\n",
    "        \n",
    "        #tensor to store decoder outputs\n",
    "        outputs = torch.zeros(batch_size, max_len, trg_vocab_size).to(self.device)\n",
    "        \n",
    "        #last hidden state of the encoder is used as the initial hidden state of the decoder\n",
    "        encoder_outputs, (hidden, cell) = self.encoder(src)\n",
    "        \n",
    "        #first input to the decoder is the <sos> tokens\n",
    "        input = trg[:, 0]\n",
    "        \n",
    "        for t in range(1, max_len):\n",
    "            \n",
    "            output, hidden, cell = self.decoder(input, hidden, cell, encoder_outputs)\n",
    "            outputs[:,t,:] = output\n",
    "            teacher_force = random.random() < teacher_forcing_ratio\n",
    "            top1 = output.max(1)[1] # max on every batch, pick indexes\n",
    "            input = (trg[:, t] if teacher_force else top1)\n",
    "        \n",
    "        return outputs"
   ]
  },
  {
   "cell_type": "code",
   "execution_count": null,
   "metadata": {},
   "outputs": [],
   "source": []
  },
  {
   "cell_type": "code",
   "execution_count": null,
   "metadata": {},
   "outputs": [],
   "source": []
  },
  {
   "cell_type": "code",
   "execution_count": 53,
   "metadata": {},
   "outputs": [],
   "source": [
    "class Decoder(nn.Module):\n",
    "    def __init__(self, output_dim, emb_dim, hid_dim, n_layers, dropout):\n",
    "        super().__init__()\n",
    "\n",
    "        self.emb_dim = emb_dim\n",
    "        self.hid_dim = hid_dim\n",
    "        self.output_dim = output_dim\n",
    "        self.n_layers = n_layers\n",
    "        self.dropout = dropout\n",
    "        \n",
    "        self.embedding = nn.Embedding(\n",
    "            num_embeddings=output_dim,\n",
    "            embedding_dim=emb_dim\n",
    "        )\n",
    "        \n",
    "        self.dropout = nn.Dropout(p=dropout)\n",
    "        \n",
    "        self.rnn = nn.LSTM(\n",
    "            input_size=emb_dim,\n",
    "            hidden_size=hid_dim,\n",
    "            num_layers=n_layers,\n",
    "            dropout=dropout,\n",
    "            batch_first=True\n",
    "        )\n",
    "        \n",
    "        self.W_attn = nn.Linear(hid_dim, hid_dim, bias=False)\n",
    "        \n",
    "        self.out = nn.Linear(\n",
    "            in_features=2*hid_dim,\n",
    "            out_features=output_dim\n",
    "        )\n",
    "        \n",
    "        \n",
    "    def forward(self, input, hidden, cell, encoder_outputs):\n",
    "        \n",
    "        input = input.unsqueeze(1)\n",
    "        \n",
    "        embedded = self.embedding(input)\n",
    "        embedded = self.dropout(embedded)\n",
    "        \n",
    "        _, (hidden, cell) = self.rnn(embedded, (hidden, cell))\n",
    "        \n",
    "        ht_x_W = self.W_attn(hidden[-1]).unsqueeze(-1) # take hidden state only from last layer [B, HID_DIM, 1]\n",
    "        scores = F.softmax(torch.bmm(encoder_outputs, ht_x_W), dim=1) # encoder_outputs = [B, SEQ_LEN, HID_DIM]\n",
    "        weighted_states = encoder_outputs * scores # dim same as encoder_outputs\n",
    "        attention_output = weighted_states.sum(1) # [B, HID_DIM]\n",
    "\n",
    "        prediction = self.out(torch.cat((hidden[-1].squeeze(0), attention_output), dim=-1))\n",
    "        \n",
    "        return prediction, hidden, cell"
   ]
  },
  {
   "cell_type": "code",
   "execution_count": null,
   "metadata": {},
   "outputs": [],
   "source": []
  },
  {
   "cell_type": "code",
   "execution_count": 57,
   "metadata": {
    "colab": {
     "base_uri": "https://localhost:8080/"
    },
    "executionInfo": {
     "elapsed": 395,
     "status": "ok",
     "timestamp": 1634055818021,
     "user": {
      "displayName": "Александр Смирнов",
      "photoUrl": "https://lh3.googleusercontent.com/a-/AOh14Gg3LUBiuWlo_woqtPR_qeqRj7kvglPwk1cGmPTkiw=s64",
      "userId": "12438224675564049956"
     },
     "user_tz": -180
    },
    "id": "tnjbT4n5Qq5u",
    "outputId": "9b7a0406-ad96-48b3-99a1-63ffccb8b7a2"
   },
   "outputs": [
    {
     "name": "stdout",
     "output_type": "stream",
     "text": [
      "torch.Size([128, 46, 6738])\n",
      "The model has 18,647,890 trainable parameters\n"
     ]
    }
   ],
   "source": [
    "INPUT_DIM = ru_tokenizer.vocab_size\n",
    "OUTPUT_DIM = en_tokenizer.vocab_size\n",
    "MAX_SEQ_LEN = 100\n",
    "ENC_EMB_DIM = 256\n",
    "DEC_EMB_DIM = 256\n",
    "HID_DIM = 512\n",
    "N_LAYERS = 2\n",
    "ENC_DROPOUT = 0.5\n",
    "DEC_DROPOUT = 0.5\n",
    "\n",
    "enc = Encoder(INPUT_DIM, ENC_EMB_DIM, HID_DIM, N_LAYERS, ENC_DROPOUT)\n",
    "dec = Decoder(OUTPUT_DIM, DEC_EMB_DIM, HID_DIM, N_LAYERS, DEC_DROPOUT)\n",
    "\n",
    "model = Seq2Seq(enc, dec, device)\n",
    "outputs = model(src, trg)\n",
    "print(outputs.shape)\n",
    "\n",
    "print(f'The model has {count_parameters(model):,} trainable parameters')"
   ]
  },
  {
   "cell_type": "code",
   "execution_count": 58,
   "metadata": {},
   "outputs": [
    {
     "data": {
      "text/plain": [
       "Seq2Seq(\n",
       "  (encoder): Encoder(\n",
       "    (embedding): Embedding(9367, 256)\n",
       "    (rnn): LSTM(256, 512, num_layers=2, batch_first=True, dropout=0.5)\n",
       "    (dropout): Dropout(p=0.5, inplace=False)\n",
       "  )\n",
       "  (decoder): Decoder(\n",
       "    (embedding): Embedding(6738, 256)\n",
       "    (dropout): Dropout(p=0.5, inplace=False)\n",
       "    (rnn): LSTM(256, 512, num_layers=2, batch_first=True, dropout=0.5)\n",
       "    (W_attn): Linear(in_features=512, out_features=512, bias=False)\n",
       "    (out): Linear(in_features=1024, out_features=6738, bias=True)\n",
       "  )\n",
       ")"
      ]
     },
     "execution_count": 58,
     "metadata": {},
     "output_type": "execute_result"
    }
   ],
   "source": [
    "model"
   ]
  },
  {
   "cell_type": "raw",
   "metadata": {},
   "source": [
    "src, trg = next(iter(train_dataloader))\n",
    "output, (hidden, cell) = enc(src)\n",
    "input = trg[:, 0]\n",
    "embedded = embedding(input) # input is a batch of single tokens, so embedded = [B, DEC_EMB_DIM]"
   ]
  },
  {
   "cell_type": "code",
   "execution_count": 59,
   "metadata": {},
   "outputs": [],
   "source": [
    "\n",
    "src, trg = next(iter(train_dataloader))"
   ]
  },
  {
   "cell_type": "code",
   "execution_count": 60,
   "metadata": {},
   "outputs": [
    {
     "data": {
      "text/plain": [
       "tensor([[[ 0.0000,  0.0000,  0.0000,  ...,  0.0000,  0.0000,  0.0000],\n",
       "         [ 0.0068, -0.0350, -0.0028,  ...,  0.0124, -0.0235, -0.0096],\n",
       "         [ 0.0167, -0.0389,  0.0140,  ...,  0.0206, -0.0178, -0.0088],\n",
       "         ...,\n",
       "         [ 0.0076, -0.0329, -0.0038,  ...,  0.0252,  0.0070, -0.0270],\n",
       "         [ 0.0064, -0.0345, -0.0011,  ...,  0.0189,  0.0071, -0.0370],\n",
       "         [ 0.0176, -0.0212,  0.0013,  ...,  0.0145,  0.0215, -0.0429]],\n",
       "\n",
       "        [[ 0.0000,  0.0000,  0.0000,  ...,  0.0000,  0.0000,  0.0000],\n",
       "         [ 0.0513, -0.0238,  0.0117,  ...,  0.0226, -0.0069, -0.0298],\n",
       "         [ 0.0298, -0.0268,  0.0084,  ...,  0.0177, -0.0004, -0.0294],\n",
       "         ...,\n",
       "         [ 0.0210, -0.0680,  0.0272,  ...,  0.0261,  0.0142, -0.0216],\n",
       "         [ 0.0149, -0.0600,  0.0083,  ...,  0.0099,  0.0109, -0.0429],\n",
       "         [ 0.0093, -0.0543,  0.0074,  ..., -0.0079,  0.0150, -0.0469]],\n",
       "\n",
       "        [[ 0.0000,  0.0000,  0.0000,  ...,  0.0000,  0.0000,  0.0000],\n",
       "         [ 0.0294, -0.0437,  0.0100,  ...,  0.0155, -0.0263, -0.0125],\n",
       "         [ 0.0308, -0.0396,  0.0141,  ...,  0.0085, -0.0134, -0.0179],\n",
       "         ...,\n",
       "         [ 0.0207, -0.0413, -0.0009,  ...,  0.0342,  0.0092, -0.0521],\n",
       "         [ 0.0102, -0.0302, -0.0152,  ...,  0.0351,  0.0070, -0.0547],\n",
       "         [ 0.0173, -0.0366, -0.0260,  ...,  0.0188,  0.0112, -0.0572]],\n",
       "\n",
       "        ...,\n",
       "\n",
       "        [[ 0.0000,  0.0000,  0.0000,  ...,  0.0000,  0.0000,  0.0000],\n",
       "         [ 0.0138, -0.0180,  0.0324,  ...,  0.0255, -0.0102, -0.0073],\n",
       "         [ 0.0232, -0.0179,  0.0225,  ...,  0.0289,  0.0011, -0.0103],\n",
       "         ...,\n",
       "         [ 0.0058, -0.0291, -0.0106,  ...,  0.0395, -0.0090, -0.0411],\n",
       "         [ 0.0102, -0.0246,  0.0025,  ...,  0.0390,  0.0018, -0.0519],\n",
       "         [ 0.0251, -0.0381,  0.0166,  ...,  0.0458, -0.0041, -0.0615]],\n",
       "\n",
       "        [[ 0.0000,  0.0000,  0.0000,  ...,  0.0000,  0.0000,  0.0000],\n",
       "         [ 0.0235, -0.0454,  0.0448,  ...,  0.0247, -0.0219, -0.0162],\n",
       "         [ 0.0281, -0.0479,  0.0315,  ..., -0.0046, -0.0100, -0.0376],\n",
       "         ...,\n",
       "         [ 0.0329, -0.0554,  0.0095,  ...,  0.0533,  0.0092, -0.0275],\n",
       "         [ 0.0259, -0.0418,  0.0198,  ...,  0.0399,  0.0051, -0.0339],\n",
       "         [ 0.0394, -0.0365,  0.0168,  ...,  0.0325, -0.0044, -0.0289]],\n",
       "\n",
       "        [[ 0.0000,  0.0000,  0.0000,  ...,  0.0000,  0.0000,  0.0000],\n",
       "         [ 0.0075, -0.0396, -0.0051,  ...,  0.0073, -0.0078, -0.0365],\n",
       "         [ 0.0298, -0.0350,  0.0009,  ...,  0.0071, -0.0042, -0.0355],\n",
       "         ...,\n",
       "         [ 0.0087, -0.0311, -0.0029,  ...,  0.0196,  0.0147, -0.0387],\n",
       "         [ 0.0009, -0.0119, -0.0036,  ...,  0.0203,  0.0054, -0.0451],\n",
       "         [ 0.0154, -0.0112, -0.0114,  ...,  0.0303, -0.0040, -0.0555]]],\n",
       "       device='cuda:0', grad_fn=<CopySlices>)"
      ]
     },
     "execution_count": 60,
     "metadata": {},
     "output_type": "execute_result"
    }
   ],
   "source": [
    "model(src, trg)"
   ]
  },
  {
   "cell_type": "markdown",
   "metadata": {
    "id": "fGx6wePZQq5u"
   },
   "source": [
    "### trainer"
   ]
  },
  {
   "cell_type": "code",
   "execution_count": 61,
   "metadata": {
    "executionInfo": {
     "elapsed": 10,
     "status": "ok",
     "timestamp": 1634055818021,
     "user": {
      "displayName": "Александр Смирнов",
      "photoUrl": "https://lh3.googleusercontent.com/a-/AOh14Gg3LUBiuWlo_woqtPR_qeqRj7kvglPwk1cGmPTkiw=s64",
      "userId": "12438224675564049956"
     },
     "user_tz": -180
    },
    "id": "SCFhPk2nQq5u"
   },
   "outputs": [],
   "source": [
    "class Trainer:\n",
    "    \n",
    "    def __init__(\n",
    "            self, \n",
    "            model, \n",
    "            optimizer, \n",
    "            criterion, \n",
    "            logdir=\"./logs\", \n",
    "            device=None\n",
    "    ):\n",
    "        self.device = device\n",
    "        self.model = model.to(self.device)\n",
    "        self.optimizer = optimizer\n",
    "        self.criterion = criterion.to(self.device)\n",
    "        self.logdir = logdir\n",
    "        self._writer = SummaryWriter(log_dir=logdir)\n",
    "    \n",
    "    def _calculate_loss(self, batch, train=True):\n",
    "        \"\"\"\n",
    "            batch: \n",
    "            \n",
    "            returns: batch loss\n",
    "        \"\"\"\n",
    "        src, trg = batch\n",
    "        \n",
    "        src = src.to(self.device)\n",
    "        trg = trg.to(self.device)\n",
    "        \n",
    "        if train:\n",
    "            output = self.model(src, trg, self.teacher_forcing_ratio)\n",
    "        else:\n",
    "            output = self.model(src, trg, 0)\n",
    "        \n",
    "        output = output[:,1:].reshape(-1, output.shape[-1])\n",
    "        trg = trg[:,1:].reshape(-1)\n",
    "        \n",
    "        loss = self.criterion(output, trg)\n",
    "        \n",
    "        return loss\n",
    "    \n",
    "    def _train_step(self, dataloader):\n",
    "        \"\"\"\n",
    "            returns: лосс на датасете для обучения\n",
    "        \"\"\"\n",
    "        self.model.train()\n",
    "        epoch_loss = 0.0\n",
    "        \n",
    "        for batch in tqdm(dataloader):\n",
    "            self.optimizer.zero_grad()\n",
    "            \n",
    "            loss = self._calculate_loss(batch, train=True)\n",
    "            loss.backward()\n",
    "            torch.nn.utils.clip_grad_norm_(model.parameters(), self.clip)\n",
    "            self.optimizer.step()\n",
    "            \n",
    "            epoch_loss += loss.item()\n",
    "            \n",
    "        return epoch_loss / len(dataloader)\n",
    "    \n",
    "    def _eval_step(self, dataloader):\n",
    "        \"\"\"\n",
    "            dataloader: даталоадер для валидации\n",
    "            \n",
    "            returns: лосс на валидации\n",
    "        \"\"\"\n",
    "        self.model.eval()\n",
    "        \n",
    "        epoch_loss = 0.0\n",
    "        \n",
    "        with torch.no_grad():\n",
    "            for batch in dataloader:\n",
    "                loss = self._calculate_loss(batch, train=False)\n",
    "                epoch_loss += loss\n",
    "            \n",
    "        return epoch_loss / len(dataloader)\n",
    "    \n",
    "    def train(self, dataloaders, n_epochs, clip=1, teacher_forcing_ratio=0.5, verbose=True):\n",
    "        \"\"\"\n",
    "            dataloaders: словарь вида {'train': train_dataloader, 'eval': eval_dataloader}\n",
    "            n_epochs: количество эпох обучения\n",
    "            verbose: нужно ли выводить каждую эпоху информацию про лоссы\n",
    "        \"\"\"\n",
    "        start = time.time()\n",
    "        \n",
    "        self.train_loss = []\n",
    "        self.val_loss = []\n",
    "        \n",
    "        self.clip=clip\n",
    "        self.teacher_forcing_ratio=teacher_forcing_ratio\n",
    "        \n",
    "        self._n_epoch = 1\n",
    "        for epoch in range(n_epochs):\n",
    "            train_loss = self._train_step(dataloaders['train'])\n",
    "            eval_loss = self._eval_step(dataloaders['eval'])\n",
    "            \n",
    "            self.train_loss.append(train_loss)\n",
    "            self.val_loss.append(eval_loss)\n",
    "            \n",
    "            if self._writer is not None:\n",
    "                self._writer.add_scalar('train/loss', train_loss, global_step=self._n_epoch)\n",
    "                self._writer.add_scalar('eval/loss', eval_loss, global_step=self._n_epoch)\n",
    "                \n",
    "            if verbose:\n",
    "                print(\n",
    "                    'epoch: {:>2}, train loss: {:.4f}, eval loss: {:.4f}, time: {:.4f}' \\\n",
    "                        .format(epoch + 1, train_loss, eval_loss, time.time() - start)\n",
    "                )\n",
    "                    \n",
    "            self._n_epoch += 1\n",
    "            \n",
    "        self.train_time = time.time() - start"
   ]
  },
  {
   "cell_type": "markdown",
   "metadata": {
    "id": "tWkjUtYDQq5v"
   },
   "source": [
    "### training"
   ]
  },
  {
   "cell_type": "code",
   "execution_count": 62,
   "metadata": {
    "colab": {
     "base_uri": "https://localhost:8080/"
    },
    "executionInfo": {
     "elapsed": 10,
     "status": "ok",
     "timestamp": 1634055818022,
     "user": {
      "displayName": "Александр Смирнов",
      "photoUrl": "https://lh3.googleusercontent.com/a-/AOh14Gg3LUBiuWlo_woqtPR_qeqRj7kvglPwk1cGmPTkiw=s64",
      "userId": "12438224675564049956"
     },
     "user_tz": -180
    },
    "id": "atDGrjJUQq5v",
    "outputId": "56ae4f58-afa0-4adc-f2a1-6b5232045a4e"
   },
   "outputs": [
    {
     "name": "stdout",
     "output_type": "stream",
     "text": [
      "cuda\n"
     ]
    }
   ],
   "source": [
    "device = torch.device('cuda' if torch.cuda.is_available() else 'cpu')\n",
    "print(device)"
   ]
  },
  {
   "cell_type": "code",
   "execution_count": 63,
   "metadata": {
    "executionInfo": {
     "elapsed": 398,
     "status": "ok",
     "timestamp": 1634055818417,
     "user": {
      "displayName": "Александр Смирнов",
      "photoUrl": "https://lh3.googleusercontent.com/a-/AOh14Gg3LUBiuWlo_woqtPR_qeqRj7kvglPwk1cGmPTkiw=s64",
      "userId": "12438224675564049956"
     },
     "user_tz": -180
    },
    "id": "FQ4IbdtnQq5v"
   },
   "outputs": [],
   "source": [
    "INPUT_DIM = ru_tokenizer.vocab_size\n",
    "OUTPUT_DIM = en_tokenizer.vocab_size\n",
    "ENC_EMB_DIM = 256\n",
    "DEC_EMB_DIM = 256\n",
    "HID_DIM = 512\n",
    "N_LAYERS = 2\n",
    "ENC_DROPOUT = 0.5\n",
    "DEC_DROPOUT = 0.5\n",
    "\n",
    "enc = Encoder(INPUT_DIM, ENC_EMB_DIM, HID_DIM, N_LAYERS, ENC_DROPOUT)\n",
    "dec = Decoder(OUTPUT_DIM, DEC_EMB_DIM, HID_DIM, N_LAYERS, DEC_DROPOUT)\n",
    "\n",
    "model = Seq2Seq(enc, dec, device)"
   ]
  },
  {
   "cell_type": "code",
   "execution_count": 64,
   "metadata": {
    "executionInfo": {
     "elapsed": 3,
     "status": "ok",
     "timestamp": 1634055818418,
     "user": {
      "displayName": "Александр Смирнов",
      "photoUrl": "https://lh3.googleusercontent.com/a-/AOh14Gg3LUBiuWlo_woqtPR_qeqRj7kvglPwk1cGmPTkiw=s64",
      "userId": "12438224675564049956"
     },
     "user_tz": -180
    },
    "id": "b75xUkk9Qq5v"
   },
   "outputs": [],
   "source": [
    "N_EPOCHS = 10\n",
    "LR = 0.001\n",
    "CLIP = 1\n",
    "TEACHER_FORCING_RATIO = 0.5\n",
    "BATCH_SIZE = 128\n",
    "\n",
    "train_dataloader = DataLoader(train_dataset, batch_size=BATCH_SIZE, shuffle=False, collate_fn=collate_fn)\n",
    "val_dataloader = DataLoader(val_dataset, batch_size=BATCH_SIZE, shuffle=False, collate_fn=collate_fn)\n",
    "test_dataloader = DataLoader(test_dataset, batch_size=BATCH_SIZE, shuffle=False, collate_fn=collate_fn)\n",
    "\n",
    "dataloaders = {\n",
    "    \"train\": train_dataloader,\n",
    "    \"eval\": val_dataloader\n",
    "}"
   ]
  },
  {
   "cell_type": "code",
   "execution_count": 65,
   "metadata": {
    "executionInfo": {
     "elapsed": 1367,
     "status": "ok",
     "timestamp": 1634055819782,
     "user": {
      "displayName": "Александр Смирнов",
      "photoUrl": "https://lh3.googleusercontent.com/a-/AOh14Gg3LUBiuWlo_woqtPR_qeqRj7kvglPwk1cGmPTkiw=s64",
      "userId": "12438224675564049956"
     },
     "user_tz": -180
    },
    "id": "yNuiVA6sQq5w"
   },
   "outputs": [],
   "source": [
    "PAD_IDX = en_tokenizer.word2index[en_tokenizer.pad_token]\n",
    "\n",
    "optimizer = optim.Adam(model.parameters(), lr=LR)\n",
    "criterion = nn.CrossEntropyLoss(ignore_index = PAD_IDX)\n",
    "\n",
    "trainer = Trainer(model, optimizer, criterion, device=device)"
   ]
  },
  {
   "cell_type": "code",
   "execution_count": 66,
   "metadata": {
    "colab": {
     "base_uri": "https://localhost:8080/"
    },
    "executionInfo": {
     "elapsed": 719786,
     "status": "ok",
     "timestamp": 1634056539563,
     "user": {
      "displayName": "Александр Смирнов",
      "photoUrl": "https://lh3.googleusercontent.com/a-/AOh14Gg3LUBiuWlo_woqtPR_qeqRj7kvglPwk1cGmPTkiw=s64",
      "userId": "12438224675564049956"
     },
     "user_tz": -180
    },
    "id": "V_4A1Fv4Qq5w",
    "outputId": "143b54b4-284f-4e0e-bab5-1f37688a5591"
   },
   "outputs": [
    {
     "name": "stderr",
     "output_type": "stream",
     "text": [
      "  1%|          | 3/316 [00:03<06:50,  1.31s/it]\n"
     ]
    },
    {
     "ename": "KeyboardInterrupt",
     "evalue": "",
     "output_type": "error",
     "traceback": [
      "\u001b[0;31m---------------------------------------------------------------------------\u001b[0m",
      "\u001b[0;31mKeyboardInterrupt\u001b[0m                         Traceback (most recent call last)",
      "\u001b[0;32m<ipython-input-66-5720c010018d>\u001b[0m in \u001b[0;36m<module>\u001b[0;34m\u001b[0m\n\u001b[0;32m----> 1\u001b[0;31m \u001b[0mtrainer\u001b[0m\u001b[0;34m.\u001b[0m\u001b[0mtrain\u001b[0m\u001b[0;34m(\u001b[0m\u001b[0mdataloaders\u001b[0m\u001b[0;34m,\u001b[0m \u001b[0mN_EPOCHS\u001b[0m\u001b[0;34m,\u001b[0m \u001b[0mCLIP\u001b[0m\u001b[0;34m,\u001b[0m \u001b[0mTEACHER_FORCING_RATIO\u001b[0m\u001b[0;34m)\u001b[0m\u001b[0;34m\u001b[0m\u001b[0;34m\u001b[0m\u001b[0m\n\u001b[0m",
      "\u001b[0;32m<ipython-input-61-a67cb49f018c>\u001b[0m in \u001b[0;36mtrain\u001b[0;34m(self, dataloaders, n_epochs, clip, teacher_forcing_ratio, verbose)\u001b[0m\n\u001b[1;32m     91\u001b[0m         \u001b[0mself\u001b[0m\u001b[0;34m.\u001b[0m\u001b[0m_n_epoch\u001b[0m \u001b[0;34m=\u001b[0m \u001b[0;36m1\u001b[0m\u001b[0;34m\u001b[0m\u001b[0;34m\u001b[0m\u001b[0m\n\u001b[1;32m     92\u001b[0m         \u001b[0;32mfor\u001b[0m \u001b[0mepoch\u001b[0m \u001b[0;32min\u001b[0m \u001b[0mrange\u001b[0m\u001b[0;34m(\u001b[0m\u001b[0mn_epochs\u001b[0m\u001b[0;34m)\u001b[0m\u001b[0;34m:\u001b[0m\u001b[0;34m\u001b[0m\u001b[0;34m\u001b[0m\u001b[0m\n\u001b[0;32m---> 93\u001b[0;31m             \u001b[0mtrain_loss\u001b[0m \u001b[0;34m=\u001b[0m \u001b[0mself\u001b[0m\u001b[0;34m.\u001b[0m\u001b[0m_train_step\u001b[0m\u001b[0;34m(\u001b[0m\u001b[0mdataloaders\u001b[0m\u001b[0;34m[\u001b[0m\u001b[0;34m'train'\u001b[0m\u001b[0;34m]\u001b[0m\u001b[0;34m)\u001b[0m\u001b[0;34m\u001b[0m\u001b[0;34m\u001b[0m\u001b[0m\n\u001b[0m\u001b[1;32m     94\u001b[0m             \u001b[0meval_loss\u001b[0m \u001b[0;34m=\u001b[0m \u001b[0mself\u001b[0m\u001b[0;34m.\u001b[0m\u001b[0m_eval_step\u001b[0m\u001b[0;34m(\u001b[0m\u001b[0mdataloaders\u001b[0m\u001b[0;34m[\u001b[0m\u001b[0;34m'eval'\u001b[0m\u001b[0;34m]\u001b[0m\u001b[0;34m)\u001b[0m\u001b[0;34m\u001b[0m\u001b[0;34m\u001b[0m\u001b[0m\n\u001b[1;32m     95\u001b[0m \u001b[0;34m\u001b[0m\u001b[0m\n",
      "\u001b[0;32m<ipython-input-61-a67cb49f018c>\u001b[0m in \u001b[0;36m_train_step\u001b[0;34m(self, dataloader)\u001b[0m\n\u001b[1;32m     50\u001b[0m \u001b[0;34m\u001b[0m\u001b[0m\n\u001b[1;32m     51\u001b[0m             \u001b[0mloss\u001b[0m \u001b[0;34m=\u001b[0m \u001b[0mself\u001b[0m\u001b[0;34m.\u001b[0m\u001b[0m_calculate_loss\u001b[0m\u001b[0;34m(\u001b[0m\u001b[0mbatch\u001b[0m\u001b[0;34m,\u001b[0m \u001b[0mtrain\u001b[0m\u001b[0;34m=\u001b[0m\u001b[0;32mTrue\u001b[0m\u001b[0;34m)\u001b[0m\u001b[0;34m\u001b[0m\u001b[0;34m\u001b[0m\u001b[0m\n\u001b[0;32m---> 52\u001b[0;31m             \u001b[0mloss\u001b[0m\u001b[0;34m.\u001b[0m\u001b[0mbackward\u001b[0m\u001b[0;34m(\u001b[0m\u001b[0;34m)\u001b[0m\u001b[0;34m\u001b[0m\u001b[0;34m\u001b[0m\u001b[0m\n\u001b[0m\u001b[1;32m     53\u001b[0m             \u001b[0mtorch\u001b[0m\u001b[0;34m.\u001b[0m\u001b[0mnn\u001b[0m\u001b[0;34m.\u001b[0m\u001b[0mutils\u001b[0m\u001b[0;34m.\u001b[0m\u001b[0mclip_grad_norm_\u001b[0m\u001b[0;34m(\u001b[0m\u001b[0mmodel\u001b[0m\u001b[0;34m.\u001b[0m\u001b[0mparameters\u001b[0m\u001b[0;34m(\u001b[0m\u001b[0;34m)\u001b[0m\u001b[0;34m,\u001b[0m \u001b[0mself\u001b[0m\u001b[0;34m.\u001b[0m\u001b[0mclip\u001b[0m\u001b[0;34m)\u001b[0m\u001b[0;34m\u001b[0m\u001b[0;34m\u001b[0m\u001b[0m\n\u001b[1;32m     54\u001b[0m             \u001b[0mself\u001b[0m\u001b[0;34m.\u001b[0m\u001b[0moptimizer\u001b[0m\u001b[0;34m.\u001b[0m\u001b[0mstep\u001b[0m\u001b[0;34m(\u001b[0m\u001b[0;34m)\u001b[0m\u001b[0;34m\u001b[0m\u001b[0;34m\u001b[0m\u001b[0m\n",
      "\u001b[0;32m~/.local/share/virtualenvs/base/lib/python3.9/site-packages/torch/_tensor.py\u001b[0m in \u001b[0;36mbackward\u001b[0;34m(self, gradient, retain_graph, create_graph, inputs)\u001b[0m\n\u001b[1;32m    253\u001b[0m                 \u001b[0mcreate_graph\u001b[0m\u001b[0;34m=\u001b[0m\u001b[0mcreate_graph\u001b[0m\u001b[0;34m,\u001b[0m\u001b[0;34m\u001b[0m\u001b[0;34m\u001b[0m\u001b[0m\n\u001b[1;32m    254\u001b[0m                 inputs=inputs)\n\u001b[0;32m--> 255\u001b[0;31m         \u001b[0mtorch\u001b[0m\u001b[0;34m.\u001b[0m\u001b[0mautograd\u001b[0m\u001b[0;34m.\u001b[0m\u001b[0mbackward\u001b[0m\u001b[0;34m(\u001b[0m\u001b[0mself\u001b[0m\u001b[0;34m,\u001b[0m \u001b[0mgradient\u001b[0m\u001b[0;34m,\u001b[0m \u001b[0mretain_graph\u001b[0m\u001b[0;34m,\u001b[0m \u001b[0mcreate_graph\u001b[0m\u001b[0;34m,\u001b[0m \u001b[0minputs\u001b[0m\u001b[0;34m=\u001b[0m\u001b[0minputs\u001b[0m\u001b[0;34m)\u001b[0m\u001b[0;34m\u001b[0m\u001b[0;34m\u001b[0m\u001b[0m\n\u001b[0m\u001b[1;32m    256\u001b[0m \u001b[0;34m\u001b[0m\u001b[0m\n\u001b[1;32m    257\u001b[0m     \u001b[0;32mdef\u001b[0m \u001b[0mregister_hook\u001b[0m\u001b[0;34m(\u001b[0m\u001b[0mself\u001b[0m\u001b[0;34m,\u001b[0m \u001b[0mhook\u001b[0m\u001b[0;34m)\u001b[0m\u001b[0;34m:\u001b[0m\u001b[0;34m\u001b[0m\u001b[0;34m\u001b[0m\u001b[0m\n",
      "\u001b[0;32m~/.local/share/virtualenvs/base/lib/python3.9/site-packages/torch/autograd/__init__.py\u001b[0m in \u001b[0;36mbackward\u001b[0;34m(tensors, grad_tensors, retain_graph, create_graph, grad_variables, inputs)\u001b[0m\n\u001b[1;32m    145\u001b[0m         \u001b[0mretain_graph\u001b[0m \u001b[0;34m=\u001b[0m \u001b[0mcreate_graph\u001b[0m\u001b[0;34m\u001b[0m\u001b[0;34m\u001b[0m\u001b[0m\n\u001b[1;32m    146\u001b[0m \u001b[0;34m\u001b[0m\u001b[0m\n\u001b[0;32m--> 147\u001b[0;31m     Variable._execution_engine.run_backward(\n\u001b[0m\u001b[1;32m    148\u001b[0m         \u001b[0mtensors\u001b[0m\u001b[0;34m,\u001b[0m \u001b[0mgrad_tensors_\u001b[0m\u001b[0;34m,\u001b[0m \u001b[0mretain_graph\u001b[0m\u001b[0;34m,\u001b[0m \u001b[0mcreate_graph\u001b[0m\u001b[0;34m,\u001b[0m \u001b[0minputs\u001b[0m\u001b[0;34m,\u001b[0m\u001b[0;34m\u001b[0m\u001b[0;34m\u001b[0m\u001b[0m\n\u001b[1;32m    149\u001b[0m         allow_unreachable=True, accumulate_grad=True)  # allow_unreachable flag\n",
      "\u001b[0;31mKeyboardInterrupt\u001b[0m: "
     ]
    }
   ],
   "source": [
    "trainer.train(dataloaders, N_EPOCHS, CLIP, TEACHER_FORCING_RATIO)"
   ]
  },
  {
   "cell_type": "markdown",
   "metadata": {
    "id": "i1vzd3wnQq5w"
   },
   "source": [
    "### evaluate"
   ]
  },
  {
   "cell_type": "code",
   "execution_count": 59,
   "metadata": {
    "executionInfo": {
     "elapsed": 22,
     "status": "ok",
     "timestamp": 1634056539565,
     "user": {
      "displayName": "Александр Смирнов",
      "photoUrl": "https://lh3.googleusercontent.com/a-/AOh14Gg3LUBiuWlo_woqtPR_qeqRj7kvglPwk1cGmPTkiw=s64",
      "userId": "12438224675564049956"
     },
     "user_tz": -180
    },
    "id": "v95UVyQNQq5w"
   },
   "outputs": [],
   "source": [
    "class Evaluator:\n",
    "    \n",
    "    def __init__(self, model, src_tokenizer, trg_tokenizer, device):\n",
    "        \"\"\"\n",
    "            model: model\n",
    "            src_tokenizer: source language tokenizer\n",
    "            trg_tokenizer: target language tokenizer\n",
    "        \"\"\"\n",
    "        self.model = model.to(device)\n",
    "        \n",
    "        self.src_tokenizer = src_tokenizer\n",
    "        self.trg_tokenizer = trg_tokenizer\n",
    "        self.device = device\n",
    "        \n",
    "    @staticmethod\n",
    "    def _remove_tech_tokens(mystr, tokens_to_remove=['<eos>', '<sos>', '<unk>', '<pad>']):\n",
    "        return [x for x in mystr if x not in tokens_to_remove]\n",
    "    \n",
    "    def translate_text(self, text):\n",
    "        self.model.eval()\n",
    "        \n",
    "        one_text_dataset = TranslationDataset(\n",
    "            src=[text],\n",
    "            trg=[text],\n",
    "            src_tokenizer=ru_tokenizer,\n",
    "            trg_tokenizer=en_tokenizer\n",
    "        )\n",
    "        one_text_dataloader = DataLoader(one_text_dataset, batch_size=1, shuffle=False, collate_fn=collate_fn)\n",
    "        \n",
    "        with torch.no_grad():\n",
    "\n",
    "            src, trg = next(iter(one_text_dataloader))\n",
    "\n",
    "            src = src.to(self.device)\n",
    "            trg = trg.to(self.device)\n",
    "\n",
    "            output = self.model(src, src, 0)\n",
    "\n",
    "            output = output.argmax(dim=-1)\n",
    "\n",
    "            original_text = [self.trg_tokenizer.detokenize(x) for x in trg.detach().cpu().numpy()]\n",
    "            generated_text = [self.trg_tokenizer.detokenize(x) for x in output[:,1:].detach().cpu().numpy()]\n",
    "            \n",
    "        return original_text, generated_text\n",
    "\n",
    "    def translate(self, dataloader):\n",
    "        \n",
    "        self.model.eval()\n",
    "        \n",
    "        original_text = []\n",
    "        generated_text = []\n",
    "        with torch.no_grad():\n",
    "            for batch in tqdm(dataloader):\n",
    "\n",
    "                src, trg = batch\n",
    "\n",
    "                src = src.to(self.device)\n",
    "                trg = trg.to(self.device)\n",
    "\n",
    "                output = self.model(src, src, 0) # trg doesn't matter\n",
    "\n",
    "                output = output.argmax(dim=-1)\n",
    "\n",
    "                original_text.extend([self.trg_tokenizer.detokenize(x) for x in trg.detach().cpu().numpy()])\n",
    "                generated_text.extend([self.trg_tokenizer.detokenize(x) for x in output[:,1:].detach().cpu().numpy()])\n",
    "                \n",
    "        return original_text, generated_text"
   ]
  },
  {
   "cell_type": "code",
   "execution_count": 60,
   "metadata": {
    "colab": {
     "base_uri": "https://localhost:8080/"
    },
    "executionInfo": {
     "elapsed": 19,
     "status": "ok",
     "timestamp": 1634056539565,
     "user": {
      "displayName": "Александр Смирнов",
      "photoUrl": "https://lh3.googleusercontent.com/a-/AOh14Gg3LUBiuWlo_woqtPR_qeqRj7kvglPwk1cGmPTkiw=s64",
      "userId": "12438224675564049956"
     },
     "user_tz": -180
    },
    "id": "9P6Be9QqQq5x",
    "outputId": "6be513f1-917d-47c0-9e66-7c25c90b858f"
   },
   "outputs": [
    {
     "name": "stdout",
     "output_type": "stream",
     "text": [
      "cpu\n"
     ]
    }
   ],
   "source": [
    "device = torch.device('cpu')\n",
    "print(device)\n",
    "\n",
    "evaluator = Evaluator(trainer.model, ru_tokenizer, en_tokenizer, device)"
   ]
  },
  {
   "cell_type": "code",
   "execution_count": 61,
   "metadata": {
    "colab": {
     "base_uri": "https://localhost:8080/"
    },
    "executionInfo": {
     "elapsed": 24417,
     "status": "ok",
     "timestamp": 1634056563967,
     "user": {
      "displayName": "Александр Смирнов",
      "photoUrl": "https://lh3.googleusercontent.com/a-/AOh14Gg3LUBiuWlo_woqtPR_qeqRj7kvglPwk1cGmPTkiw=s64",
      "userId": "12438224675564049956"
     },
     "user_tz": -180
    },
    "id": "cyyqAiUfQq5x",
    "outputId": "1e755929-8b26-447a-aaf1-ed2a2359f290",
    "scrolled": true
   },
   "outputs": [
    {
     "name": "stderr",
     "output_type": "stream",
     "text": [
      "100%|██████████| 10/10 [00:24<00:00,  2.44s/it]\n"
     ]
    }
   ],
   "source": [
    "original_text, generated_text = evaluator.translate(test_dataloader)"
   ]
  },
  {
   "cell_type": "code",
   "execution_count": 62,
   "metadata": {
    "colab": {
     "base_uri": "https://localhost:8080/"
    },
    "executionInfo": {
     "elapsed": 25,
     "status": "ok",
     "timestamp": 1634056563968,
     "user": {
      "displayName": "Александр Смирнов",
      "photoUrl": "https://lh3.googleusercontent.com/a-/AOh14Gg3LUBiuWlo_woqtPR_qeqRj7kvglPwk1cGmPTkiw=s64",
      "userId": "12438224675564049956"
     },
     "user_tz": -180
    },
    "id": "SF4_D6VmQq5x",
    "outputId": "ca136cb2-f5cf-4f93-b8a8-1420efd6a251"
   },
   "outputs": [
    {
     "data": {
      "text/plain": [
       "[['The modern rooms are air conditioned and have a balcony. They offer a flat-screen TV and a fridge.',\n",
       "  'Современные номера с балконом оснащены кондиционером, телевизором с плоским экраном и холодильником.'],\n",
       " ['Vivanta by Taj is located in Chennai’s commercial district, 200 metres from Spencer’s Plaza Mall.',\n",
       "  'Отель Vivanta by Taj находится в коммерческом районе города Ченнай, в 200 метрах от торгового центра Spencer’s Plaza.'],\n",
       " ['Towels and bed linen are available.',\n",
       "  'Предоставляются полотенца и постельное белье.'],\n",
       " ['This holiday home is 11 km from Santorini (Thira) Airport.',\n",
       "  'Расстояние до аэропорта Санторини составляет 11 км.'],\n",
       " ['The functional rooms here will provide you with cable TV and air conditioning.',\n",
       "  'Номера отеля отличаются практичным оформлением и имеют телевизор с кабельными каналами и кондиционер.']]"
      ]
     },
     "execution_count": 62,
     "metadata": {},
     "output_type": "execute_result"
    }
   ],
   "source": [
    "test[10:15]"
   ]
  },
  {
   "cell_type": "code",
   "execution_count": 63,
   "metadata": {
    "colab": {
     "base_uri": "https://localhost:8080/"
    },
    "executionInfo": {
     "elapsed": 20,
     "status": "ok",
     "timestamp": 1634056563969,
     "user": {
      "displayName": "Александр Смирнов",
      "photoUrl": "https://lh3.googleusercontent.com/a-/AOh14Gg3LUBiuWlo_woqtPR_qeqRj7kvglPwk1cGmPTkiw=s64",
      "userId": "12438224675564049956"
     },
     "user_tz": -180
    },
    "id": "lgwItO46Qq5y",
    "outputId": "87866ca9-6b79-4cc9-f956-fc97f9f48e09"
   },
   "outputs": [
    {
     "data": {
      "text/plain": [
       "['the modern rooms are air conditioned and have a balcony . they offer a flat - screen tv and a fridge .',\n",
       " 'by is located in chennai ’ s commercial district , 200 metres from ’ s plaza mall .',\n",
       " 'towels and bed linen are available .',\n",
       " 'this holiday home is 11 km from santorini ( ) airport .',\n",
       " 'the functional rooms here will provide you with cable tv and air conditioning .']"
      ]
     },
     "execution_count": 63,
     "metadata": {},
     "output_type": "execute_result"
    }
   ],
   "source": [
    "original_text[10:15]"
   ]
  },
  {
   "cell_type": "code",
   "execution_count": 64,
   "metadata": {
    "colab": {
     "base_uri": "https://localhost:8080/"
    },
    "executionInfo": {
     "elapsed": 14,
     "status": "ok",
     "timestamp": 1634056563969,
     "user": {
      "displayName": "Александр Смирнов",
      "photoUrl": "https://lh3.googleusercontent.com/a-/AOh14Gg3LUBiuWlo_woqtPR_qeqRj7kvglPwk1cGmPTkiw=s64",
      "userId": "12438224675564049956"
     },
     "user_tz": -180
    },
    "id": "cx2v8e4YQq5y",
    "outputId": "5ec36948-229c-4e85-9686-abf3bf669f57"
   },
   "outputs": [
    {
     "data": {
      "text/plain": [
       "['the air - conditioned rooms are air conditioned and feature a flat - screen tv and a seating area . .',\n",
       " 'is located in the heart of , just metres from the of , and metres from the .',\n",
       " 'towels and bed linen are offered . apartment . . .',\n",
       " 'the nearest airport is pulkovo airport , 19 km from the property . . .',\n",
       " 'rooms at the are air conditioned and feature a tv and a minibar . .']"
      ]
     },
     "execution_count": 64,
     "metadata": {},
     "output_type": "execute_result"
    }
   ],
   "source": [
    "generated_text[10:15]"
   ]
  },
  {
   "cell_type": "code",
   "execution_count": 65,
   "metadata": {
    "executionInfo": {
     "elapsed": 8,
     "status": "ok",
     "timestamp": 1634056563970,
     "user": {
      "displayName": "Александр Смирнов",
      "photoUrl": "https://lh3.googleusercontent.com/a-/AOh14Gg3LUBiuWlo_woqtPR_qeqRj7kvglPwk1cGmPTkiw=s64",
      "userId": "12438224675564049956"
     },
     "user_tz": -180
    },
    "id": "BCiHj88pQq5y"
   },
   "outputs": [],
   "source": [
    "original_text = [text.split(\" \") for text in original_text]\n",
    "generated_text = [text.split(\" \") for text in generated_text]"
   ]
  },
  {
   "cell_type": "code",
   "execution_count": 66,
   "metadata": {
    "colab": {
     "base_uri": "https://localhost:8080/"
    },
    "executionInfo": {
     "elapsed": 780,
     "status": "ok",
     "timestamp": 1634056564744,
     "user": {
      "displayName": "Александр Смирнов",
      "photoUrl": "https://lh3.googleusercontent.com/a-/AOh14Gg3LUBiuWlo_woqtPR_qeqRj7kvglPwk1cGmPTkiw=s64",
      "userId": "12438224675564049956"
     },
     "user_tz": -180
    },
    "id": "b9FxcQabQq5y",
    "outputId": "7af38cf5-bccc-4e95-f1ff-e3e292d0a2c0"
   },
   "outputs": [
    {
     "name": "stdout",
     "output_type": "stream",
     "text": [
      "16.56573766349486\n"
     ]
    }
   ],
   "source": [
    "bleu = corpus_bleu([[text] for text in original_text], generated_text) * 100\n",
    "print(bleu)"
   ]
  },
  {
   "cell_type": "code",
   "execution_count": 67,
   "metadata": {
    "executionInfo": {
     "elapsed": 51,
     "status": "ok",
     "timestamp": 1634056564745,
     "user": {
      "displayName": "Александр Смирнов",
      "photoUrl": "https://lh3.googleusercontent.com/a-/AOh14Gg3LUBiuWlo_woqtPR_qeqRj7kvglPwk1cGmPTkiw=s64",
      "userId": "12438224675564049956"
     },
     "user_tz": -180
    },
    "id": "CBI0qZ0KQq5z"
   },
   "outputs": [],
   "source": [
    "model_name = \"seq2seq\"\n",
    "\n",
    "results[model_name][\"bleu\"] = bleu\n",
    "results[model_name][\"n_params\"] = count_parameters(trainer.model)\n",
    "results[model_name][\"train_time\"] = trainer.train_time\n",
    "results[model_name][\"train_loss\"] = trainer.train_loss\n",
    "results[model_name][\"val_loss\"] = trainer.val_loss"
   ]
  },
  {
   "cell_type": "markdown",
   "metadata": {},
   "source": [
    "## seq2seq w/ decoder attention"
   ]
  },
  {
   "cell_type": "code",
   "execution_count": null,
   "metadata": {},
   "outputs": [],
   "source": []
  },
  {
   "cell_type": "markdown",
   "metadata": {
    "id": "KOEkeKcmQq5z"
   },
   "source": [
    "## Transformer"
   ]
  },
  {
   "cell_type": "code",
   "execution_count": 68,
   "metadata": {
    "executionInfo": {
     "elapsed": 50,
     "status": "ok",
     "timestamp": 1634056564745,
     "user": {
      "displayName": "Александр Смирнов",
      "photoUrl": "https://lh3.googleusercontent.com/a-/AOh14Gg3LUBiuWlo_woqtPR_qeqRj7kvglPwk1cGmPTkiw=s64",
      "userId": "12438224675564049956"
     },
     "user_tz": -180
    },
    "id": "l7dvBbJNQq5z"
   },
   "outputs": [],
   "source": [
    "from torch import Tensor\n",
    "from torch.nn import Transformer\n",
    "import math\n",
    "from torch.nn.utils.rnn import pad_sequence"
   ]
  },
  {
   "cell_type": "code",
   "execution_count": 69,
   "metadata": {
    "colab": {
     "base_uri": "https://localhost:8080/"
    },
    "executionInfo": {
     "elapsed": 50,
     "status": "ok",
     "timestamp": 1634056564746,
     "user": {
      "displayName": "Александр Смирнов",
      "photoUrl": "https://lh3.googleusercontent.com/a-/AOh14Gg3LUBiuWlo_woqtPR_qeqRj7kvglPwk1cGmPTkiw=s64",
      "userId": "12438224675564049956"
     },
     "user_tz": -180
    },
    "id": "cwXuRZI1Qq5z",
    "outputId": "65e06bff-8bba-429f-aca8-30cc0ca3e0e0"
   },
   "outputs": [
    {
     "name": "stdout",
     "output_type": "stream",
     "text": [
      "cpu\n"
     ]
    }
   ],
   "source": [
    "DEVICE = torch.device('cpu')\n",
    "print(DEVICE)"
   ]
  },
  {
   "cell_type": "markdown",
   "metadata": {
    "id": "_4GmqLbWQq50"
   },
   "source": [
    "### dataloader"
   ]
  },
  {
   "cell_type": "code",
   "execution_count": 70,
   "metadata": {
    "executionInfo": {
     "elapsed": 43,
     "status": "ok",
     "timestamp": 1634056564746,
     "user": {
      "displayName": "Александр Смирнов",
      "photoUrl": "https://lh3.googleusercontent.com/a-/AOh14Gg3LUBiuWlo_woqtPR_qeqRj7kvglPwk1cGmPTkiw=s64",
      "userId": "12438224675564049956"
     },
     "user_tz": -180
    },
    "id": "Q_uTbGpEQq50"
   },
   "outputs": [],
   "source": [
    "SRC_PAD_IDX = ru_tokenizer.word2index[\"<pad>\"]\n",
    "TRG_PAD_IDX = en_tokenizer.word2index[\"<pad>\"]\n",
    "\n",
    "def collate_fn(batch):\n",
    "    \"\"\"\n",
    "        batch: pair of lists of words indexes\n",
    "        \n",
    "        returns: list of src, list of trg\n",
    "    \"\"\"\n",
    "    src, trg = map(list, zip(*batch))\n",
    "    \n",
    "    src = list(map(torch.tensor, src))\n",
    "    trg = list(map(torch.tensor, trg))\n",
    "    \n",
    "    src = pad_sequence(src, padding_value=SRC_PAD_IDX)\n",
    "    trg = pad_sequence(trg, padding_value=TRG_PAD_IDX)\n",
    "    \n",
    "    return src, trg"
   ]
  },
  {
   "cell_type": "code",
   "execution_count": 71,
   "metadata": {
    "executionInfo": {
     "elapsed": 43,
     "status": "ok",
     "timestamp": 1634056564747,
     "user": {
      "displayName": "Александр Смирнов",
      "photoUrl": "https://lh3.googleusercontent.com/a-/AOh14Gg3LUBiuWlo_woqtPR_qeqRj7kvglPwk1cGmPTkiw=s64",
      "userId": "12438224675564049956"
     },
     "user_tz": -180
    },
    "id": "NxRZv3SUQq50"
   },
   "outputs": [],
   "source": [
    "BATCH_SIZE = 256\n",
    "\n",
    "train_dataloader = DataLoader(train_dataset, batch_size=BATCH_SIZE, shuffle=False, collate_fn=collate_fn)\n",
    "val_dataloader = DataLoader(val_dataset, batch_size=BATCH_SIZE, shuffle=False, collate_fn=collate_fn)\n",
    "test_dataloader = DataLoader(test_dataset, batch_size=BATCH_SIZE, shuffle=False, collate_fn=collate_fn)\n",
    "\n",
    "dataloaders = {\n",
    "    \"train\": train_dataloader,\n",
    "    \"eval\": val_dataloader\n",
    "}"
   ]
  },
  {
   "cell_type": "code",
   "execution_count": 72,
   "metadata": {
    "colab": {
     "base_uri": "https://localhost:8080/"
    },
    "executionInfo": {
     "elapsed": 42,
     "status": "ok",
     "timestamp": 1634056564747,
     "user": {
      "displayName": "Александр Смирнов",
      "photoUrl": "https://lh3.googleusercontent.com/a-/AOh14Gg3LUBiuWlo_woqtPR_qeqRj7kvglPwk1cGmPTkiw=s64",
      "userId": "12438224675564049956"
     },
     "user_tz": -180
    },
    "id": "ZgpLd7A_Qq50",
    "outputId": "551a77ff-b38b-4b80-9d9a-3504de8a41d3"
   },
   "outputs": [
    {
     "name": "stdout",
     "output_type": "stream",
     "text": [
      "torch.Size([56, 256])\n",
      "torch.Size([46, 256])\n"
     ]
    },
    {
     "data": {
      "text/plain": [
       "tensor([[  1,   1,   1,  ...,   1,   1,   1],\n",
       "        [  4,  21,  34,  ...,  27, 166, 185],\n",
       "        [  5,  22,   3,  ..., 261, 460, 202],\n",
       "        ...,\n",
       "        [  0,   0,   0,  ...,   0,   0,   0],\n",
       "        [  0,   0,   0,  ...,   0,   0,   0],\n",
       "        [  0,   0,   0,  ...,   0,   0,   0]])"
      ]
     },
     "execution_count": 72,
     "metadata": {},
     "output_type": "execute_result"
    }
   ],
   "source": [
    "batch = next(iter(train_dataloader))\n",
    "src, trg = batch\n",
    "src = src.to(DEVICE)\n",
    "trg = trg.to(DEVICE)\n",
    "print(src.shape)\n",
    "print(trg.shape)\n",
    "src"
   ]
  },
  {
   "cell_type": "markdown",
   "metadata": {
    "id": "VE_KpiwUQq50"
   },
   "source": [
    "### masks"
   ]
  },
  {
   "cell_type": "code",
   "execution_count": 73,
   "metadata": {
    "executionInfo": {
     "elapsed": 36,
     "status": "ok",
     "timestamp": 1634056564747,
     "user": {
      "displayName": "Александр Смирнов",
      "photoUrl": "https://lh3.googleusercontent.com/a-/AOh14Gg3LUBiuWlo_woqtPR_qeqRj7kvglPwk1cGmPTkiw=s64",
      "userId": "12438224675564049956"
     },
     "user_tz": -180
    },
    "id": "x2lj1QoOQq51"
   },
   "outputs": [],
   "source": [
    "def generate_square_subsequent_mask(sz):\n",
    "    mask = (torch.triu(torch.ones((sz, sz), device=DEVICE)) == 1).transpose(0, 1)\n",
    "    mask = mask.float().masked_fill(mask == 0, float('-inf')).masked_fill(mask == 1, float(0.0))\n",
    "    return mask\n",
    "\n",
    "\n",
    "def create_mask(src, tgt):\n",
    "    src_seq_len = src.shape[0]\n",
    "    tgt_seq_len = tgt.shape[0]\n",
    "\n",
    "    tgt_mask = generate_square_subsequent_mask(tgt_seq_len)\n",
    "    src_mask = torch.zeros((src_seq_len, src_seq_len),device=DEVICE).type(torch.bool)\n",
    "\n",
    "    src_padding_mask = (src == SRC_PAD_IDX).transpose(0, 1)\n",
    "    tgt_padding_mask = (tgt == TRG_PAD_IDX).transpose(0, 1)\n",
    "    return src_mask, tgt_mask, src_padding_mask, tgt_padding_mask"
   ]
  },
  {
   "cell_type": "code",
   "execution_count": 74,
   "metadata": {
    "executionInfo": {
     "elapsed": 35,
     "status": "ok",
     "timestamp": 1634056564748,
     "user": {
      "displayName": "Александр Смирнов",
      "photoUrl": "https://lh3.googleusercontent.com/a-/AOh14Gg3LUBiuWlo_woqtPR_qeqRj7kvglPwk1cGmPTkiw=s64",
      "userId": "12438224675564049956"
     },
     "user_tz": -180
    },
    "id": "NjsGDFemQq55"
   },
   "outputs": [],
   "source": [
    "src_mask, tgt_mask, src_padding_mask, tgt_padding_mask = create_mask(src, trg)"
   ]
  },
  {
   "cell_type": "code",
   "execution_count": 75,
   "metadata": {
    "colab": {
     "base_uri": "https://localhost:8080/"
    },
    "executionInfo": {
     "elapsed": 35,
     "status": "ok",
     "timestamp": 1634056564748,
     "user": {
      "displayName": "Александр Смирнов",
      "photoUrl": "https://lh3.googleusercontent.com/a-/AOh14Gg3LUBiuWlo_woqtPR_qeqRj7kvglPwk1cGmPTkiw=s64",
      "userId": "12438224675564049956"
     },
     "user_tz": -180
    },
    "id": "bktA1EYtQq55",
    "outputId": "d4abf34c-c338-49f0-9ee5-3435b0e092b0"
   },
   "outputs": [
    {
     "data": {
      "text/plain": [
       "tensor([[False, False, False,  ..., False, False, False],\n",
       "        [False, False, False,  ..., False, False, False],\n",
       "        [False, False, False,  ..., False, False, False],\n",
       "        ...,\n",
       "        [False, False, False,  ..., False, False, False],\n",
       "        [False, False, False,  ..., False, False, False],\n",
       "        [False, False, False,  ..., False, False, False]])"
      ]
     },
     "execution_count": 75,
     "metadata": {},
     "output_type": "execute_result"
    }
   ],
   "source": [
    "src_mask"
   ]
  },
  {
   "cell_type": "code",
   "execution_count": 76,
   "metadata": {
    "colab": {
     "base_uri": "https://localhost:8080/"
    },
    "executionInfo": {
     "elapsed": 29,
     "status": "ok",
     "timestamp": 1634056564749,
     "user": {
      "displayName": "Александр Смирнов",
      "photoUrl": "https://lh3.googleusercontent.com/a-/AOh14Gg3LUBiuWlo_woqtPR_qeqRj7kvglPwk1cGmPTkiw=s64",
      "userId": "12438224675564049956"
     },
     "user_tz": -180
    },
    "id": "cmQTm2QBQq56",
    "outputId": "d225d077-c96f-439c-adbc-58189e8012f6"
   },
   "outputs": [
    {
     "data": {
      "text/plain": [
       "tensor([[0., -inf, -inf,  ..., -inf, -inf, -inf],\n",
       "        [0., 0., -inf,  ..., -inf, -inf, -inf],\n",
       "        [0., 0., 0.,  ..., -inf, -inf, -inf],\n",
       "        ...,\n",
       "        [0., 0., 0.,  ..., 0., -inf, -inf],\n",
       "        [0., 0., 0.,  ..., 0., 0., -inf],\n",
       "        [0., 0., 0.,  ..., 0., 0., 0.]])"
      ]
     },
     "execution_count": 76,
     "metadata": {},
     "output_type": "execute_result"
    }
   ],
   "source": [
    "tgt_mask"
   ]
  },
  {
   "cell_type": "code",
   "execution_count": 77,
   "metadata": {
    "colab": {
     "base_uri": "https://localhost:8080/"
    },
    "executionInfo": {
     "elapsed": 24,
     "status": "ok",
     "timestamp": 1634056564750,
     "user": {
      "displayName": "Александр Смирнов",
      "photoUrl": "https://lh3.googleusercontent.com/a-/AOh14Gg3LUBiuWlo_woqtPR_qeqRj7kvglPwk1cGmPTkiw=s64",
      "userId": "12438224675564049956"
     },
     "user_tz": -180
    },
    "id": "0TC3zkJdQq56",
    "outputId": "f12a2e1a-1099-44a9-a87c-6557ea697975"
   },
   "outputs": [
    {
     "data": {
      "text/plain": [
       "tensor([[False, False, False,  ...,  True,  True,  True],\n",
       "        [False, False, False,  ...,  True,  True,  True],\n",
       "        [False, False, False,  ...,  True,  True,  True],\n",
       "        ...,\n",
       "        [False, False, False,  ...,  True,  True,  True],\n",
       "        [False, False, False,  ...,  True,  True,  True],\n",
       "        [False, False, False,  ...,  True,  True,  True]])"
      ]
     },
     "execution_count": 77,
     "metadata": {},
     "output_type": "execute_result"
    }
   ],
   "source": [
    "src_padding_mask"
   ]
  },
  {
   "cell_type": "code",
   "execution_count": 78,
   "metadata": {
    "colab": {
     "base_uri": "https://localhost:8080/"
    },
    "executionInfo": {
     "elapsed": 17,
     "status": "ok",
     "timestamp": 1634056564750,
     "user": {
      "displayName": "Александр Смирнов",
      "photoUrl": "https://lh3.googleusercontent.com/a-/AOh14Gg3LUBiuWlo_woqtPR_qeqRj7kvglPwk1cGmPTkiw=s64",
      "userId": "12438224675564049956"
     },
     "user_tz": -180
    },
    "id": "oZ785ybaQq56",
    "outputId": "fd00e853-d1a1-4685-cd39-c44bc46bba4c"
   },
   "outputs": [
    {
     "data": {
      "text/plain": [
       "tensor([[False, False, False,  ...,  True,  True,  True],\n",
       "        [False, False, False,  ...,  True,  True,  True],\n",
       "        [False, False, False,  ...,  True,  True,  True],\n",
       "        ...,\n",
       "        [False, False, False,  ...,  True,  True,  True],\n",
       "        [False, False, False,  ...,  True,  True,  True],\n",
       "        [False, False, False,  ...,  True,  True,  True]])"
      ]
     },
     "execution_count": 78,
     "metadata": {},
     "output_type": "execute_result"
    }
   ],
   "source": [
    "tgt_padding_mask"
   ]
  },
  {
   "cell_type": "markdown",
   "metadata": {
    "id": "SDoPWtuTQq56"
   },
   "source": [
    "### model"
   ]
  },
  {
   "cell_type": "code",
   "execution_count": 79,
   "metadata": {
    "executionInfo": {
     "elapsed": 12,
     "status": "ok",
     "timestamp": 1634056564751,
     "user": {
      "displayName": "Александр Смирнов",
      "photoUrl": "https://lh3.googleusercontent.com/a-/AOh14Gg3LUBiuWlo_woqtPR_qeqRj7kvglPwk1cGmPTkiw=s64",
      "userId": "12438224675564049956"
     },
     "user_tz": -180
    },
    "id": "Or92wyn4Qq57"
   },
   "outputs": [],
   "source": [
    "# helper Module that adds positional encoding to the token embedding to introduce a notion of word order.\n",
    "class PositionalEncoding(nn.Module):\n",
    "    def __init__(self,\n",
    "                 emb_size: int,\n",
    "                 dropout: float,\n",
    "                 maxlen: int = 5000):\n",
    "        super(PositionalEncoding, self).__init__()\n",
    "        den = torch.exp(- torch.arange(0, emb_size, 2)* math.log(10000) / emb_size)\n",
    "        pos = torch.arange(0, maxlen).reshape(maxlen, 1)\n",
    "        pos_embedding = torch.zeros((maxlen, emb_size))\n",
    "        pos_embedding[:, 0::2] = torch.sin(pos * den)\n",
    "        pos_embedding[:, 1::2] = torch.cos(pos * den)\n",
    "        pos_embedding = pos_embedding.unsqueeze(-2)\n",
    "\n",
    "        self.dropout = nn.Dropout(dropout)\n",
    "        self.register_buffer('pos_embedding', pos_embedding)\n",
    "\n",
    "    def forward(self, token_embedding: Tensor):\n",
    "        return self.dropout(token_embedding + self.pos_embedding[:token_embedding.size(0), :])\n",
    "\n",
    "# helper Module to convert tensor of input indices into corresponding tensor of token embeddings\n",
    "class TokenEmbedding(nn.Module):\n",
    "    def __init__(self, vocab_size: int, emb_size):\n",
    "        super(TokenEmbedding, self).__init__()\n",
    "        self.embedding = nn.Embedding(vocab_size, emb_size)\n",
    "        self.emb_size = emb_size\n",
    "\n",
    "    def forward(self, tokens: Tensor):\n",
    "        return self.embedding(tokens.long()) * math.sqrt(self.emb_size)\n",
    "\n",
    "# Seq2Seq Network\n",
    "class Seq2SeqTransformer(nn.Module):\n",
    "    def __init__(self,\n",
    "                 num_encoder_layers: int,\n",
    "                 num_decoder_layers: int,\n",
    "                 emb_size: int,\n",
    "                 nhead: int,\n",
    "                 src_vocab_size: int,\n",
    "                 tgt_vocab_size: int,\n",
    "                 dim_feedforward: int = 512,\n",
    "                 dropout: float = 0.1):\n",
    "        super(Seq2SeqTransformer, self).__init__()\n",
    "        self.transformer = Transformer(d_model=emb_size,\n",
    "                                       nhead=nhead,\n",
    "                                       num_encoder_layers=num_encoder_layers,\n",
    "                                       num_decoder_layers=num_decoder_layers,\n",
    "                                       dim_feedforward=dim_feedforward,\n",
    "                                       dropout=dropout)\n",
    "        self.generator = nn.Linear(emb_size, tgt_vocab_size)\n",
    "        self.src_tok_emb = TokenEmbedding(src_vocab_size, emb_size)\n",
    "        self.tgt_tok_emb = TokenEmbedding(tgt_vocab_size, emb_size)\n",
    "        self.positional_encoding = PositionalEncoding(\n",
    "            emb_size, dropout=dropout)\n",
    "\n",
    "    def forward(self,\n",
    "                src: Tensor,\n",
    "                trg: Tensor,\n",
    "                src_mask: Tensor,\n",
    "                tgt_mask: Tensor,\n",
    "                src_padding_mask: Tensor,\n",
    "                tgt_padding_mask: Tensor,\n",
    "                memory_key_padding_mask: Tensor):\n",
    "        src_emb = self.positional_encoding(self.src_tok_emb(src))\n",
    "        tgt_emb = self.positional_encoding(self.tgt_tok_emb(trg))\n",
    "        outs = self.transformer(src_emb, tgt_emb, src_mask, tgt_mask, None,\n",
    "                                src_padding_mask, tgt_padding_mask, memory_key_padding_mask)\n",
    "        return self.generator(outs)\n",
    "\n",
    "    def encode(self, src: Tensor, src_mask: Tensor):\n",
    "        return self.transformer.encoder(self.positional_encoding(\n",
    "                            self.src_tok_emb(src)), src_mask)\n",
    "\n",
    "    def decode(self, tgt: Tensor, memory: Tensor, tgt_mask: Tensor):\n",
    "        return self.transformer.decoder(self.positional_encoding(\n",
    "                          self.tgt_tok_emb(tgt)), memory,\n",
    "                          tgt_mask)"
   ]
  },
  {
   "cell_type": "code",
   "execution_count": 80,
   "metadata": {
    "executionInfo": {
     "elapsed": 495,
     "status": "ok",
     "timestamp": 1634056565234,
     "user": {
      "displayName": "Александр Смирнов",
      "photoUrl": "https://lh3.googleusercontent.com/a-/AOh14Gg3LUBiuWlo_woqtPR_qeqRj7kvglPwk1cGmPTkiw=s64",
      "userId": "12438224675564049956"
     },
     "user_tz": -180
    },
    "id": "zuT4taR1Qq57"
   },
   "outputs": [],
   "source": [
    "torch.manual_seed(0)\n",
    "\n",
    "SRC_VOCAB_SIZE = ru_tokenizer.vocab_size\n",
    "TGT_VOCAB_SIZE = en_tokenizer.vocab_size\n",
    "EMB_SIZE = 512\n",
    "NHEAD = 8\n",
    "FFN_HID_DIM = 512\n",
    "BATCH_SIZE = 128\n",
    "NUM_ENCODER_LAYERS = 3\n",
    "NUM_DECODER_LAYERS = 3\n",
    "\n",
    "transformer = Seq2SeqTransformer(NUM_ENCODER_LAYERS, NUM_DECODER_LAYERS, EMB_SIZE,\n",
    "                                 NHEAD, SRC_VOCAB_SIZE, TGT_VOCAB_SIZE, FFN_HID_DIM)\n",
    "\n",
    "for p in transformer.parameters():\n",
    "    if p.dim() > 1:\n",
    "        nn.init.xavier_uniform_(p)\n",
    "\n",
    "transformer = transformer.to(DEVICE)"
   ]
  },
  {
   "cell_type": "code",
   "execution_count": 81,
   "metadata": {
    "colab": {
     "base_uri": "https://localhost:8080/"
    },
    "executionInfo": {
     "elapsed": 3922,
     "status": "ok",
     "timestamp": 1634056569154,
     "user": {
      "displayName": "Александр Смирнов",
      "photoUrl": "https://lh3.googleusercontent.com/a-/AOh14Gg3LUBiuWlo_woqtPR_qeqRj7kvglPwk1cGmPTkiw=s64",
      "userId": "12438224675564049956"
     },
     "user_tz": -180
    },
    "id": "0f0ZPCZ6Qq57",
    "outputId": "ae7fb7d3-a831-43da-c72f-63bc5127cab0"
   },
   "outputs": [
    {
     "data": {
      "text/plain": [
       "torch.Size([46, 256, 6738])"
      ]
     },
     "execution_count": 81,
     "metadata": {},
     "output_type": "execute_result"
    }
   ],
   "source": [
    "logits = transformer(src, trg, src_mask, tgt_mask, src_padding_mask, tgt_padding_mask, src_padding_mask)\n",
    "logits.shape"
   ]
  },
  {
   "cell_type": "code",
   "execution_count": 82,
   "metadata": {
    "colab": {
     "base_uri": "https://localhost:8080/"
    },
    "executionInfo": {
     "elapsed": 16,
     "status": "ok",
     "timestamp": 1634056569155,
     "user": {
      "displayName": "Александр Смирнов",
      "photoUrl": "https://lh3.googleusercontent.com/a-/AOh14Gg3LUBiuWlo_woqtPR_qeqRj7kvglPwk1cGmPTkiw=s64",
      "userId": "12438224675564049956"
     },
     "user_tz": -180
    },
    "id": "iYLBvCOHQq58",
    "outputId": "99d72867-883a-4168-faab-5961b393f182"
   },
   "outputs": [
    {
     "data": {
      "text/plain": [
       "24327250"
      ]
     },
     "execution_count": 82,
     "metadata": {},
     "output_type": "execute_result"
    }
   ],
   "source": [
    "count_parameters(transformer)"
   ]
  },
  {
   "cell_type": "markdown",
   "metadata": {
    "id": "5TzhXB9KQq58"
   },
   "source": [
    "### trainer"
   ]
  },
  {
   "cell_type": "code",
   "execution_count": 83,
   "metadata": {
    "executionInfo": {
     "elapsed": 13,
     "status": "ok",
     "timestamp": 1634056569155,
     "user": {
      "displayName": "Александр Смирнов",
      "photoUrl": "https://lh3.googleusercontent.com/a-/AOh14Gg3LUBiuWlo_woqtPR_qeqRj7kvglPwk1cGmPTkiw=s64",
      "userId": "12438224675564049956"
     },
     "user_tz": -180
    },
    "id": "iqj7R_RGQq58"
   },
   "outputs": [],
   "source": [
    "class Trainer:\n",
    "    \n",
    "    def __init__(\n",
    "            self, \n",
    "            model, \n",
    "            optimizer, \n",
    "            criterion, \n",
    "            logdir=\"./logs\", \n",
    "            device=None\n",
    "    ):\n",
    "        self.device = device\n",
    "        self.model = model.to(self.device)\n",
    "        self.optimizer = optimizer\n",
    "        self.criterion = criterion.to(self.device)\n",
    "        self.logdir = logdir\n",
    "        self._writer = SummaryWriter(log_dir=logdir)\n",
    "    \n",
    "    def _calculate_loss(self, batch, train=True):\n",
    "        \"\"\"\n",
    "            batch: \n",
    "            \n",
    "            returns: batch loss\n",
    "        \"\"\"\n",
    "        src, trg = batch\n",
    "        \n",
    "        src = src.to(self.device)\n",
    "        trg = trg.to(self.device)\n",
    "        \n",
    "        tgt_input = trg[:-1, :]\n",
    "\n",
    "        src_mask, tgt_mask, src_padding_mask, tgt_padding_mask = create_mask(src, tgt_input)\n",
    "        logits = self.model(src, tgt_input, src_mask, tgt_mask,src_padding_mask, tgt_padding_mask, src_padding_mask)\n",
    "\n",
    "        tgt_out = trg[1:, :]\n",
    "        loss = self.criterion(logits.reshape(-1, logits.shape[-1]), tgt_out.reshape(-1))\n",
    "        \n",
    "        return loss\n",
    "    \n",
    "    def _train_step(self, dataloader):\n",
    "        \"\"\"\n",
    "            returns: лосс на датасете для обучения\n",
    "        \"\"\"\n",
    "        self.model.train()\n",
    "        epoch_loss = 0.0\n",
    "        \n",
    "        for batch in tqdm(dataloader):\n",
    "            self.optimizer.zero_grad()\n",
    "            \n",
    "            loss = self._calculate_loss(batch, train=True)\n",
    "            loss.backward()\n",
    "            self.optimizer.step()\n",
    "            \n",
    "            epoch_loss += loss.item()\n",
    "            \n",
    "        return epoch_loss / len(dataloader)\n",
    "    \n",
    "    def _eval_step(self, dataloader):\n",
    "        \"\"\"\n",
    "            dataloader: даталоадер для валидации\n",
    "            \n",
    "            returns: лосс на валидации\n",
    "        \"\"\"\n",
    "        self.model.eval()\n",
    "        \n",
    "        epoch_loss = 0.0\n",
    "        \n",
    "        with torch.no_grad():\n",
    "            for batch in dataloader:\n",
    "                loss = self._calculate_loss(batch, train=False)\n",
    "                epoch_loss += loss\n",
    "            \n",
    "        return epoch_loss / len(dataloader)\n",
    "    \n",
    "    def train(self, dataloaders, n_epochs, verbose=True):\n",
    "        \"\"\"\n",
    "            dataloaders: словарь вида {'train': train_dataloader, 'eval': eval_dataloader}\n",
    "            n_epochs: количество эпох обучения\n",
    "            verbose: нужно ли выводить каждую эпоху информацию про лоссы\n",
    "        \"\"\"\n",
    "        start = time.time()\n",
    "        \n",
    "        self.train_loss = []\n",
    "        self.val_loss = []\n",
    "        \n",
    "        self._n_epoch = 1\n",
    "        for epoch in range(n_epochs):\n",
    "            train_loss = self._train_step(dataloaders['train'])\n",
    "            eval_loss = self._eval_step(dataloaders['eval'])\n",
    "            \n",
    "            self.train_loss.append(train_loss)\n",
    "            self.val_loss.append(eval_loss)\n",
    "            \n",
    "            if self._writer is not None:\n",
    "                self._writer.add_scalar('train/loss', train_loss, global_step=self._n_epoch)\n",
    "                self._writer.add_scalar('eval/loss', eval_loss, global_step=self._n_epoch)\n",
    "                \n",
    "            if verbose:\n",
    "                print(\n",
    "                    'epoch: {:>2}, train loss: {:.4f}, eval loss: {:.4f}, time: {:.4f}' \\\n",
    "                        .format(epoch + 1, train_loss, eval_loss, time.time() - start)\n",
    "                )\n",
    "                    \n",
    "            self._n_epoch += 1\n",
    "            \n",
    "        self.train_time = time.time() - start"
   ]
  },
  {
   "cell_type": "code",
   "execution_count": 84,
   "metadata": {
    "colab": {
     "base_uri": "https://localhost:8080/"
    },
    "executionInfo": {
     "elapsed": 14,
     "status": "ok",
     "timestamp": 1634056569156,
     "user": {
      "displayName": "Александр Смирнов",
      "photoUrl": "https://lh3.googleusercontent.com/a-/AOh14Gg3LUBiuWlo_woqtPR_qeqRj7kvglPwk1cGmPTkiw=s64",
      "userId": "12438224675564049956"
     },
     "user_tz": -180
    },
    "id": "Vzft8PnVQq59",
    "outputId": "565c52df-0a85-473c-a0f3-f834df2bce12"
   },
   "outputs": [
    {
     "name": "stdout",
     "output_type": "stream",
     "text": [
      "cuda\n"
     ]
    }
   ],
   "source": [
    "DEVICE = torch.device('cuda' if torch.cuda.is_available() else 'cpu')\n",
    "print(DEVICE)"
   ]
  },
  {
   "cell_type": "code",
   "execution_count": 85,
   "metadata": {
    "executionInfo": {
     "elapsed": 6,
     "status": "ok",
     "timestamp": 1634056569156,
     "user": {
      "displayName": "Александр Смирнов",
      "photoUrl": "https://lh3.googleusercontent.com/a-/AOh14Gg3LUBiuWlo_woqtPR_qeqRj7kvglPwk1cGmPTkiw=s64",
      "userId": "12438224675564049956"
     },
     "user_tz": -180
    },
    "id": "w0Ie_imlQq59"
   },
   "outputs": [],
   "source": [
    "BATCH_SIZE = 64\n",
    "\n",
    "train_dataloader = DataLoader(train_dataset, batch_size=BATCH_SIZE, shuffle=False, collate_fn=collate_fn)\n",
    "val_dataloader = DataLoader(val_dataset, batch_size=BATCH_SIZE, shuffle=False, collate_fn=collate_fn)\n",
    "test_dataloader = DataLoader(test_dataset, batch_size=BATCH_SIZE, shuffle=False, collate_fn=collate_fn)\n",
    "\n",
    "dataloaders = {\n",
    "    \"train\": train_dataloader,\n",
    "    \"eval\": val_dataloader\n",
    "}"
   ]
  },
  {
   "cell_type": "code",
   "execution_count": 86,
   "metadata": {
    "executionInfo": {
     "elapsed": 488,
     "status": "ok",
     "timestamp": 1634056569638,
     "user": {
      "displayName": "Александр Смирнов",
      "photoUrl": "https://lh3.googleusercontent.com/a-/AOh14Gg3LUBiuWlo_woqtPR_qeqRj7kvglPwk1cGmPTkiw=s64",
      "userId": "12438224675564049956"
     },
     "user_tz": -180
    },
    "id": "lDcjbs5wQq59"
   },
   "outputs": [],
   "source": [
    "torch.manual_seed(0)\n",
    "\n",
    "SRC_VOCAB_SIZE = ru_tokenizer.vocab_size\n",
    "TGT_VOCAB_SIZE = en_tokenizer.vocab_size\n",
    "EMB_SIZE = 512\n",
    "NHEAD = 8\n",
    "FFN_HID_DIM = 512\n",
    "BATCH_SIZE = 128\n",
    "NUM_ENCODER_LAYERS = 3\n",
    "NUM_DECODER_LAYERS = 3\n",
    "\n",
    "transformer = Seq2SeqTransformer(NUM_ENCODER_LAYERS, NUM_DECODER_LAYERS, EMB_SIZE,\n",
    "                                 NHEAD, SRC_VOCAB_SIZE, TGT_VOCAB_SIZE, FFN_HID_DIM)\n",
    "\n",
    "for p in transformer.parameters():\n",
    "    if p.dim() > 1:\n",
    "        nn.init.xavier_uniform_(p)\n",
    "\n",
    "transformer = transformer.to(DEVICE)"
   ]
  },
  {
   "cell_type": "code",
   "execution_count": 87,
   "metadata": {
    "executionInfo": {
     "elapsed": 5,
     "status": "ok",
     "timestamp": 1634056569638,
     "user": {
      "displayName": "Александр Смирнов",
      "photoUrl": "https://lh3.googleusercontent.com/a-/AOh14Gg3LUBiuWlo_woqtPR_qeqRj7kvglPwk1cGmPTkiw=s64",
      "userId": "12438224675564049956"
     },
     "user_tz": -180
    },
    "id": "fA8cMO8ZQq59"
   },
   "outputs": [],
   "source": [
    "criterion = nn.CrossEntropyLoss(ignore_index = en_tokenizer.word2index[en_tokenizer.pad_token])\n",
    "optimizer = torch.optim.Adam(transformer.parameters(), lr=0.0001, betas=(0.9, 0.98), eps=1e-9)\n",
    "\n",
    "trainer = Trainer(transformer, optimizer, criterion, device=DEVICE)"
   ]
  },
  {
   "cell_type": "code",
   "execution_count": 88,
   "metadata": {
    "executionInfo": {
     "elapsed": 7,
     "status": "ok",
     "timestamp": 1634056569640,
     "user": {
      "displayName": "Александр Смирнов",
      "photoUrl": "https://lh3.googleusercontent.com/a-/AOh14Gg3LUBiuWlo_woqtPR_qeqRj7kvglPwk1cGmPTkiw=s64",
      "userId": "12438224675564049956"
     },
     "user_tz": -180
    },
    "id": "uejEamt7Qq5-"
   },
   "outputs": [],
   "source": [
    "NUM_EPOCHS = 15"
   ]
  },
  {
   "cell_type": "code",
   "execution_count": 89,
   "metadata": {
    "colab": {
     "base_uri": "https://localhost:8080/"
    },
    "executionInfo": {
     "elapsed": 713354,
     "status": "ok",
     "timestamp": 1634057282988,
     "user": {
      "displayName": "Александр Смирнов",
      "photoUrl": "https://lh3.googleusercontent.com/a-/AOh14Gg3LUBiuWlo_woqtPR_qeqRj7kvglPwk1cGmPTkiw=s64",
      "userId": "12438224675564049956"
     },
     "user_tz": -180
    },
    "id": "lN856XH-Qq5-",
    "outputId": "8cced63f-a32c-429a-fbe0-3daf028afa78"
   },
   "outputs": [
    {
     "name": "stderr",
     "output_type": "stream",
     "text": [
      "100%|██████████| 631/631 [00:45<00:00, 13.93it/s]\n"
     ]
    },
    {
     "name": "stdout",
     "output_type": "stream",
     "text": [
      "epoch:  1, train loss: 4.0490, eval loss: 2.8773, time: 47.7087\n"
     ]
    },
    {
     "name": "stderr",
     "output_type": "stream",
     "text": [
      "100%|██████████| 631/631 [00:45<00:00, 13.97it/s]\n"
     ]
    },
    {
     "name": "stdout",
     "output_type": "stream",
     "text": [
      "epoch:  2, train loss: 2.7067, eval loss: 2.3709, time: 95.2861\n"
     ]
    },
    {
     "name": "stderr",
     "output_type": "stream",
     "text": [
      "100%|██████████| 631/631 [00:45<00:00, 13.98it/s]\n"
     ]
    },
    {
     "name": "stdout",
     "output_type": "stream",
     "text": [
      "epoch:  3, train loss: 2.2997, eval loss: 2.1065, time: 142.8523\n"
     ]
    },
    {
     "name": "stderr",
     "output_type": "stream",
     "text": [
      "100%|██████████| 631/631 [00:45<00:00, 14.01it/s]\n"
     ]
    },
    {
     "name": "stdout",
     "output_type": "stream",
     "text": [
      "epoch:  4, train loss: 2.0423, eval loss: 1.9451, time: 190.3232\n"
     ]
    },
    {
     "name": "stderr",
     "output_type": "stream",
     "text": [
      "100%|██████████| 631/631 [00:45<00:00, 13.97it/s]\n"
     ]
    },
    {
     "name": "stdout",
     "output_type": "stream",
     "text": [
      "epoch:  5, train loss: 1.8547, eval loss: 1.8401, time: 237.9190\n"
     ]
    },
    {
     "name": "stderr",
     "output_type": "stream",
     "text": [
      "100%|██████████| 631/631 [00:45<00:00, 13.98it/s]\n"
     ]
    },
    {
     "name": "stdout",
     "output_type": "stream",
     "text": [
      "epoch:  6, train loss: 1.7062, eval loss: 1.7620, time: 285.4700\n"
     ]
    },
    {
     "name": "stderr",
     "output_type": "stream",
     "text": [
      "100%|██████████| 631/631 [00:45<00:00, 14.00it/s]\n"
     ]
    },
    {
     "name": "stdout",
     "output_type": "stream",
     "text": [
      "epoch:  7, train loss: 1.5822, eval loss: 1.6902, time: 332.9729\n"
     ]
    },
    {
     "name": "stderr",
     "output_type": "stream",
     "text": [
      "100%|██████████| 631/631 [00:45<00:00, 13.99it/s]\n"
     ]
    },
    {
     "name": "stdout",
     "output_type": "stream",
     "text": [
      "epoch:  8, train loss: 1.4753, eval loss: 1.6493, time: 380.5082\n"
     ]
    },
    {
     "name": "stderr",
     "output_type": "stream",
     "text": [
      "100%|██████████| 631/631 [00:45<00:00, 13.98it/s]\n"
     ]
    },
    {
     "name": "stdout",
     "output_type": "stream",
     "text": [
      "epoch:  9, train loss: 1.3837, eval loss: 1.6287, time: 428.0792\n"
     ]
    },
    {
     "name": "stderr",
     "output_type": "stream",
     "text": [
      "100%|██████████| 631/631 [00:45<00:00, 13.98it/s]\n"
     ]
    },
    {
     "name": "stdout",
     "output_type": "stream",
     "text": [
      "epoch: 10, train loss: 1.3025, eval loss: 1.5921, time: 475.6333\n"
     ]
    },
    {
     "name": "stderr",
     "output_type": "stream",
     "text": [
      "100%|██████████| 631/631 [00:45<00:00, 13.98it/s]\n"
     ]
    },
    {
     "name": "stdout",
     "output_type": "stream",
     "text": [
      "epoch: 11, train loss: 1.2278, eval loss: 1.5713, time: 523.2096\n"
     ]
    },
    {
     "name": "stderr",
     "output_type": "stream",
     "text": [
      "100%|██████████| 631/631 [00:45<00:00, 13.97it/s]\n"
     ]
    },
    {
     "name": "stdout",
     "output_type": "stream",
     "text": [
      "epoch: 12, train loss: 1.1581, eval loss: 1.5690, time: 570.8011\n"
     ]
    },
    {
     "name": "stderr",
     "output_type": "stream",
     "text": [
      "100%|██████████| 631/631 [00:45<00:00, 14.00it/s]\n"
     ]
    },
    {
     "name": "stdout",
     "output_type": "stream",
     "text": [
      "epoch: 13, train loss: 1.0978, eval loss: 1.5671, time: 618.2905\n"
     ]
    },
    {
     "name": "stderr",
     "output_type": "stream",
     "text": [
      "100%|██████████| 631/631 [00:45<00:00, 13.97it/s]\n"
     ]
    },
    {
     "name": "stdout",
     "output_type": "stream",
     "text": [
      "epoch: 14, train loss: 1.0392, eval loss: 1.5649, time: 665.8689\n"
     ]
    },
    {
     "name": "stderr",
     "output_type": "stream",
     "text": [
      "100%|██████████| 631/631 [00:45<00:00, 14.00it/s]\n"
     ]
    },
    {
     "name": "stdout",
     "output_type": "stream",
     "text": [
      "epoch: 15, train loss: 0.9868, eval loss: 1.5794, time: 713.3695\n"
     ]
    }
   ],
   "source": [
    "trainer.train(dataloaders, NUM_EPOCHS)"
   ]
  },
  {
   "cell_type": "markdown",
   "metadata": {
    "id": "BzJktW17Qq5-"
   },
   "source": [
    "### evaluate"
   ]
  },
  {
   "cell_type": "code",
   "execution_count": 90,
   "metadata": {
    "executionInfo": {
     "elapsed": 21,
     "status": "ok",
     "timestamp": 1634057282990,
     "user": {
      "displayName": "Александр Смирнов",
      "photoUrl": "https://lh3.googleusercontent.com/a-/AOh14Gg3LUBiuWlo_woqtPR_qeqRj7kvglPwk1cGmPTkiw=s64",
      "userId": "12438224675564049956"
     },
     "user_tz": -180
    },
    "id": "AnMOcEKgQq5-"
   },
   "outputs": [],
   "source": [
    "# function to generate output sequence using greedy algorithm\n",
    "def greedy_decode(model, src, src_mask, max_len, start_symbol):\n",
    "    src = src.to(DEVICE)\n",
    "    src_mask = src_mask.to(DEVICE)\n",
    "\n",
    "    memory = model.encode(src, src_mask)\n",
    "    ys = torch.ones(1, 1).fill_(start_symbol).type(torch.long).to(DEVICE)\n",
    "    for i in range(max_len-1):\n",
    "        memory = memory.to(DEVICE)\n",
    "        tgt_mask = (generate_square_subsequent_mask(ys.size(0))\n",
    "                    .type(torch.bool)).to(DEVICE)\n",
    "        out = model.decode(ys, memory, tgt_mask)\n",
    "        out = out.transpose(0, 1)\n",
    "        prob = model.generator(out[:, -1])\n",
    "        _, next_word = torch.max(prob, dim=1)\n",
    "        next_word = next_word.item()\n",
    "\n",
    "        ys = torch.cat([ys,\n",
    "                        torch.ones(1, 1).type_as(src.data).fill_(next_word)], dim=0)\n",
    "        if next_word == en_tokenizer.word2index[en_tokenizer.eos_token]:\n",
    "            break\n",
    "    return ys\n",
    "\n",
    "\n",
    "# actual function to translate input sentence into target language\n",
    "def translate(model: torch.nn.Module, src_sentence: str):\n",
    "    model.eval()\n",
    "    #src = text_transform[SRC_LANGUAGE](src_sentence).view(-1, 1)\n",
    "    src = torch.tensor(ru_tokenizer(text)).view(-1, 1)\n",
    "    num_tokens = src.shape[0]\n",
    "    src_mask = (torch.zeros(num_tokens, num_tokens)).type(torch.bool)\n",
    "    tgt_tokens = greedy_decode(\n",
    "        model, src, src_mask, max_len=num_tokens + 5, start_symbol=en_tokenizer.word2index[en_tokenizer.sos_token]).flatten()\n",
    "    return en_tokenizer.detokenize(list(tgt_tokens.cpu().numpy()))"
   ]
  },
  {
   "cell_type": "code",
   "execution_count": 91,
   "metadata": {
    "executionInfo": {
     "elapsed": 16,
     "status": "ok",
     "timestamp": 1634057282991,
     "user": {
      "displayName": "Александр Смирнов",
      "photoUrl": "https://lh3.googleusercontent.com/a-/AOh14Gg3LUBiuWlo_woqtPR_qeqRj7kvglPwk1cGmPTkiw=s64",
      "userId": "12438224675564049956"
     },
     "user_tz": -180
    },
    "id": "3PGvLQcTQq5_"
   },
   "outputs": [],
   "source": [
    "_, ru = map(list, zip(*test))"
   ]
  },
  {
   "cell_type": "code",
   "execution_count": 92,
   "metadata": {
    "executionInfo": {
     "elapsed": 15,
     "status": "ok",
     "timestamp": 1634057282991,
     "user": {
      "displayName": "Александр Смирнов",
      "photoUrl": "https://lh3.googleusercontent.com/a-/AOh14Gg3LUBiuWlo_woqtPR_qeqRj7kvglPwk1cGmPTkiw=s64",
      "userId": "12438224675564049956"
     },
     "user_tz": -180
    },
    "id": "0A1vHrDKQq5_"
   },
   "outputs": [],
   "source": [
    "original_text = []\n",
    "for _, trg in test_dataloader:\n",
    "    original_text += [en_tokenizer.detokenize(tokens) for tokens in trg.T.detach().cpu().numpy()]"
   ]
  },
  {
   "cell_type": "code",
   "execution_count": 93,
   "metadata": {
    "colab": {
     "base_uri": "https://localhost:8080/"
    },
    "executionInfo": {
     "elapsed": 155071,
     "status": "ok",
     "timestamp": 1634057438048,
     "user": {
      "displayName": "Александр Смирнов",
      "photoUrl": "https://lh3.googleusercontent.com/a-/AOh14Gg3LUBiuWlo_woqtPR_qeqRj7kvglPwk1cGmPTkiw=s64",
      "userId": "12438224675564049956"
     },
     "user_tz": -180
    },
    "id": "PhNqRqgEQq5_",
    "outputId": "ba5b8027-84fb-476f-d867-e2d3cde17d66"
   },
   "outputs": [
    {
     "name": "stderr",
     "output_type": "stream",
     "text": [
      "100%|██████████| 2500/2500 [02:34<00:00, 16.13it/s]\n"
     ]
    }
   ],
   "source": [
    "generated_text = []\n",
    "for text in tqdm(ru):\n",
    "    generated_text.append(translate(trainer.model, text))"
   ]
  },
  {
   "cell_type": "raw",
   "metadata": {
    "collapsed": true,
    "id": "18k3UbKCQq5_"
   },
   "source": [
    "text = \"Современные номера с балконом оснащены кондиционером, телевизором с плоским экраном и холодильником.\""
   ]
  },
  {
   "cell_type": "code",
   "execution_count": 94,
   "metadata": {
    "colab": {
     "base_uri": "https://localhost:8080/"
    },
    "executionInfo": {
     "elapsed": 41,
     "status": "ok",
     "timestamp": 1634057438049,
     "user": {
      "displayName": "Александр Смирнов",
      "photoUrl": "https://lh3.googleusercontent.com/a-/AOh14Gg3LUBiuWlo_woqtPR_qeqRj7kvglPwk1cGmPTkiw=s64",
      "userId": "12438224675564049956"
     },
     "user_tz": -180
    },
    "id": "yS9AhJRuQq5_",
    "outputId": "d3a7222f-7047-4096-bc5d-473dd290fdcf"
   },
   "outputs": [
    {
     "data": {
      "text/plain": [
       "[['The modern rooms are air conditioned and have a balcony. They offer a flat-screen TV and a fridge.',\n",
       "  'Современные номера с балконом оснащены кондиционером, телевизором с плоским экраном и холодильником.'],\n",
       " ['Vivanta by Taj is located in Chennai’s commercial district, 200 metres from Spencer’s Plaza Mall.',\n",
       "  'Отель Vivanta by Taj находится в коммерческом районе города Ченнай, в 200 метрах от торгового центра Spencer’s Plaza.'],\n",
       " ['Towels and bed linen are available.',\n",
       "  'Предоставляются полотенца и постельное белье.'],\n",
       " ['This holiday home is 11 km from Santorini (Thira) Airport.',\n",
       "  'Расстояние до аэропорта Санторини составляет 11 км.'],\n",
       " ['The functional rooms here will provide you with cable TV and air conditioning.',\n",
       "  'Номера отеля отличаются практичным оформлением и имеют телевизор с кабельными каналами и кондиционер.']]"
      ]
     },
     "execution_count": 94,
     "metadata": {},
     "output_type": "execute_result"
    }
   ],
   "source": [
    "test[10:15]"
   ]
  },
  {
   "cell_type": "code",
   "execution_count": 95,
   "metadata": {
    "colab": {
     "base_uri": "https://localhost:8080/"
    },
    "executionInfo": {
     "elapsed": 31,
     "status": "ok",
     "timestamp": 1634057438050,
     "user": {
      "displayName": "Александр Смирнов",
      "photoUrl": "https://lh3.googleusercontent.com/a-/AOh14Gg3LUBiuWlo_woqtPR_qeqRj7kvglPwk1cGmPTkiw=s64",
      "userId": "12438224675564049956"
     },
     "user_tz": -180
    },
    "id": "wQoxtIWdQq6A",
    "outputId": "4519f4a6-8595-4c04-cb62-e7803976234c"
   },
   "outputs": [
    {
     "data": {
      "text/plain": [
       "['the modern rooms are air conditioned and have a balcony . they offer a flat - screen tv and a fridge .',\n",
       " 'by is located in chennai ’ s commercial district , 200 metres from ’ s plaza mall .',\n",
       " 'towels and bed linen are available .',\n",
       " 'this holiday home is 11 km from santorini ( ) airport .',\n",
       " 'the functional rooms here will provide you with cable tv and air conditioning .']"
      ]
     },
     "execution_count": 95,
     "metadata": {},
     "output_type": "execute_result"
    }
   ],
   "source": [
    "original_text[10:15]"
   ]
  },
  {
   "cell_type": "code",
   "execution_count": 96,
   "metadata": {
    "colab": {
     "base_uri": "https://localhost:8080/"
    },
    "executionInfo": {
     "elapsed": 19,
     "status": "ok",
     "timestamp": 1634057438051,
     "user": {
      "displayName": "Александр Смирнов",
      "photoUrl": "https://lh3.googleusercontent.com/a-/AOh14Gg3LUBiuWlo_woqtPR_qeqRj7kvglPwk1cGmPTkiw=s64",
      "userId": "12438224675564049956"
     },
     "user_tz": -180
    },
    "id": "KCaGVBs7Qq6A",
    "outputId": "ab52f832-b50a-4a30-e93a-86367907da14"
   },
   "outputs": [
    {
     "data": {
      "text/plain": [
       "['modern air - conditioned rooms feature a flat - screen tv and a refrigerator .',\n",
       " 'by is located in the commercial centre of , 200 metres from ’ s plaza .',\n",
       " 'towels and bed linen are offered in this apartment .',\n",
       " 'santorini airport is 11 km away .',\n",
       " 'rooms at the hotel are individually decorated and feature a tv with cable channels .']"
      ]
     },
     "execution_count": 96,
     "metadata": {},
     "output_type": "execute_result"
    }
   ],
   "source": [
    "generated_text[10:15]"
   ]
  },
  {
   "cell_type": "code",
   "execution_count": 97,
   "metadata": {
    "executionInfo": {
     "elapsed": 9,
     "status": "ok",
     "timestamp": 1634057438051,
     "user": {
      "displayName": "Александр Смирнов",
      "photoUrl": "https://lh3.googleusercontent.com/a-/AOh14Gg3LUBiuWlo_woqtPR_qeqRj7kvglPwk1cGmPTkiw=s64",
      "userId": "12438224675564049956"
     },
     "user_tz": -180
    },
    "id": "BkkUFDNhQq6A"
   },
   "outputs": [],
   "source": [
    "original_text = [text.split(\" \") for text in original_text]\n",
    "generated_text = [text.split(\" \") for text in generated_text]"
   ]
  },
  {
   "cell_type": "code",
   "execution_count": 98,
   "metadata": {
    "colab": {
     "base_uri": "https://localhost:8080/"
    },
    "executionInfo": {
     "elapsed": 492,
     "status": "ok",
     "timestamp": 1634057438535,
     "user": {
      "displayName": "Александр Смирнов",
      "photoUrl": "https://lh3.googleusercontent.com/a-/AOh14Gg3LUBiuWlo_woqtPR_qeqRj7kvglPwk1cGmPTkiw=s64",
      "userId": "12438224675564049956"
     },
     "user_tz": -180
    },
    "id": "iHHNGh10Qq6A",
    "outputId": "89a4cc94-917a-4c28-ac3f-dd254a890f69"
   },
   "outputs": [
    {
     "name": "stdout",
     "output_type": "stream",
     "text": [
      "33.42618242434841\n"
     ]
    }
   ],
   "source": [
    "bleu = corpus_bleu([[text] for text in original_text], generated_text) * 100\n",
    "print(bleu)"
   ]
  },
  {
   "cell_type": "code",
   "execution_count": 99,
   "metadata": {
    "executionInfo": {
     "elapsed": 22,
     "status": "ok",
     "timestamp": 1634057438536,
     "user": {
      "displayName": "Александр Смирнов",
      "photoUrl": "https://lh3.googleusercontent.com/a-/AOh14Gg3LUBiuWlo_woqtPR_qeqRj7kvglPwk1cGmPTkiw=s64",
      "userId": "12438224675564049956"
     },
     "user_tz": -180
    },
    "id": "fKAmkdWrQq6B"
   },
   "outputs": [],
   "source": [
    "model_name = \"transformer\"\n",
    "\n",
    "results[model_name][\"bleu\"] = bleu\n",
    "results[model_name][\"n_params\"] = count_parameters(trainer.model)\n",
    "results[model_name][\"train_time\"] = trainer.train_time\n",
    "results[model_name][\"train_loss\"] = trainer.train_loss\n",
    "results[model_name][\"val_loss\"] = trainer.val_loss"
   ]
  },
  {
   "cell_type": "markdown",
   "metadata": {
    "id": "uLSTwrQiQq6B"
   },
   "source": [
    "## comparison"
   ]
  },
  {
   "cell_type": "code",
   "execution_count": 102,
   "metadata": {
    "executionInfo": {
     "elapsed": 250,
     "status": "ok",
     "timestamp": 1634058457840,
     "user": {
      "displayName": "Александр Смирнов",
      "photoUrl": "https://lh3.googleusercontent.com/a-/AOh14Gg3LUBiuWlo_woqtPR_qeqRj7kvglPwk1cGmPTkiw=s64",
      "userId": "12438224675564049956"
     },
     "user_tz": -180
    },
    "id": "8Ytr-Yu0eUcY"
   },
   "outputs": [],
   "source": [
    "import pandas as pd\n",
    "import matplotlib.pyplot as plt\n",
    "import seaborn as sns\n",
    "sns.set_theme()"
   ]
  },
  {
   "cell_type": "code",
   "execution_count": 103,
   "metadata": {
    "colab": {
     "base_uri": "https://localhost:8080/",
     "height": 142
    },
    "executionInfo": {
     "elapsed": 317,
     "status": "ok",
     "timestamp": 1634058464500,
     "user": {
      "displayName": "Александр Смирнов",
      "photoUrl": "https://lh3.googleusercontent.com/a-/AOh14Gg3LUBiuWlo_woqtPR_qeqRj7kvglPwk1cGmPTkiw=s64",
      "userId": "12438224675564049956"
     },
     "user_tz": -180
    },
    "id": "ixx6dg_FQq6B",
    "outputId": "f180b327-12d6-483f-d3de-23c220ccafe8"
   },
   "outputs": [
    {
     "data": {
      "text/html": [
       "<div>\n",
       "<style scoped>\n",
       "    .dataframe tbody tr th:only-of-type {\n",
       "        vertical-align: middle;\n",
       "    }\n",
       "\n",
       "    .dataframe tbody tr th {\n",
       "        vertical-align: top;\n",
       "    }\n",
       "\n",
       "    .dataframe thead th {\n",
       "        text-align: right;\n",
       "    }\n",
       "</style>\n",
       "<table border=\"1\" class=\"dataframe\">\n",
       "  <thead>\n",
       "    <tr style=\"text-align: right;\">\n",
       "      <th></th>\n",
       "      <th>seq2seq</th>\n",
       "      <th>transformer</th>\n",
       "    </tr>\n",
       "  </thead>\n",
       "  <tbody>\n",
       "    <tr>\n",
       "      <th>bleu</th>\n",
       "      <td>16.5657</td>\n",
       "      <td>33.4262</td>\n",
       "    </tr>\n",
       "    <tr>\n",
       "      <th>train_time</th>\n",
       "      <td>719.723</td>\n",
       "      <td>713.37</td>\n",
       "    </tr>\n",
       "    <tr>\n",
       "      <th>n_params</th>\n",
       "      <td>14935890</td>\n",
       "      <td>24327250</td>\n",
       "    </tr>\n",
       "  </tbody>\n",
       "</table>\n",
       "</div>"
      ],
      "text/plain": [
       "             seq2seq transformer\n",
       "bleu         16.5657     33.4262\n",
       "train_time   719.723      713.37\n",
       "n_params    14935890    24327250"
      ]
     },
     "metadata": {},
     "output_type": "display_data"
    }
   ],
   "source": [
    "res = pd.DataFrame(results).loc[[\"bleu\", \"train_time\", \"n_params\"]]\n",
    "display(res)"
   ]
  },
  {
   "cell_type": "markdown",
   "metadata": {
    "id": "3bNLQDwJeufQ"
   },
   "source": [
    "We see that transformer performed way better.\n",
    "Interesting thing is that transformer have 1.6 times more params, but trained same time.\n",
    "Probably it is because it can be parallelized efficiently."
   ]
  },
  {
   "cell_type": "code",
   "execution_count": 104,
   "metadata": {
    "colab": {
     "base_uri": "https://localhost:8080/",
     "height": 322
    },
    "executionInfo": {
     "elapsed": 1011,
     "status": "ok",
     "timestamp": 1634058614954,
     "user": {
      "displayName": "Александр Смирнов",
      "photoUrl": "https://lh3.googleusercontent.com/a-/AOh14Gg3LUBiuWlo_woqtPR_qeqRj7kvglPwk1cGmPTkiw=s64",
      "userId": "12438224675564049956"
     },
     "user_tz": -180
    },
    "id": "metRrjyWezeQ",
    "outputId": "7f943a78-05e7-470b-ba55-dfe84b4bbafb"
   },
   "outputs": [
    {
     "data": {
      "image/png": "[encoded data removed]",
      "text/plain": [
       "<Figure size 720x360 with 1 Axes>"
      ]
     },
     "metadata": {},
     "output_type": "display_data"
    }
   ],
   "source": [
    "plt.figure(figsize=(10,5))\n",
    "for model in results.keys():\n",
    "    for loss in [\"train_loss\", \"val_loss\"]:\n",
    "        y = results[model][loss]\n",
    "        if type(y[0]) == torch.Tensor:\n",
    "            y =  [y_i.detach().cpu().numpy() for y_i in y]\n",
    "        x = range(1, len(y) + 1)\n",
    "        plt.plot(x, y, label=model+\"_\"+loss)\n",
    "    \n",
    "    \n",
    "plt.legend()\n",
    "plt.show()"
   ]
  }
 ],
 "metadata": {
  "accelerator": "GPU",
  "anaconda-cloud": {},
  "colab": {
   "collapsed_sections": [],
   "machine_shape": "hm",
   "name": "02_nlp_nmt.ipynb",
   "provenance": [],
   "toc_visible": true
  },
  "kernelspec": {
   "display_name": "Python 3",
   "language": "python",
   "name": "python3"
  },
  "language_info": {
   "codemirror_mode": {
    "name": "ipython",
    "version": 3
   },
   "file_extension": ".py",
   "mimetype": "text/x-python",
   "name": "python",
   "nbconvert_exporter": "python",
   "pygments_lexer": "ipython3",
   "version": "3.9.9"
  },
  "toc": {
   "base_numbering": 1,
   "nav_menu": {},
   "number_sections": true,
   "sideBar": true,
   "skip_h1_title": false,
   "title_cell": "Table of Contents",
   "title_sidebar": "Contents",
   "toc_cell": false,
   "toc_position": {
    "height": "calc(100% - 180px)",
    "left": "10px",
    "top": "150px",
    "width": "263.324px"
   },
   "toc_section_display": true,
   "toc_window_display": true
  }
 },
 "nbformat": 4,
 "nbformat_minor": 1
}
