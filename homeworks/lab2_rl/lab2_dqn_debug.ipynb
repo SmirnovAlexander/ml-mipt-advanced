{
 "cells": [
  {
   "cell_type": "markdown",
   "metadata": {},
   "source": [
    "# Lab 2: Deep Q-Network implementation.\n",
    "\n",
    "PyTorch debug mode\n",
    "\n",
    "This homework shamelessly demands you to implement a DQN - an approximate q-learning algorithm with experience replay and target networks - and see if it works any better this way.\n",
    "\n",
    "Original paper:\n",
    "https://arxiv.org/pdf/1312.5602.pdf"
   ]
  },
  {
   "cell_type": "markdown",
   "metadata": {},
   "source": [
    "**This notebook is given for debug.** The main DQN task will be in the same folder later. The tasks are similar and share most of the code. The main difference is in environments. In main notebook it can take some 2 hours for the agent to start improving so it seems reasonable to launch the algorithm on a simpler env first. Here it is CartPole and it will train in several minutes.\n",
    "\n",
    "**We suggest the following pipeline:** First implement debug notebook then implement the main one."
   ]
  },
  {
   "cell_type": "raw",
   "metadata": {},
   "source": [
    "import sys, os\n",
    "if 'google.colab' in sys.modules and not os.path.exists('.setup_complete'):\n",
    "    !wget -q https://raw.githubusercontent.com/yandexdataschool/Practical_RL/master/setup_colab.sh -O- | bash\n",
    "    !touch .setup_complete\n",
    "\n",
    "# This code creates a virtual display to draw game images on.\n",
    "# It will have no effect if your machine has a monitor.\n",
    "if type(os.environ.get(\"DISPLAY\")) is not str or len(os.environ.get(\"DISPLAY\")) == 0:\n",
    "    !bash ../xvfb start\n",
    "    os.environ['DISPLAY'] = ':1'"
   ]
  },
  {
   "cell_type": "raw",
   "metadata": {},
   "source": [
    "# # in google colab uncomment this\n",
    "\n",
    "# prefix = 'https://raw.githubusercontent.com/yandexdataschool/Practical_RL/spring19/week04_approx_rl/'\n",
    "\n",
    "# os.system('wget ' + prefix + 'atari_wrappers.py')\n",
    "# os.system('wget ' + prefix + 'utils.py')\n",
    "# os.system('wget ' + prefix + 'replay_buffer.py')\n",
    "# os.system('wget ' + prefix + 'framebuffer.py')\n",
    "\n",
    "# print('setup complete')"
   ]
  },
  {
   "cell_type": "markdown",
   "metadata": {},
   "source": [
    "__Frameworks__ - we'll accept this homework in any deep learning framework. This particular notebook was designed for pytoch, but you find it easy to adapt it to almost any python-based deep learning framework."
   ]
  },
  {
   "cell_type": "code",
   "execution_count": 1,
   "metadata": {},
   "outputs": [],
   "source": [
    "import re\n",
    "import glob\n",
    "import random\n",
    "import time\n",
    "import math\n",
    "from tqdm import tqdm\n",
    "from collections import defaultdict\n",
    "\n",
    "import numpy as np\n",
    "import pandas as pd\n",
    "import torch\n",
    "\n",
    "import gym\n",
    "\n",
    "import seaborn as sns\n",
    "import matplotlib.pyplot as plt\n",
    "\n",
    "import utils\n",
    "from IPython.display import Video, clear_output\n",
    "\n",
    "plt.style.use(\"seaborn\")"
   ]
  },
  {
   "cell_type": "code",
   "execution_count": 2,
   "metadata": {},
   "outputs": [],
   "source": [
    "ENV_NAME = 'CartPole-v1'\n",
    "#ENV_NAME = 'MountainCar-v0'\n",
    "#ENV_NAME = 'MountainCarContinuous-v0'\n",
    "\n",
    "def make_env(seed=None):\n",
    "    # CartPole is wrapped with a time limit wrapper by default\n",
    "    env = gym.make(ENV_NAME).unwrapped\n",
    "    if seed is not None:\n",
    "        env.seed(seed)\n",
    "    return env"
   ]
  },
  {
   "cell_type": "code",
   "execution_count": 3,
   "metadata": {},
   "outputs": [
    {
     "name": "stdout",
     "output_type": "stream",
     "text": [
      "(4,)\n",
      "2\n"
     ]
    }
   ],
   "source": [
    "env = make_env()\n",
    "env.reset()\n",
    "state_shape, n_actions = env.observation_space.shape, env.action_space.n\n",
    "print(state_shape)\n",
    "print(n_actions)"
   ]
  },
  {
   "cell_type": "code",
   "execution_count": 4,
   "metadata": {},
   "outputs": [
    {
     "name": "stdout",
     "output_type": "stream",
     "text": [
      "\n",
      "    Description:\n",
      "        A pole is attached by an un-actuated joint to a cart, which moves along\n",
      "        a frictionless track. The pendulum starts upright, and the goal is to\n",
      "        prevent it from falling over by increasing and reducing the cart's\n",
      "        velocity.\n",
      "\n",
      "    Source:\n",
      "        This environment corresponds to the version of the cart-pole problem\n",
      "        described by Barto, Sutton, and Anderson\n",
      "\n",
      "    Observation:\n",
      "        Type: Box(4)\n",
      "        Num     Observation               Min                     Max\n",
      "        0       Cart Position             -4.8                    4.8\n",
      "        1       Cart Velocity             -Inf                    Inf\n",
      "        2       Pole Angle                -0.418 rad (-24 deg)    0.418 rad (24 deg)\n",
      "        3       Pole Angular Velocity     -Inf                    Inf\n",
      "\n",
      "    Actions:\n",
      "        Type: Discrete(2)\n",
      "        Num   Action\n",
      "        0     Push cart to the left\n",
      "        1     Push cart to the right\n",
      "\n",
      "        Note: The amount the velocity that is reduced or increased is not\n",
      "        fixed; it depends on the angle the pole is pointing. This is because\n",
      "        the center of gravity of the pole increases the amount of energy needed\n",
      "        to move the cart underneath it\n",
      "\n",
      "    Reward:\n",
      "        Reward is 1 for every step taken, including the termination step\n",
      "\n",
      "    Starting State:\n",
      "        All observations are assigned a uniform random value in [-0.05..0.05]\n",
      "\n",
      "    Episode Termination:\n",
      "        Pole Angle is more than 12 degrees.\n",
      "        Cart Position is more than 2.4 (center of the cart reaches the edge of\n",
      "        the display).\n",
      "        Episode length is greater than 200.\n",
      "        Solved Requirements:\n",
      "        Considered solved when the average return is greater than or equal to\n",
      "        195.0 over 100 consecutive trials.\n",
      "    \n"
     ]
    }
   ],
   "source": [
    "print(env.__doc__)"
   ]
  },
  {
   "cell_type": "markdown",
   "metadata": {},
   "source": [
    "# Play yourself"
   ]
  },
  {
   "cell_type": "raw",
   "metadata": {},
   "source": [
    "import matplotlib.pyplot as plt\n",
    "\n",
    "for i in range(200):\n",
    "    action = int(input())\n",
    "    env.step(action)\n",
    "    plt.imshow(env.render(\"rgb_array\"))"
   ]
  },
  {
   "cell_type": "raw",
   "metadata": {},
   "source": [
    "sleep = 0.05\n",
    "\n",
    "if not hasattr(env.action_space, 'n'):\n",
    "    raise Exception('Keyboard agent only supports discrete action spaces')\n",
    "ACTIONS = env.action_space.n\n",
    "SKIP_CONTROL = 0    # Use previous control decision SKIP_CONTROL times, that's how you\n",
    "                    # can test what skip is still usable.\n",
    "\n",
    "human_agent_action = 0\n",
    "human_wants_restart = False\n",
    "human_sets_pause = False\n",
    "\n",
    "def key_press(key, mod):\n",
    "    global human_agent_action, human_wants_restart, human_sets_pause\n",
    "    if key==0xff0d: human_wants_restart = True\n",
    "    if key==32: human_sets_pause = not human_sets_pause\n",
    "    a = int( key - ord('0') )\n",
    "    if a <= 0 or a >= ACTIONS: return\n",
    "    human_agent_action = a\n",
    "\n",
    "def key_release(key, mod):\n",
    "    global human_agent_action\n",
    "    a = int( key - ord('0') )\n",
    "    if a <= 0 or a >= ACTIONS: return\n",
    "    if human_agent_action == a:\n",
    "        human_agent_action = 0\n",
    "\n",
    "env.render()\n",
    "env.unwrapped.viewer.window.on_key_press = key_press\n",
    "env.unwrapped.viewer.window.on_key_release = key_release\n",
    "\n",
    "def rollout(env):\n",
    "    global human_agent_action, human_wants_restart, human_sets_pause\n",
    "    human_wants_restart = False\n",
    "    obser = env.reset()\n",
    "    skip = 0\n",
    "    total_reward = 0\n",
    "    total_timesteps = 0\n",
    "    while 1:\n",
    "        if not skip:\n",
    "            #print(\"taking action {}\".format(human_agent_action))\n",
    "            a = human_agent_action\n",
    "            total_timesteps += 1\n",
    "            skip = SKIP_CONTROL\n",
    "        else:\n",
    "            skip -= 1\n",
    "\n",
    "        obser, r, done, info = env.step(a)\n",
    "        if r != 0:\n",
    "            print(\"reward %0.3f\" % r)\n",
    "        total_reward += r\n",
    "        window_still_open = env.render()\n",
    "        if window_still_open==False: return False\n",
    "        if done: break\n",
    "        if human_wants_restart: break\n",
    "        while human_sets_pause:\n",
    "            env.render()\n",
    "            time.sleep(sleep)\n",
    "        time.sleep(sleep)\n",
    "    print(\"timesteps %i reward %0.2f\" % (total_timesteps, total_reward))\n",
    "\n",
    "print(\"ACTIONS={}\".format(ACTIONS))\n",
    "print(\"Press keys 1 2 3 ... to take actions 1 2 3 ...\")\n",
    "print(\"No keys pressed is taking action 0\")\n",
    "\n",
    "while 1:\n",
    "    window_still_open = rollout(env)\n",
    "    if window_still_open==False: break"
   ]
  },
  {
   "cell_type": "markdown",
   "metadata": {},
   "source": [
    "# Support functions"
   ]
  },
  {
   "cell_type": "raw",
   "metadata": {},
   "source": [
    "env.close()"
   ]
  },
  {
   "cell_type": "code",
   "execution_count": 5,
   "metadata": {},
   "outputs": [],
   "source": [
    "def natural_sort(l): \n",
    "    convert = lambda text: int(text) if text.isdigit() else text.lower()\n",
    "    alphanum_key = lambda key: [convert(c) for c in re.split('([0-9]+)', key)]\n",
    "    return sorted(l, key=alphanum_key)"
   ]
  },
  {
   "cell_type": "code",
   "execution_count": 6,
   "metadata": {},
   "outputs": [],
   "source": [
    "def disable_view_window():\n",
    "    from gym.envs.classic_control import rendering\n",
    "    org_constructor = rendering.Viewer.__init__\n",
    "\n",
    "    def constructor(self, *args, **kwargs):\n",
    "        org_constructor(self, *args, **kwargs)\n",
    "        self.window.set_visible(visible=False)\n",
    "\n",
    "    rendering.Viewer.__init__ = constructor\n",
    "disable_view_window()"
   ]
  },
  {
   "cell_type": "code",
   "execution_count": 7,
   "metadata": {},
   "outputs": [],
   "source": [
    "def moving_average(data, span=100):\n",
    "    return pd.Series(data).ewm(span=span).mean().values\n",
    "\n",
    "def plot_rewards(rewards):\n",
    "    rewards_ewma = moving_average(rewards)    \n",
    "    plt.plot(rewards, label='rewards')\n",
    "    plt.plot(rewards_ewma, label='rewards ewma@100')\n",
    "    plt.title(f\"rewards ewma@100 = {rewards_ewma[-1]:.1f}\")\n",
    "    plt.legend(bbox_to_anchor=(1.05, 1), loc='upper left')\n",
    "    plt.show()"
   ]
  },
  {
   "cell_type": "code",
   "execution_count": 8,
   "metadata": {},
   "outputs": [],
   "source": [
    "def show_run(video_folder, rewards, idx=None, best=False, worse=False):\n",
    "\n",
    "    assert idx == None or (best == False and worse == False), \"both idx and best / worse are specified\"\n",
    "    assert best == False or worse == False, \"both flags are up\"\n",
    "    \n",
    "    runs = natural_sort(glob.glob(video_folder + \"**/\" + \"*.mp4\"))\n",
    "    \n",
    "    assert len(runs) == len(rewards), f\"different number of files ({len(runs)})  and rewards ({len(rewards)})\"\n",
    "    \n",
    "    if best:\n",
    "        idx = np.argmax(rewards)\n",
    "    elif worse:\n",
    "        idx = np.argmin(rewards)\n",
    "    elif idx == None:\n",
    "        idx = random.randint(0, len(runs) - 1)\n",
    "        \n",
    "    run = runs[idx]\n",
    "    reward = rewards[idx]\n",
    "    \n",
    "    print(f\"displaying '{run}' run\")\n",
    "    print(f\"reward: {reward}\")\n",
    "    display(Video(run, html_attributes=\"controls loop autoplay\"))"
   ]
  },
  {
   "cell_type": "code",
   "execution_count": 9,
   "metadata": {},
   "outputs": [],
   "source": [
    "def play_game(env, policy, reward_discount=1.0, max_steps=np.inf, render=False, sleep=0.01, video_folder=None):\n",
    "    \n",
    "    if video_folder is not None:\n",
    "        env = gym.wrappers.RecordVideo(env, video_folder=video_folder, episode_trigger=lambda x: True)\n",
    "    \n",
    "    state = env.reset()\n",
    "    iter_reward = 0\n",
    "    cur_step = 0\n",
    "    done = False\n",
    "\n",
    "    while not done and cur_step < max_steps:\n",
    "        \n",
    "        action = policy.get_action(state)\n",
    "        state, reward, done, _ = env.step(action)\n",
    "        iter_reward += reward * math.pow(reward_discount, cur_step)\n",
    "        cur_step += 1\n",
    "        \n",
    "        if render:\n",
    "            clear_output(wait=True)\n",
    "            plt.imshow(env.render(\"rgb_array\"))\n",
    "            plt.show()\n",
    "\n",
    "    return iter_reward"
   ]
  },
  {
   "cell_type": "code",
   "execution_count": 10,
   "metadata": {},
   "outputs": [],
   "source": [
    "def eval_policy(env, policy, n_iter=200, max_steps=np.inf, video_folder=None, verbose=True):\n",
    "\n",
    "    rewards = np.zeros(n_iter)\n",
    "    #if video_folder is not None:\n",
    "        #env = gym.wrappers.RecordVideo(env, video_folder=video_folder, episode_trigger=lambda x: True)\n",
    "    #if video_folder is not None:\n",
    "    \n",
    "    for i in tqdm(range(n_iter), disable=not verbose):\n",
    "        \n",
    "        if video_folder is not None:\n",
    "            rewards[i] = play_game(env, policy, max_steps=max_steps, video_folder=video_folder+str(i)+\"/\")\n",
    "        else:\n",
    "            rewards[i] = play_game(env, policy, max_steps=max_steps)\n",
    "        \n",
    "    return rewards"
   ]
  },
  {
   "cell_type": "code",
   "execution_count": 11,
   "metadata": {},
   "outputs": [],
   "source": [
    "def analyze_policy(env, policy, n_iter=200, n_iter_record=30, max_steps=np.inf, video_folder=\"./runs/\"):\n",
    "\n",
    "    rewards = eval_policy(env, policy, n_iter=n_iter, max_steps=max_steps)\n",
    "    \n",
    "    sns.boxplot(x=rewards)\n",
    "    plt.title(\"reward distribution\")\n",
    "    plt.show()\n",
    "    \n",
    "    video_folder = video_folder + type(policy).__name__ + '/'\n",
    "    rewards = eval_policy(env, policy, n_iter=n_iter_record, max_steps=max_steps, video_folder=video_folder)\n",
    "    \n",
    "    print(f\"Best run (out of {n_iter_record} sampled):\")\n",
    "    show_run(video_folder, rewards, best=True)\n",
    "    \n",
    "    return video_folder, rewards"
   ]
  },
  {
   "cell_type": "markdown",
   "metadata": {},
   "source": [
    "## Random strategy"
   ]
  },
  {
   "cell_type": "code",
   "execution_count": 12,
   "metadata": {},
   "outputs": [],
   "source": [
    "class RandomPolicy:\n",
    "    \n",
    "    def __init__(self, env):\n",
    "        self.env = env\n",
    "    \n",
    "    def get_action(self, state):\n",
    "        return self.env.action_space.sample()"
   ]
  },
  {
   "cell_type": "code",
   "execution_count": 13,
   "metadata": {},
   "outputs": [],
   "source": [
    "random_policy = RandomPolicy(env)"
   ]
  },
  {
   "cell_type": "code",
   "execution_count": 14,
   "metadata": {},
   "outputs": [
    {
     "data": {
      "image/png": "[encoded data removed]",
      "text/plain": [
       "<Figure size 576x396 with 1 Axes>"
      ]
     },
     "metadata": {},
     "output_type": "display_data"
    },
    {
     "data": {
      "text/plain": [
       "16.0"
      ]
     },
     "execution_count": 14,
     "metadata": {},
     "output_type": "execute_result"
    }
   ],
   "source": [
    "play_game(env, random_policy, max_steps=200, render=True, video_folder=\"./cache/\")"
   ]
  },
  {
   "cell_type": "code",
   "execution_count": 15,
   "metadata": {},
   "outputs": [
    {
     "name": "stderr",
     "output_type": "stream",
     "text": [
      "100%|██████████| 200/200 [00:00<00:00, 4191.68it/s]\n"
     ]
    },
    {
     "data": {
      "image/png": "[encoded data removed]",
      "text/plain": [
       "<Figure size 576x396 with 1 Axes>"
      ]
     },
     "metadata": {},
     "output_type": "display_data"
    },
    {
     "name": "stderr",
     "output_type": "stream",
     "text": [
      "100%|██████████| 30/30 [00:13<00:00,  2.17it/s]"
     ]
    },
    {
     "name": "stdout",
     "output_type": "stream",
     "text": [
      "Best run (out of 30 sampled):\n",
      "displaying './runs/RandomPolicy/0/rl-video-episode-0.mp4' run\n",
      "reward: 79.0\n"
     ]
    },
    {
     "name": "stderr",
     "output_type": "stream",
     "text": [
      "\n"
     ]
    },
    {
     "data": {
      "text/html": [
       "<video src=\"./runs/RandomPolicy/0/rl-video-episode-0.mp4\" controls loop autoplay  >\n",
       "      Your browser does not support the <code>video</code> element.\n",
       "    </video>"
      ],
      "text/plain": [
       "<IPython.core.display.Video object>"
      ]
     },
     "metadata": {},
     "output_type": "display_data"
    }
   ],
   "source": [
    "random_policy = RandomPolicy(env)\n",
    "video_folder, rewards = analyze_policy(env, random_policy, max_steps=200)"
   ]
  },
  {
   "cell_type": "markdown",
   "metadata": {},
   "source": [
    "## Angle Policy"
   ]
  },
  {
   "cell_type": "code",
   "execution_count": 16,
   "metadata": {},
   "outputs": [],
   "source": [
    "class AnglePolicy:\n",
    "    \n",
    "    def __init__(self):\n",
    "        pass\n",
    "    \n",
    "    def get_action(self, state):\n",
    "        angle = state[2]\n",
    "        return 1 if angle > 0 else 0"
   ]
  },
  {
   "cell_type": "code",
   "execution_count": 17,
   "metadata": {},
   "outputs": [
    {
     "name": "stderr",
     "output_type": "stream",
     "text": [
      "100%|██████████| 200/200 [00:00<00:00, 2480.26it/s]\n"
     ]
    },
    {
     "data": {
      "image/png": "[encoded data removed]",
      "text/plain": [
       "<Figure size 576x396 with 1 Axes>"
      ]
     },
     "metadata": {},
     "output_type": "display_data"
    },
    {
     "name": "stderr",
     "output_type": "stream",
     "text": [
      "100%|██████████| 30/30 [00:23<00:00,  1.30it/s]"
     ]
    },
    {
     "name": "stdout",
     "output_type": "stream",
     "text": [
      "Best run (out of 30 sampled):\n",
      "displaying './runs/AnglePolicy/0/rl-video-episode-0.mp4' run\n",
      "reward: 62.0\n"
     ]
    },
    {
     "name": "stderr",
     "output_type": "stream",
     "text": [
      "\n"
     ]
    },
    {
     "data": {
      "text/html": [
       "<video src=\"./runs/AnglePolicy/0/rl-video-episode-0.mp4\" controls loop autoplay  >\n",
       "      Your browser does not support the <code>video</code> element.\n",
       "    </video>"
      ],
      "text/plain": [
       "<IPython.core.display.Video object>"
      ]
     },
     "metadata": {},
     "output_type": "display_data"
    }
   ],
   "source": [
    "angel_policy = AnglePolicy()\n",
    "video_folder, rewards = analyze_policy(env, angel_policy)"
   ]
  },
  {
   "cell_type": "code",
   "execution_count": 18,
   "metadata": {},
   "outputs": [
    {
     "name": "stdout",
     "output_type": "stream",
     "text": [
      "displaying './runs/AnglePolicy/8/rl-video-episode-0.mp4' run\n",
      "reward: 55.0\n"
     ]
    },
    {
     "data": {
      "text/html": [
       "<video src=\"./runs/AnglePolicy/8/rl-video-episode-0.mp4\" controls loop autoplay  >\n",
       "      Your browser does not support the <code>video</code> element.\n",
       "    </video>"
      ],
      "text/plain": [
       "<IPython.core.display.Video object>"
      ]
     },
     "metadata": {},
     "output_type": "display_data"
    }
   ],
   "source": [
    "show_run(video_folder, rewards)"
   ]
  },
  {
   "cell_type": "markdown",
   "metadata": {},
   "source": [
    "## Cross-entropy strategy"
   ]
  },
  {
   "cell_type": "code",
   "execution_count": 19,
   "metadata": {},
   "outputs": [],
   "source": [
    "class CrossEntropy:\n",
    "    \n",
    "    def __init__(self, env, input_size, out_size, hid_size=16):\n",
    "        \n",
    "        self.env = env\n",
    "        self.W1 = np.zeros((input_size, hid_size))\n",
    "        self.W2 = np.zeros((hid_size, out_size))\n",
    "        \n",
    "    @property\n",
    "    def number_of_weights(self):\n",
    "        return len(self.W1.flatten()) + len(self.W2.flatten())\n",
    "        \n",
    "    def set_weights(self, weights):\n",
    "        self.W1 = weights[:len(self.W1.flatten())].reshape(self.W1.shape)\n",
    "        self.W2 = weights[len(self.W1.flatten()):].reshape(self.W2.shape)\n",
    "    \n",
    "    def forward(self, state):\n",
    "        state = np.array(state)\n",
    "        x = state.T @ self.W1\n",
    "        x = x.T @ self.W2\n",
    "        return x\n",
    "    \n",
    "    def get_action(self, state):\n",
    "        return np.argmax(self.forward(state))\n",
    "    \n",
    "    def train(self, cohort_len=100, max_steps=200, elite_percentile=0.9, reward_threshold=190, n_epochs=100, reward_discount=0.99):\n",
    "        \n",
    "        # initializing train params\n",
    "        mu = np.zeros(self.number_of_weights)\n",
    "        sigma = np.ones(self.number_of_weights)\n",
    "        reward = play_game(self.env, self, max_steps=max_steps)\n",
    "        epoch = 0\n",
    "        scores = []\n",
    "\n",
    "        # training\n",
    "        pbar = tqdm(total=n_epochs)\n",
    "        while reward < reward_threshold and epoch < n_epochs:\n",
    "\n",
    "            # sampling cohort_len weights\n",
    "            # from current distribution\n",
    "            weights_list = np.array([mu + sigma * np.random.randn(self.number_of_weights) \\\n",
    "                                     for _ in range(cohort_len)])\n",
    "\n",
    "            # playing game for each set of weights\n",
    "            # and collecting reward for each weights\n",
    "            rewards = np.zeros(cohort_len)\n",
    "            for i in range(cohort_len):\n",
    "                self.set_weights(weights_list[i])\n",
    "                rewards[i] = play_game(self.env, self, max_steps=max_steps, reward_discount=reward_discount)\n",
    "\n",
    "            # choosing elite weights from elite sessions\n",
    "            #threshold = min(len(set(rewards)) - 1, int(cohort_len * (1 - elite_percentile))) # not fitting on bad data\n",
    "            #if threshold > 0:\n",
    "            #elite_idx = np.argsort(rewards)[::-1][:threshold]\n",
    "            elite_idx = np.argsort(rewards)[::-1][:int(cohort_len * (1 - elite_percentile))]\n",
    "            elite_weights = weights_list[elite_idx]\n",
    "\n",
    "            # recalculating mean and std\n",
    "            # using elite weights\n",
    "            mu = np.mean(elite_weights, axis=0)\n",
    "            sigma = np.std(elite_weights, axis=0)\n",
    "                \n",
    "            #self.set_weights(mu + sigma * np.random.randn(self.number_of_weights))\n",
    "            self.set_weights(mu)\n",
    "\n",
    "            epoch += 1\n",
    "            #mean_reward = np.mean(rewards)\n",
    "            #reward = play_game(env, self, reward_discount=1.0, max_steps=max_steps)\n",
    "            reward = np.mean(eval_policy(self.env, self, n_iter=200, max_steps=max_steps, verbose=False))\n",
    "            scores.append(reward)\n",
    "            \n",
    "            pbar.update(1)\n",
    "            pbar.set_description(f\"reward: {reward}\")\n",
    "            pbar.refresh()\n",
    "            \n",
    "        self.mu = mu\n",
    "        self.sigma = sigma\n",
    "        \n",
    "        pbar.close()\n",
    "        return scores"
   ]
  },
  {
   "cell_type": "code",
   "execution_count": 20,
   "metadata": {},
   "outputs": [],
   "source": [
    "input_size = env.observation_space.shape[0]\n",
    "out_size = env.action_space.n\n",
    "\n",
    "cross_entropy = CrossEntropy(env, input_size=input_size, out_size=out_size)"
   ]
  },
  {
   "cell_type": "code",
   "execution_count": 21,
   "metadata": {},
   "outputs": [
    {
     "name": "stderr",
     "output_type": "stream",
     "text": [
      "reward: 200.0:   1%|          | 1/100 [00:00<01:12,  1.36it/s]\n"
     ]
    }
   ],
   "source": [
    "#scores = cross_entropy.train(cohort_len=100, max_steps=500, elite_percentile=0.8, reward_threshold=-100, n_epochs=100)\n",
    "scores = cross_entropy.train(cohort_len=100, max_steps=200, elite_percentile=0.9, reward_threshold=200, n_epochs=100)"
   ]
  },
  {
   "cell_type": "code",
   "execution_count": 22,
   "metadata": {},
   "outputs": [
    {
     "data": {
      "image/png": "[encoded data removed]",
      "text/plain": [
       "<Figure size 576x396 with 1 Axes>"
      ]
     },
     "metadata": {},
     "output_type": "display_data"
    }
   ],
   "source": [
    "plt.plot(range(len(scores)), scores)\n",
    "plt.xlabel(\"# iteration\")\n",
    "plt.ylabel(\"mean iteration reward\")\n",
    "plt.show()"
   ]
  },
  {
   "cell_type": "code",
   "execution_count": 23,
   "metadata": {},
   "outputs": [
    {
     "name": "stderr",
     "output_type": "stream",
     "text": [
      "100%|██████████| 200/200 [00:01<00:00, 159.22it/s]\n"
     ]
    },
    {
     "data": {
      "text/plain": [
       "array([339., 338., 338., 390., 500., 265., 293., 505., 555., 437., 259.,\n",
       "       347., 360., 453., 267., 333., 384., 396., 395., 379., 385., 343.,\n",
       "       300., 337., 265., 538., 313., 351., 345., 277., 388., 458., 336.,\n",
       "       334., 372., 344., 451., 753., 493., 430., 529., 385., 483., 658.,\n",
       "       467., 288., 393., 326., 320., 305., 501., 365., 465., 327., 392.,\n",
       "       292., 322., 390., 294., 493., 525., 441., 361., 370., 508., 264.,\n",
       "       335., 300., 402., 274., 390., 302., 313., 450., 363., 446., 408.,\n",
       "       581., 278., 435., 397., 457., 347., 385., 264., 359., 402., 342.,\n",
       "       297., 359., 397., 323., 260., 379., 291., 336., 308., 342., 674.,\n",
       "       424., 283., 385., 332., 393., 377., 492., 361., 293., 388., 379.,\n",
       "       350., 594., 501., 383., 503., 342., 266., 366., 544., 372., 488.,\n",
       "       379., 344., 322., 568., 350., 290., 358., 402., 366., 307., 366.,\n",
       "       449., 874., 327., 434., 273., 328., 357., 394., 486., 275., 452.,\n",
       "       414., 343., 330., 402., 310., 262., 416., 356., 289., 343., 434.,\n",
       "       290., 354., 511., 327., 618., 329., 255., 388., 299., 583., 329.,\n",
       "       430., 333., 443., 324., 431., 332., 310., 473., 379., 366., 579.,\n",
       "       534., 570., 279., 421., 279., 287., 283., 679., 380., 346., 481.,\n",
       "       423., 442., 324., 399., 285., 485., 414., 245., 437., 303., 305.,\n",
       "       283., 392.])"
      ]
     },
     "execution_count": 23,
     "metadata": {},
     "output_type": "execute_result"
    }
   ],
   "source": [
    "eval_policy(env, cross_entropy)"
   ]
  },
  {
   "cell_type": "code",
   "execution_count": 24,
   "metadata": {},
   "outputs": [
    {
     "name": "stderr",
     "output_type": "stream",
     "text": [
      "100%|██████████| 200/200 [00:00<00:00, 303.70it/s]\n"
     ]
    },
    {
     "data": {
      "image/png": "[encoded data removed]",
      "text/plain": [
       "<Figure size 576x396 with 1 Axes>"
      ]
     },
     "metadata": {},
     "output_type": "display_data"
    },
    {
     "name": "stderr",
     "output_type": "stream",
     "text": [
      "100%|██████████| 30/30 [01:41<00:00,  3.39s/it]"
     ]
    },
    {
     "name": "stdout",
     "output_type": "stream",
     "text": [
      "Best run (out of 30 sampled):\n",
      "displaying './runs/CrossEntropy/0/rl-video-episode-0.mp4' run\n",
      "reward: 200.0\n"
     ]
    },
    {
     "name": "stderr",
     "output_type": "stream",
     "text": [
      "\n"
     ]
    },
    {
     "data": {
      "text/html": [
       "<video src=\"./runs/CrossEntropy/0/rl-video-episode-0.mp4\" controls loop autoplay  >\n",
       "      Your browser does not support the <code>video</code> element.\n",
       "    </video>"
      ],
      "text/plain": [
       "<IPython.core.display.Video object>"
      ]
     },
     "metadata": {},
     "output_type": "display_data"
    }
   ],
   "source": [
    "! rm -rf ./runs/\n",
    "video_folder, rewards = analyze_policy(env, cross_entropy, max_steps=200)"
   ]
  },
  {
   "cell_type": "code",
   "execution_count": 25,
   "metadata": {},
   "outputs": [
    {
     "name": "stdout",
     "output_type": "stream",
     "text": [
      "displaying './runs/CrossEntropy/0/rl-video-episode-0.mp4' run\n",
      "reward: 200.0\n"
     ]
    },
    {
     "data": {
      "text/html": [
       "<video src=\"./runs/CrossEntropy/0/rl-video-episode-0.mp4\" controls loop autoplay  >\n",
       "      Your browser does not support the <code>video</code> element.\n",
       "    </video>"
      ],
      "text/plain": [
       "<IPython.core.display.Video object>"
      ]
     },
     "metadata": {},
     "output_type": "display_data"
    }
   ],
   "source": [
    "show_run(video_folder, rewards, best=True)"
   ]
  },
  {
   "cell_type": "code",
   "execution_count": 26,
   "metadata": {},
   "outputs": [
    {
     "name": "stdout",
     "output_type": "stream",
     "text": [
      "[200. 200. 200. 200. 200. 200. 200. 200. 200. 200. 200. 200. 200. 200.\n",
      " 200. 200. 200. 200. 200. 200. 200. 200. 200. 200. 200. 200. 200. 200.\n",
      " 200. 200.]\n",
      "[ 0 27 26 25 24 23 22 21 20 19 18 17 16 15 14 13 12 11 10  9  8  7  6  5\n",
      "  4  3  2  1 28 29]\n"
     ]
    }
   ],
   "source": [
    "print(rewards)\n",
    "print(np.argsort(rewards))"
   ]
  },
  {
   "cell_type": "code",
   "execution_count": 27,
   "metadata": {},
   "outputs": [
    {
     "name": "stdout",
     "output_type": "stream",
     "text": [
      "displaying './runs/CrossEntropy/7/rl-video-episode-0.mp4' run\n",
      "reward: 200.0\n"
     ]
    },
    {
     "data": {
      "text/html": [
       "<video src=\"./runs/CrossEntropy/7/rl-video-episode-0.mp4\" controls loop autoplay  >\n",
       "      Your browser does not support the <code>video</code> element.\n",
       "    </video>"
      ],
      "text/plain": [
       "<IPython.core.display.Video object>"
      ]
     },
     "metadata": {},
     "output_type": "display_data"
    }
   ],
   "source": [
    "show_run(video_folder, rewards, idx=7)"
   ]
  },
  {
   "cell_type": "markdown",
   "metadata": {},
   "source": [
    "## Q-learning"
   ]
  },
  {
   "cell_type": "markdown",
   "metadata": {},
   "source": [
    "### binarize observation space"
   ]
  },
  {
   "cell_type": "code",
   "execution_count": 28,
   "metadata": {},
   "outputs": [],
   "source": [
    "def visualize_cartpole_observation_distribution(states):\n",
    "    states = np.array(states)\n",
    "    fig, axes = plt.subplots(2, 2, figsize=(16, 9), sharey=True)\n",
    "    axes = axes.flatten()\n",
    "    for i, title in enumerate(['Cart Position', 'Cart Velocity', 'Pole Angle', 'Pole Velocity At Tip']):\n",
    "        ax = axes[i]\n",
    "        ax.hist(states[:, i], bins=20)\n",
    "        ax.set_title(title)\n",
    "        xmin, xmax = ax.get_xlim()\n",
    "        ax.set_xlim(min(xmin, -xmax), max(-xmin, xmax))\n",
    "        ax.grid()\n",
    "\n",
    "    fig.tight_layout()"
   ]
  },
  {
   "cell_type": "code",
   "execution_count": 29,
   "metadata": {},
   "outputs": [
    {
     "data": {
      "image/png": "[encoded data removed]",
      "text/plain": [
       "<Figure size 1152x648 with 4 Axes>"
      ]
     },
     "metadata": {},
     "output_type": "display_data"
    }
   ],
   "source": [
    "states = []\n",
    "for _ in range(1000):\n",
    "    states.append(env.reset())\n",
    "    done = False\n",
    "    while not done:\n",
    "        state, _, done, _ = env.step(env.action_space.sample())\n",
    "        states.append(state)\n",
    "\n",
    "visualize_cartpole_observation_distribution(states)"
   ]
  },
  {
   "cell_type": "code",
   "execution_count": 30,
   "metadata": {},
   "outputs": [],
   "source": [
    "class Binarizer(gym.ObservationWrapper):\n",
    "    def observation(self, state):\n",
    "        # Binarize state, e.g. round it to some amount digits (hint: you can do that with round(x, ndigits))\n",
    "        # You might need to pick a different n_digits for each dimension based on histograms.\n",
    "        features_ndigits = [1, 1, 1, 1]\n",
    "        for feature_index in range(len(state)):\n",
    "            state[feature_index] = round(state[feature_index], features_ndigits[feature_index])\n",
    "\n",
    "        return tuple(state)"
   ]
  },
  {
   "cell_type": "code",
   "execution_count": 31,
   "metadata": {},
   "outputs": [],
   "source": [
    "env.reset()\n",
    "env = Binarizer(env)"
   ]
  },
  {
   "cell_type": "code",
   "execution_count": 32,
   "metadata": {},
   "outputs": [
    {
     "data": {
      "image/png": "[encoded data removed]",
      "text/plain": [
       "<Figure size 1152x648 with 4 Axes>"
      ]
     },
     "metadata": {},
     "output_type": "display_data"
    }
   ],
   "source": [
    "states = []\n",
    "for _ in range(1000):\n",
    "    states.append(env.reset())\n",
    "    done = False\n",
    "    while not done:\n",
    "        state, _, done, _ = env.step(env.action_space.sample())\n",
    "        states.append(state)\n",
    "\n",
    "visualize_cartpole_observation_distribution(states)"
   ]
  },
  {
   "cell_type": "code",
   "execution_count": 33,
   "metadata": {},
   "outputs": [],
   "source": [
    "class QLearning:\n",
    "    \n",
    "    def __init__(self, env, out_size):\n",
    "        \n",
    "        self.env = env\n",
    "        self.actions = list(range(out_size))\n",
    "        self.q = defaultdict(lambda: defaultdict(lambda: 0))\n",
    "        \n",
    "    def v(self, state):\n",
    "        return max(self.q[state][action] for action in self.actions)\n",
    "\n",
    "    def update_q(self, state, action, reward, new_state, alpha=0.1, discount=0.99):\n",
    "        value = self.q[state][action] + alpha * (reward + discount * self.v(new_state) - self.q[state][action])\n",
    "        self.q[state][action] = value\n",
    "\n",
    "    def get_action(self, state, train=False, eps=0.5):\n",
    "\n",
    "        if train and random.random() < eps:\n",
    "            return self.env.action_space.sample()\n",
    "        \n",
    "        return self.actions[np.argmax([self.q[state][action] for action in self.actions])]\n",
    "    \n",
    "    def train(self, reward_threshold=190, n_epochs=100, reward_discount=0.99, alpha=0.5, eps=0.25, max_steps=200, update_every=200):\n",
    "        \n",
    "        # initializing train params\n",
    "        reward = np.mean(eval_policy(self.env, self, n_iter=200, max_steps=max_steps, verbose=False))\n",
    "        epoch = 0\n",
    "        scores = []\n",
    "\n",
    "        # training\n",
    "        pbar = tqdm(total=n_epochs)\n",
    "        while reward < reward_threshold and epoch < n_epochs:\n",
    "            \n",
    "            \n",
    "            state = self.env.reset()\n",
    "            iter_reward = 0\n",
    "            cur_step = 0\n",
    "            done = False\n",
    "\n",
    "            while not done and cur_step < max_steps:\n",
    "\n",
    "                action = self.get_action(state, train=True, eps=eps)\n",
    "                new_state, reward, done, _ = env.step(action)\n",
    "                self.update_q(state, action, reward, new_state, alpha=alpha, discount=reward_discount)\n",
    "                state = new_state\n",
    "                iter_reward += reward\n",
    "                cur_step += 1\n",
    "            \n",
    "            epoch += 1\n",
    "            #reward = np.mean(eval_policy(self.env, self, n_iter=200, max_steps=max_steps, verbose=False))\n",
    "            scores.append(iter_reward)\n",
    "            \n",
    "            if epoch % update_every == 0:\n",
    "                clear_output(True)\n",
    "                plot_rewards(scores)\n",
    "                pbar.n = epoch\n",
    "                pbar.refresh()\n",
    "                #pbar.set_description(f\"reward: {iter_reward}\")\n",
    "            \n",
    "        pbar.close()\n",
    "        return scores"
   ]
  },
  {
   "cell_type": "code",
   "execution_count": 34,
   "metadata": {},
   "outputs": [],
   "source": [
    "out_size = env.action_space.n\n",
    "qlearning = QLearning(env, out_size=out_size)"
   ]
  },
  {
   "cell_type": "code",
   "execution_count": 35,
   "metadata": {},
   "outputs": [
    {
     "data": {
      "image/png": "[encoded data removed]",
      "text/plain": [
       "<Figure size 576x396 with 1 Axes>"
      ]
     },
     "metadata": {},
     "output_type": "display_data"
    },
    {
     "name": "stderr",
     "output_type": "stream",
     "text": [
      "100%|██████████| 10000/10000 [00:42<00:00, 234.98it/s]\n"
     ]
    }
   ],
   "source": [
    "scores = qlearning.train(n_epochs=10000, eps=0.25)"
   ]
  },
  {
   "cell_type": "code",
   "execution_count": 36,
   "metadata": {},
   "outputs": [
    {
     "name": "stdout",
     "output_type": "stream",
     "text": [
      "Your agent has learned 11816 Q-values.\n"
     ]
    }
   ],
   "source": [
    "print('Your agent has learned {} Q-values.'.format(len(qlearning.q)))"
   ]
  },
  {
   "cell_type": "code",
   "execution_count": 37,
   "metadata": {},
   "outputs": [
    {
     "name": "stderr",
     "output_type": "stream",
     "text": [
      "100%|██████████| 200/200 [00:01<00:00, 170.36it/s]\n"
     ]
    },
    {
     "data": {
      "image/png": "[encoded data removed]",
      "text/plain": [
       "<Figure size 576x396 with 1 Axes>"
      ]
     },
     "metadata": {},
     "output_type": "display_data"
    },
    {
     "name": "stderr",
     "output_type": "stream",
     "text": [
      "100%|██████████| 30/30 [01:13<00:00,  2.44s/it]"
     ]
    },
    {
     "name": "stdout",
     "output_type": "stream",
     "text": [
      "Best run (out of 30 sampled):\n",
      "displaying './runs/QLearning/0/rl-video-episode-0.mp4' run\n",
      "reward: 200.0\n"
     ]
    },
    {
     "name": "stderr",
     "output_type": "stream",
     "text": [
      "\n"
     ]
    },
    {
     "data": {
      "text/html": [
       "<video src=\"./runs/QLearning/0/rl-video-episode-0.mp4\" controls loop autoplay  >\n",
       "      Your browser does not support the <code>video</code> element.\n",
       "    </video>"
      ],
      "text/plain": [
       "<IPython.core.display.Video object>"
      ]
     },
     "metadata": {},
     "output_type": "display_data"
    }
   ],
   "source": [
    "video_folder, rewards = analyze_policy(env, qlearning, max_steps=200)"
   ]
  },
  {
   "cell_type": "code",
   "execution_count": 38,
   "metadata": {},
   "outputs": [
    {
     "name": "stdout",
     "output_type": "stream",
     "text": [
      "displaying './runs/QLearning/2/rl-video-episode-0.mp4' run\n",
      "reward: 46.0\n"
     ]
    },
    {
     "data": {
      "text/html": [
       "<video src=\"./runs/QLearning/2/rl-video-episode-0.mp4\" controls loop autoplay  >\n",
       "      Your browser does not support the <code>video</code> element.\n",
       "    </video>"
      ],
      "text/plain": [
       "<IPython.core.display.Video object>"
      ]
     },
     "metadata": {},
     "output_type": "display_data"
    }
   ],
   "source": [
    "show_run(video_folder, rewards, worse=True)"
   ]
  },
  {
   "cell_type": "markdown",
   "metadata": {},
   "source": [
    "## DQN"
   ]
  },
  {
   "cell_type": "markdown",
   "metadata": {},
   "source": [
    "### Building a network"
   ]
  },
  {
   "cell_type": "markdown",
   "metadata": {},
   "source": [
    "We now need to build a neural network that can map observations to state q-values.\n",
    "The model does not have to be huge yet. 1-2 hidden layers with < 200 neurons and ReLU activation will probably be enough. Batch normalization and dropout can spoil everything here."
   ]
  },
  {
   "cell_type": "code",
   "execution_count": 39,
   "metadata": {},
   "outputs": [
    {
     "name": "stdout",
     "output_type": "stream",
     "text": [
      "cuda\n"
     ]
    }
   ],
   "source": [
    "import torch\n",
    "import torch.nn as nn\n",
    "device = torch.device('cuda' if torch.cuda.is_available() else 'cpu')\n",
    "# those who have a GPU but feel unfair to use it can uncomment:\n",
    "# device = torch.device('cpu')\n",
    "print(device)"
   ]
  },
  {
   "cell_type": "code",
   "execution_count": 40,
   "metadata": {},
   "outputs": [],
   "source": [
    "class DQNAgent(nn.Module):\n",
    "    def __init__(self, state_shape, n_actions, epsilon=0, hid_dim=150):\n",
    "\n",
    "        super().__init__()\n",
    "        self.epsilon = epsilon\n",
    "        self.n_actions = n_actions\n",
    "        self.state_shape = state_shape\n",
    "        # Define your network body here. Please make sure agent is fully contained here\n",
    "        assert len(state_shape) == 1\n",
    "        state_dim = state_shape[0]\n",
    "        \n",
    "        self.linear_1 = nn.Linear(state_dim, hid_dim)\n",
    "        self.relu = nn.ReLU()\n",
    "        self.linear_2 = nn.Linear(hid_dim, n_actions)\n",
    "\n",
    "        \n",
    "    def forward(self, state_t):\n",
    "        \"\"\"\n",
    "        takes agent's observation (tensor), returns qvalues (tensor)\n",
    "        :param state_t: a batch states, shape = [batch_size, *state_dim=4]\n",
    "        \"\"\"\n",
    "        x = self.linear_1(state_t)\n",
    "        x = self.relu(x)\n",
    "        x = self.linear_2(x)\n",
    "        \n",
    "        qvalues = x\n",
    "\n",
    "        assert qvalues.requires_grad, \"qvalues must be a torch tensor with grad\"\n",
    "        assert len(\n",
    "            qvalues.shape) == 2 and qvalues.shape[0] == state_t.shape[0] and qvalues.shape[1] == n_actions\n",
    "\n",
    "        return qvalues\n",
    "\n",
    "    def get_qvalues(self, states):\n",
    "        \"\"\"\n",
    "        like forward, but works on numpy arrays, not tensors\n",
    "        \"\"\"\n",
    "        model_device = next(self.parameters()).device\n",
    "        states = torch.tensor(states, device=model_device, dtype=torch.float32)\n",
    "        qvalues = self.forward(states)\n",
    "        return qvalues.data.cpu().numpy()\n",
    "\n",
    "    def sample_actions(self, qvalues):\n",
    "        \"\"\"pick actions given qvalues. Uses epsilon-greedy exploration strategy. \"\"\"\n",
    "        epsilon = self.epsilon\n",
    "        batch_size, n_actions = qvalues.shape\n",
    "\n",
    "        random_actions = np.random.choice(n_actions, size=batch_size)\n",
    "        best_actions = qvalues.argmax(axis=-1)\n",
    "\n",
    "        should_explore = np.random.choice(\n",
    "            [0, 1], batch_size, p=[1-epsilon, epsilon])\n",
    "        return np.where(should_explore, random_actions, best_actions)\n",
    "    \n",
    "    def get_action(self, state):\n",
    "        \n",
    "        qvalues = self.get_qvalues([state])\n",
    "        action = qvalues.argmax(axis=-1)[0]\n",
    "        return action"
   ]
  },
  {
   "cell_type": "code",
   "execution_count": 41,
   "metadata": {},
   "outputs": [],
   "source": [
    "agent = DQNAgent(state_shape, n_actions, epsilon=0.5).to(device)"
   ]
  },
  {
   "cell_type": "markdown",
   "metadata": {},
   "source": [
    "Now let's try out our agent to see if it raises any errors."
   ]
  },
  {
   "cell_type": "code",
   "execution_count": 42,
   "metadata": {},
   "outputs": [],
   "source": [
    "def evaluate(env, agent, n_games=1, greedy=False, t_max=10000):\n",
    "    \"\"\" Plays n_games full games. If greedy, picks actions as argmax(qvalues). Returns mean reward. \"\"\"\n",
    "    rewards = []\n",
    "    for _ in range(n_games):\n",
    "        s = env.reset()\n",
    "        reward = 0\n",
    "        for _ in range(t_max):\n",
    "            qvalues = agent.get_qvalues([s])\n",
    "            action = qvalues.argmax(axis=-1)[0] if greedy else agent.sample_actions(qvalues)[0]\n",
    "            s, r, done, _ = env.step(action)\n",
    "            reward += r\n",
    "            if done:\n",
    "                break\n",
    "\n",
    "        rewards.append(reward)\n",
    "    return np.mean(rewards)"
   ]
  },
  {
   "cell_type": "code",
   "execution_count": 43,
   "metadata": {},
   "outputs": [
    {
     "data": {
      "text/plain": [
       "21.0"
      ]
     },
     "execution_count": 43,
     "metadata": {},
     "output_type": "execute_result"
    }
   ],
   "source": [
    "evaluate(env, agent, n_games=1)"
   ]
  },
  {
   "cell_type": "markdown",
   "metadata": {},
   "source": [
    "### Experience replay\n",
    "For this assignment, we provide you with experience replay buffer. If you implemented experience replay buffer in previous bonus assigments, you can copy-paste it here in main notebook.\n",
    "\n",
    "![img](https://github.com/yandexdataschool/Practical_RL/raw/master/yet_another_week/_resource/exp_replay.png)"
   ]
  },
  {
   "cell_type": "markdown",
   "metadata": {},
   "source": [
    "#### The interface is fairly simple:\n",
    "* `exp_replay.add(obs, act, rw, next_obs, done)` - saves (s,a,r,s',done) tuple into the buffer\n",
    "* `exp_replay.sample(batch_size)` - returns observations, actions, rewards, next_observations and is_done for `batch_size` random samples.\n",
    "* `len(exp_replay)` - returns number of elements stored in replay buffer."
   ]
  },
  {
   "cell_type": "code",
   "execution_count": 44,
   "metadata": {},
   "outputs": [],
   "source": [
    "from replay_buffer import ReplayBuffer\n",
    "exp_replay = ReplayBuffer(10)\n",
    "\n",
    "for _ in range(30):\n",
    "    exp_replay.add(env.reset(), env.action_space.sample(),\n",
    "                   1.0, env.reset(), done=False)\n",
    "\n",
    "obs_batch, act_batch, reward_batch, next_obs_batch, is_done_batch = exp_replay.sample(\n",
    "    5)\n",
    "\n",
    "assert len(exp_replay) == 10, \"experience replay size should be 10 because that's what maximum capacity is\""
   ]
  },
  {
   "cell_type": "code",
   "execution_count": 45,
   "metadata": {},
   "outputs": [],
   "source": [
    "def play_and_record(initial_state, agent, env, exp_replay, n_steps=1, greedy=False):\n",
    "    \"\"\"\n",
    "    Play the game for exactly n steps, record every (s,a,r,s', done) to replay buffer. \n",
    "    Whenever game ends, add record with done=True and reset the game.\n",
    "    It is guaranteed that env has done=False when passed to this function.\n",
    "\n",
    "    PLEASE DO NOT RESET ENV UNLESS IT IS \"DONE\"\n",
    "\n",
    "    :returns: return sum of rewards over time and the state in which the env stays\n",
    "    \"\"\"\n",
    "    s = initial_state\n",
    "    sum_rewards = 0\n",
    "\n",
    "    for _ in range(n_steps):\n",
    "        \n",
    "        qvalues = agent.get_qvalues([s])\n",
    "        action = qvalues.argmax(axis=-1)[0] if greedy else agent.sample_actions(qvalues)[0]\n",
    "        new_state, reward, done, _ = env.step(action)\n",
    "        exp_replay.add(s, action, reward, new_state, done)\n",
    "        \n",
    "        s = new_state\n",
    "        sum_rewards += reward\n",
    "        \n",
    "        if done:\n",
    "            env.reset()\n",
    "\n",
    "    return sum_rewards, s"
   ]
  },
  {
   "cell_type": "code",
   "execution_count": 46,
   "metadata": {},
   "outputs": [
    {
     "name": "stdout",
     "output_type": "stream",
     "text": [
      "Well done!\n"
     ]
    }
   ],
   "source": [
    "# testing your code.\n",
    "exp_replay = ReplayBuffer(2000)\n",
    "\n",
    "state = env.reset()\n",
    "play_and_record(state, agent, env, exp_replay, n_steps=1000)\n",
    "\n",
    "# if you're using your own experience replay buffer, some of those tests may need correction.\n",
    "# just make sure you know what your code does\n",
    "assert len(exp_replay) == 1000, \"play_and_record should have added exactly 1000 steps, \"\\\n",
    "                                 \"but instead added %i\" % len(exp_replay)\n",
    "is_dones = list(zip(*exp_replay._storage))[-1]\n",
    "\n",
    "assert 0 < np.mean(is_dones) < 0.1, \"Please make sure you restart the game whenever it is 'done' and record the is_done correctly into the buffer.\"\\\n",
    "                                    \"Got %f is_done rate over %i steps. [If you think it's your tough luck, just re-run the test]\" % (\n",
    "                                        np.mean(is_dones), len(exp_replay))\n",
    "\n",
    "for _ in range(100):\n",
    "    obs_batch, act_batch, reward_batch, next_obs_batch, is_done_batch = exp_replay.sample(\n",
    "        10)\n",
    "    assert obs_batch.shape == next_obs_batch.shape == (10,) + state_shape\n",
    "    assert act_batch.shape == (\n",
    "        10,), \"actions batch should have shape (10,) but is instead %s\" % str(act_batch.shape)\n",
    "    assert reward_batch.shape == (\n",
    "        10,), \"rewards batch should have shape (10,) but is instead %s\" % str(reward_batch.shape)\n",
    "    assert is_done_batch.shape == (\n",
    "        10,), \"is_done batch should have shape (10,) but is instead %s\" % str(is_done_batch.shape)\n",
    "    assert [int(i) in (0, 1)\n",
    "            for i in is_dones], \"is_done should be strictly True or False\"\n",
    "    assert [\n",
    "        0 <= a < n_actions for a in act_batch], \"actions should be within [0, n_actions]\"\n",
    "\n",
    "print(\"Well done!\")"
   ]
  },
  {
   "cell_type": "markdown",
   "metadata": {},
   "source": [
    "### Target networks\n",
    "\n",
    "We also employ the so called \"target network\" - a copy of neural network weights to be used for reference Q-values:\n",
    "\n",
    "The network itself is an exact copy of agent network, but it's parameters are not trained. Instead, they are moved here from agent's actual network every so often.\n",
    "\n",
    "$$ Q_{reference}(s,a) = r + \\gamma \\cdot \\max _{a'} Q_{target}(s',a') $$\n",
    "\n",
    "![img](https://github.com/yandexdataschool/Practical_RL/raw/master/yet_another_week/_resource/target_net.png)"
   ]
  },
  {
   "cell_type": "code",
   "execution_count": 47,
   "metadata": {},
   "outputs": [
    {
     "data": {
      "text/plain": [
       "<All keys matched successfully>"
      ]
     },
     "execution_count": 47,
     "metadata": {},
     "output_type": "execute_result"
    }
   ],
   "source": [
    "target_network = DQNAgent(agent.state_shape, agent.n_actions, epsilon=0.5).to(device)\n",
    "# This is how you can load weights from agent into target network\n",
    "target_network.load_state_dict(agent.state_dict())"
   ]
  },
  {
   "cell_type": "markdown",
   "metadata": {},
   "source": [
    "### Learning with... Q-learning\n",
    "Here we write a function similar to `agent.update` from tabular q-learning."
   ]
  },
  {
   "cell_type": "markdown",
   "metadata": {},
   "source": [
    "Compute Q-learning TD error:\n",
    "\n",
    "$$ L = { 1 \\over N} \\sum_i [ Q_{\\theta}(s,a) - Q_{reference}(s,a) ] ^2 $$\n",
    "\n",
    "With Q-reference defined as\n",
    "\n",
    "$$ Q_{reference}(s,a) = r(s,a) + \\gamma \\cdot max_{a'} Q_{target}(s', a') $$\n",
    "\n",
    "Where\n",
    "* $Q_{target}(s',a')$ denotes q-value of next state and next action predicted by __target_network__\n",
    "* $s, a, r, s'$ are current state, action, reward and next state respectively\n",
    "* $\\gamma$ is a discount factor defined two cells above.\n",
    "\n",
    "\n",
    "__Note 1:__ there's an example input below. Feel free to experiment with it before you write the function.\n",
    "\n",
    "__Note 2:__ compute_td_loss is a source of 99% of bugs in this homework. If reward doesn't improve, it often helps to go through it line by line [with a rubber duck](https://rubberduckdebugging.com/)."
   ]
  },
  {
   "cell_type": "code",
   "execution_count": 48,
   "metadata": {},
   "outputs": [],
   "source": [
    "def compute_td_loss(states, actions, rewards, next_states, is_done,\n",
    "                    agent, target_network,\n",
    "                    gamma=0.99,\n",
    "                    check_shapes=False,\n",
    "                    device=device):\n",
    "    \"\"\" Compute td loss using torch operations only. Use the formulae above. \"\"\"\n",
    "    states = torch.tensor(states, device=device, dtype=torch.float)    # shape: [batch_size, *state_shape]\n",
    "\n",
    "    # for some torch reason should not make actions a tensor\n",
    "    actions = torch.tensor(actions, device=device, dtype=torch.long)    # shape: [batch_size]\n",
    "    rewards = torch.tensor(rewards, device=device, dtype=torch.float)  # shape: [batch_size]\n",
    "    # shape: [batch_size, *state_shape]\n",
    "    next_states = torch.tensor(next_states, device=device, dtype=torch.float)\n",
    "    is_done = torch.tensor(\n",
    "        is_done.astype('float32'),\n",
    "        device=device,\n",
    "        dtype=torch.float\n",
    "    )  # shape: [batch_size]\n",
    "    is_not_done = 1 - is_done\n",
    "\n",
    "    # get q-values for all actions in current states\n",
    "    predicted_qvalues = agent(states)\n",
    "\n",
    "    # compute q-values for all actions in next states\n",
    "    predicted_next_qvalues = target_network(next_states)\n",
    "    \n",
    "    # select q-values for chosen actions\n",
    "    predicted_qvalues_for_actions = predicted_qvalues[range(\n",
    "        len(actions)), actions]\n",
    "\n",
    "    # compute V*(next_states) using predicted next q-values\n",
    "    next_state_values = predicted_next_qvalues.max(dim=1).values\n",
    "\n",
    "    assert next_state_values.dim(\n",
    "    ) == 1 and next_state_values.shape[0] == states.shape[0], \"must predict one value per state\"\n",
    "\n",
    "    # compute \"target q-values\" for loss - it's what's inside square parentheses in the above formula.\n",
    "    # at the last state use the simplified formula: Q(s,a) = r(s,a) since s' doesn't exist\n",
    "    # you can multiply next state values by is_not_done to achieve this.\n",
    "    target_qvalues_for_actions = rewards + gamma * next_state_values * is_not_done\n",
    "\n",
    "    # mean squared error loss to minimize\n",
    "    loss = torch.mean((predicted_qvalues_for_actions -\n",
    "                       target_qvalues_for_actions.detach()) ** 2)\n",
    "\n",
    "    if check_shapes:\n",
    "        assert predicted_next_qvalues.data.dim(\n",
    "        ) == 2, \"make sure you predicted q-values for all actions in next state\"\n",
    "        assert next_state_values.data.dim(\n",
    "        ) == 1, \"make sure you computed V(s') as maximum over just the actions axis and not all axes\"\n",
    "        assert target_qvalues_for_actions.data.dim(\n",
    "        ) == 1, \"there's something wrong with target q-values, they must be a vector\"\n",
    "\n",
    "    return loss"
   ]
  },
  {
   "cell_type": "markdown",
   "metadata": {},
   "source": [
    "Sanity checks"
   ]
  },
  {
   "cell_type": "code",
   "execution_count": 49,
   "metadata": {},
   "outputs": [],
   "source": [
    "obs_batch, act_batch, reward_batch, next_obs_batch, is_done_batch = exp_replay.sample(\n",
    "    10)\n",
    "\n",
    "loss = compute_td_loss(obs_batch, act_batch, reward_batch, next_obs_batch, is_done_batch,\n",
    "                       agent, target_network,\n",
    "                       gamma=0.99, check_shapes=True)\n",
    "loss.backward()\n",
    "\n",
    "assert loss.requires_grad and tuple(loss.data.size()) == (\n",
    "    ), \"you must return scalar loss - mean over batch\"\n",
    "assert np.any(next(agent.parameters()).grad.data.cpu().numpy() !=\n",
    "              0), \"loss must be differentiable w.r.t. network weights\"\n",
    "assert np.all(next(target_network.parameters()).grad is None), \"target network should not have grads\""
   ]
  },
  {
   "cell_type": "markdown",
   "metadata": {},
   "source": [
    "### Main loop\n",
    "\n",
    "It's time to put everything together and see if it learns anything."
   ]
  },
  {
   "cell_type": "code",
   "execution_count": 50,
   "metadata": {},
   "outputs": [],
   "source": [
    "from tqdm import trange\n",
    "from IPython.display import clear_output\n",
    "import matplotlib.pyplot as plt"
   ]
  },
  {
   "cell_type": "code",
   "execution_count": 51,
   "metadata": {},
   "outputs": [
    {
     "data": {
      "text/plain": [
       "<torch._C.Generator at 0x7f1396a71750>"
      ]
     },
     "execution_count": 51,
     "metadata": {},
     "output_type": "execute_result"
    }
   ],
   "source": [
    "seed = 322\n",
    "random.seed(seed)\n",
    "np.random.seed(seed)\n",
    "torch.manual_seed(seed)"
   ]
  },
  {
   "cell_type": "code",
   "execution_count": 52,
   "metadata": {},
   "outputs": [
    {
     "data": {
      "text/plain": [
       "<All keys matched successfully>"
      ]
     },
     "execution_count": 52,
     "metadata": {},
     "output_type": "execute_result"
    }
   ],
   "source": [
    "env = make_env(seed)\n",
    "state_dim = env.observation_space.shape\n",
    "n_actions = env.action_space.n\n",
    "state = env.reset()\n",
    "\n",
    "agent = DQNAgent(state_dim, n_actions, epsilon=1).to(device)\n",
    "target_network = DQNAgent(state_dim, n_actions, epsilon=1).to(device)\n",
    "target_network.load_state_dict(agent.state_dict())"
   ]
  },
  {
   "cell_type": "code",
   "execution_count": 53,
   "metadata": {},
   "outputs": [
    {
     "name": "stdout",
     "output_type": "stream",
     "text": [
      "10000\n"
     ]
    }
   ],
   "source": [
    "exp_replay = ReplayBuffer(10**4)\n",
    "for i in range(100):\n",
    "    if not utils.is_enough_ram(min_available_gb=0.1):\n",
    "        print(\"\"\"\n",
    "            Less than 100 Mb RAM available. \n",
    "            Make sure the buffer size in not too huge.\n",
    "            Also check, maybe other processes consume RAM heavily.\n",
    "            \"\"\"\n",
    "             )\n",
    "        break\n",
    "    play_and_record(state, agent, env, exp_replay, n_steps=10**2)\n",
    "    if len(exp_replay) == 10**4:\n",
    "        break\n",
    "print(len(exp_replay))"
   ]
  },
  {
   "cell_type": "code",
   "execution_count": 54,
   "metadata": {},
   "outputs": [],
   "source": [
    "timesteps_per_epoch = 1\n",
    "batch_size = 32\n",
    "total_steps = 6 * 10**4\n",
    "decay_steps = 1 * 10**4\n",
    "\n",
    "opt = torch.optim.Adam(agent.parameters(), lr=1e-4)\n",
    "\n",
    "init_epsilon = 1\n",
    "final_epsilon = 0.1\n",
    "\n",
    "loss_freq = 20\n",
    "refresh_target_network_freq = 100\n",
    "eval_freq = 1000\n",
    "\n",
    "max_grad_norm = 5000"
   ]
  },
  {
   "cell_type": "code",
   "execution_count": 55,
   "metadata": {},
   "outputs": [],
   "source": [
    "mean_rw_history = []\n",
    "td_loss_history = []\n",
    "grad_norm_history = []\n",
    "initial_state_v_history = []"
   ]
  },
  {
   "cell_type": "code",
   "execution_count": 56,
   "metadata": {
    "scrolled": false
   },
   "outputs": [
    {
     "name": "stdout",
     "output_type": "stream",
     "text": [
      "buffer size = 10000, epsilon = 0.10000\n"
     ]
    },
    {
     "data": {
      "image/png": "[encoded data removed]",
      "text/plain": [
       "<Figure size 1152x648 with 4 Axes>"
      ]
     },
     "metadata": {},
     "output_type": "display_data"
    },
    {
     "name": "stderr",
     "output_type": "stream",
     "text": [
      "100%|██████████| 60001/60001 [02:52<00:00, 348.65it/s]\n"
     ]
    }
   ],
   "source": [
    "state = env.reset()\n",
    "for step in trange(total_steps + 1):\n",
    "    if not utils.is_enough_ram():\n",
    "        print('less that 100 Mb RAM available, freezing')\n",
    "        print('make sure everything is ok and make KeyboardInterrupt to continue')\n",
    "        try:\n",
    "            while True:\n",
    "                pass\n",
    "        except KeyboardInterrupt:\n",
    "            pass\n",
    "\n",
    "    agent.epsilon = utils.linear_decay(init_epsilon, final_epsilon, step, decay_steps)\n",
    "\n",
    "    # play\n",
    "    _, state = play_and_record(state, agent, env, exp_replay, timesteps_per_epoch)\n",
    "\n",
    "    # train\n",
    "    obs_batch, act_batch, reward_batch, next_obs_batch, is_done_batch = exp_replay.sample(batch_size)\n",
    "\n",
    "    loss = compute_td_loss(\n",
    "        obs_batch, act_batch, reward_batch, next_obs_batch, is_done_batch,\n",
    "        agent, target_network, gamma=0.99, check_shapes=True)\n",
    "\n",
    "    loss.backward()\n",
    "    grad_norm = nn.utils.clip_grad_norm_(agent.parameters(), max_grad_norm)\n",
    "    opt.step()\n",
    "    opt.zero_grad()\n",
    "\n",
    "    if step % loss_freq == 0:\n",
    "        td_loss_history.append(loss.data.cpu().item())\n",
    "        grad_norm_history.append(grad_norm.cpu().item())\n",
    "\n",
    "    if step % refresh_target_network_freq == 0:\n",
    "        # Load agent weights into target_network\n",
    "        target_network.load_state_dict(agent.state_dict())\n",
    "\n",
    "    if step % eval_freq == 0:\n",
    "        # eval the agent\n",
    "        mean_rw_history.append(evaluate(\n",
    "            make_env(seed=step), agent, n_games=3, greedy=True, t_max=1000)\n",
    "        )\n",
    "        initial_state_q_values = agent.get_qvalues(\n",
    "            [make_env(seed=step).reset()]\n",
    "        )\n",
    "        initial_state_v_history.append(np.max(initial_state_q_values))\n",
    "\n",
    "        clear_output(True)\n",
    "        print(\"buffer size = %i, epsilon = %.5f\" %\n",
    "              (len(exp_replay), agent.epsilon))\n",
    "\n",
    "        plt.figure(figsize=[16, 9])\n",
    "        plt.subplot(2, 2, 1)\n",
    "        plt.title(\"Mean reward per episode\")\n",
    "        plt.plot(mean_rw_history)\n",
    "        plt.grid()\n",
    "\n",
    "        assert not np.isnan(td_loss_history[-1])\n",
    "        plt.subplot(2, 2, 2)\n",
    "        plt.title(\"TD loss history (smoothened)\")\n",
    "        plt.plot(utils.smoothen(td_loss_history))\n",
    "        plt.grid()\n",
    "\n",
    "        plt.subplot(2, 2, 3)\n",
    "        plt.title(\"Initial state V\")\n",
    "        plt.plot(initial_state_v_history)\n",
    "        plt.grid()\n",
    "\n",
    "        plt.subplot(2, 2, 4)\n",
    "        plt.title(\"Grad norm history (smoothened)\")\n",
    "        plt.plot(utils.smoothen(grad_norm_history))\n",
    "        plt.grid()\n",
    "\n",
    "        plt.show()"
   ]
  },
  {
   "cell_type": "code",
   "execution_count": 57,
   "metadata": {},
   "outputs": [
    {
     "name": "stdout",
     "output_type": "stream",
     "text": [
      "final score: 919.5666666666667\n",
      "Well done\n"
     ]
    }
   ],
   "source": [
    "final_score = evaluate(\n",
    "  make_env(),\n",
    "  agent, n_games=30, greedy=True, t_max=1000\n",
    ")\n",
    "print('final score:', final_score)\n",
    "assert final_score > 300, 'not good enough for DQN'\n",
    "print('Well done')"
   ]
  },
  {
   "cell_type": "code",
   "execution_count": 58,
   "metadata": {},
   "outputs": [
    {
     "name": "stderr",
     "output_type": "stream",
     "text": [
      "100%|██████████| 200/200 [00:34<00:00,  5.74it/s]\n"
     ]
    },
    {
     "data": {
      "image/png": "[encoded data removed]",
      "text/plain": [
       "<Figure size 576x396 with 1 Axes>"
      ]
     },
     "metadata": {},
     "output_type": "display_data"
    },
    {
     "name": "stderr",
     "output_type": "stream",
     "text": [
      "100%|██████████| 30/30 [07:54<00:00, 15.83s/it]"
     ]
    },
    {
     "name": "stdout",
     "output_type": "stream",
     "text": [
      "Best run (out of 30 sampled):\n",
      "displaying './runs/DQNAgent/0/rl-video-episode-0.mp4' run\n",
      "reward: 1000.0\n"
     ]
    },
    {
     "name": "stderr",
     "output_type": "stream",
     "text": [
      "\n"
     ]
    },
    {
     "data": {
      "text/html": [
       "<video src=\"./runs/DQNAgent/0/rl-video-episode-0.mp4\" controls loop autoplay  >\n",
       "      Your browser does not support the <code>video</code> element.\n",
       "    </video>"
      ],
      "text/plain": [
       "<IPython.core.display.Video object>"
      ]
     },
     "metadata": {},
     "output_type": "display_data"
    },
    {
     "data": {
      "text/plain": [
       "('./runs/DQNAgent/',\n",
       " array([1000.,  779., 1000.,  999.,  814., 1000.,  786.,  970.,  792.,\n",
       "        1000.,  692., 1000.,  931., 1000.,  886., 1000., 1000., 1000.,\n",
       "        1000.,  783., 1000., 1000., 1000., 1000.,  969.,  836., 1000.,\n",
       "        1000., 1000., 1000.]))"
      ]
     },
     "execution_count": 58,
     "metadata": {},
     "output_type": "execute_result"
    }
   ],
   "source": [
    "analyze_policy(env, agent, max_steps=1000)"
   ]
  }
 ],
 "metadata": {
  "anaconda-cloud": {},
  "kernelspec": {
   "display_name": "Python 3",
   "language": "python",
   "name": "python3"
  },
  "language_info": {
   "codemirror_mode": {
    "name": "ipython",
    "version": 3
   },
   "file_extension": ".py",
   "mimetype": "text/x-python",
   "name": "python",
   "nbconvert_exporter": "python",
   "pygments_lexer": "ipython3",
   "version": "3.9.9"
  },
  "toc": {
   "base_numbering": 1,
   "nav_menu": {},
   "number_sections": true,
   "sideBar": true,
   "skip_h1_title": false,
   "title_cell": "Table of Contents",
   "title_sidebar": "Contents",
   "toc_cell": false,
   "toc_position": {
    "height": "calc(100% - 180px)",
    "left": "10px",
    "top": "150px",
    "width": "348.352px"
   },
   "toc_section_display": true,
   "toc_window_display": true
  }
 },
 "nbformat": 4,
 "nbformat_minor": 1
}
